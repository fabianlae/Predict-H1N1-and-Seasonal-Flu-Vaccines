{
  "nbformat": 4,
  "nbformat_minor": 0,
  "metadata": {
    "colab": {
      "name": "Test.ipynb",
      "provenance": [],
      "authorship_tag": "ABX9TyMBDvjmaRA8UOcMqx5rFs59",
      "include_colab_link": true
    },
    "kernelspec": {
      "name": "python3",
      "display_name": "Python 3"
    },
    "language_info": {
      "name": "python"
    }
  },
  "cells": [
    {
      "cell_type": "markdown",
      "metadata": {
        "id": "view-in-github",
        "colab_type": "text"
      },
      "source": [
        "<a href=\"https://colab.research.google.com/github/fabianlae/Predict-H1N1-and-Seasonal-Flu-Vaccines/blob/main/Test.ipynb\" target=\"_parent\"><img src=\"https://colab.research.google.com/assets/colab-badge.svg\" alt=\"Open In Colab\"/></a>"
      ]
    },
    {
      "cell_type": "code",
      "metadata": {
        "colab": {
          "base_uri": "https://localhost:8080/"
        },
        "id": "9TB8a3VdlJlF",
        "outputId": "37adb6bf-6cbd-4f90-87b6-c1f173d420b1"
      },
      "source": [
        "from google.colab import drive\n",
        "drive.mount('/content/drive')"
      ],
      "execution_count": 4,
      "outputs": [
        {
          "output_type": "stream",
          "text": [
            "Mounted at /content/drive\n"
          ],
          "name": "stdout"
        }
      ]
    },
    {
      "cell_type": "code",
      "metadata": {
        "colab": {
          "base_uri": "https://localhost:8080/"
        },
        "id": "WmzhkPK0l4xS",
        "outputId": "e5c1e263-2c31-491e-b4e6-44dfffa782ff"
      },
      "source": [
        "%cd '/content/drive/MyDrive/Challenges/Flu'"
      ],
      "execution_count": 7,
      "outputs": [
        {
          "output_type": "stream",
          "text": [
            "/content/drive/MyDrive/Challenges/Flu\n"
          ],
          "name": "stdout"
        }
      ]
    },
    {
      "cell_type": "code",
      "metadata": {
        "colab": {
          "base_uri": "https://localhost:8080/"
        },
        "id": "vrW60lytmeWl",
        "outputId": "2f8ee477-a663-4388-9515-65da57635b66"
      },
      "source": [
        "! git clone https://github.com/fabianlae/Predict-H1N1-and-Seasonal-Flu-Vaccines.git"
      ],
      "execution_count": 10,
      "outputs": [
        {
          "output_type": "stream",
          "text": [
            "fatal: destination path 'Predict-H1N1-and-Seasonal-Flu-Vaccines' already exists and is not an empty directory.\n"
          ],
          "name": "stdout"
        }
      ]
    },
    {
      "cell_type": "code",
      "metadata": {
        "colab": {
          "base_uri": "https://localhost:8080/"
        },
        "id": "9jsWOPLvmlh2",
        "outputId": "0d9b56bb-0795-4276-cf3f-672db2b32c8b"
      },
      "source": [
        "! git pull"
      ],
      "execution_count": 11,
      "outputs": [
        {
          "output_type": "stream",
          "text": [
            "fatal: not a git repository (or any parent up to mount point /content)\n",
            "Stopping at filesystem boundary (GIT_DISCOVERY_ACROSS_FILESYSTEM not set).\n"
          ],
          "name": "stdout"
        }
      ]
    },
    {
      "cell_type": "code",
      "metadata": {
        "colab": {
          "base_uri": "https://localhost:8080/"
        },
        "id": "--r-1taCn27u",
        "outputId": "beca107d-63d3-455f-c13b-f4e06ca1b1c0"
      },
      "source": [
        "import pandas as pd\n",
        "import numpy as np\n",
        "\n",
        "data = pd.read_csv('/content/drive/MyDrive/Challenges/Flu/Predict-H1N1-and-Seasonal-Flu-Vaccines/data/training_set_features.csv')\n",
        "print(data.head(2))"
      ],
      "execution_count": 13,
      "outputs": [
        {
          "output_type": "stream",
          "text": [
            "   respondent_id  h1n1_concern  ...  employment_industry  employment_occupation\n",
            "0              0           1.0  ...                  NaN                    NaN\n",
            "1              1           3.0  ...             pxcmvdjn               xgwztkwe\n",
            "\n",
            "[2 rows x 36 columns]\n"
          ],
          "name": "stdout"
        }
      ]
    }
  ]
}