{
  "nbformat": 4,
  "nbformat_minor": 0,
  "metadata": {
    "colab": {
      "name": "Flushot_Entscheidungsbaum.ipynb",
      "provenance": [],
      "collapsed_sections": [],
      "toc_visible": true,
      "include_colab_link": true
    },
    "kernelspec": {
      "name": "python3",
      "display_name": "Python 3"
    },
    "language_info": {
      "name": "python"
    },
    "accelerator": "TPU"
  },
  "cells": [
    {
      "cell_type": "markdown",
      "metadata": {
        "id": "view-in-github",
        "colab_type": "text"
      },
      "source": [
        "<a href=\"https://colab.research.google.com/github/fabianlae/Predict-H1N1-and-Seasonal-Flu-Vaccines/blob/main/Flushot_Analytics.ipynb\" target=\"_parent\"><img src=\"https://colab.research.google.com/assets/colab-badge.svg\" alt=\"Open In Colab\"/></a>"
      ]
    },
    {
      "cell_type": "markdown",
      "metadata": {
        "id": "BiyN3I8ctJT-"
      },
      "source": [
        "# Daten einlesen"
      ]
    },
    {
      "cell_type": "code",
      "metadata": {
        "id": "urJ8UkCXFZId"
      },
      "source": [
        "from pathlib import Path\n",
        "\n",
        "import numpy as np\n",
        "import pandas as pd\n",
        "import matplotlib.pyplot as plt\n",
        "import time\n",
        "import os\n",
        "from sklearn.model_selection import train_test_split\n",
        "from sklearn.metrics import roc_curve, roc_auc_score\n",
        "from sklearn.preprocessing import OneHotEncoder\n",
        "# models\n",
        "from sklearn.ensemble import GradientBoostingRegressor\n",
        "from sklearn.ensemble import RandomForestRegressor\n",
        "from xgboost import XGBRegressor\n",
        "\n",
        "\n",
        "\n",
        "os.environ['TZ'] = 'Europe/Berlin'\n",
        "time.tzset()\n",
        "\n",
        "pd.set_option(\"display.max_columns\", 100) # Display more dataframe columns in Jupyter"
      ],
      "execution_count": 24,
      "outputs": []
    },
    {
      "cell_type": "code",
      "metadata": {
        "id": "NAAvgLFWznY2",
        "colab": {
          "base_uri": "https://localhost:8080/"
        },
        "outputId": "81e68641-96b2-42c7-b703-802fb17b980a"
      },
      "source": [
        "from google.colab import drive\n",
        "drive.mount('/content/drive')"
      ],
      "execution_count": 2,
      "outputs": [
        {
          "output_type": "stream",
          "text": [
            "Mounted at /content/drive\n"
          ],
          "name": "stdout"
        }
      ]
    },
    {
      "cell_type": "code",
      "metadata": {
        "id": "_LshZu8XFn4A"
      },
      "source": [
        "# Root directory for Vincent's Google Drive \n",
        "# path = '/content/drive/MyDrive/data-flu-shot/data/'\n",
        "# Root directory for Fabian's Google Drive \n",
        "path = '/content/drive/MyDrive/Flu_challenge/Predict-H1N1-and-Seasonal-Flu-Vaccines/data/'\n",
        "root_dir=path+\"raw/\"\n",
        "\n",
        "features_df = pd.read_csv(\n",
        "    root_dir + 'training_set_features.csv', \n",
        "    index_col=\"respondent_id\"\n",
        ")\n",
        "labels_df = pd.read_csv(\n",
        "    root_dir + 'training_set_labels.csv', \n",
        "    index_col=\"respondent_id\"\n",
        ")\n",
        "test_df = pd.read_csv(\n",
        "    root_dir + 'test_set_features.csv', \n",
        "    index_col=\"respondent_id\"\n",
        ")\n",
        "\n",
        "# Get labels\n",
        "h1n1_label = np.asarray(labels_df['h1n1_vaccine'])\n",
        "seasonal_label = np.asarray(labels_df['seasonal_vaccine'])"
      ],
      "execution_count": 3,
      "outputs": []
    },
    {
      "cell_type": "markdown",
      "metadata": {
        "id": "1R2HqrL0iBkC"
      },
      "source": [
        "## Funktionen"
      ]
    },
    {
      "cell_type": "code",
      "metadata": {
        "id": "4AMWvdw9x6LL"
      },
      "source": [
        "def plot_roc(y_true, y_score, label_name, ax):\n",
        "    fpr, tpr, thresholds = roc_curve(y_true, y_score)\n",
        "    ax.plot(fpr, tpr)\n",
        "    ax.plot([0, 1], [0, 1], color='grey', linestyle='--')\n",
        "    ax.set_ylabel('TPR')\n",
        "    ax.set_xlabel('FPR')\n",
        "    ax.set_title(\n",
        "        f\"{label_name}: AUC = {roc_auc_score(y_true, y_score):.4f}\"\n",
        "    )"
      ],
      "execution_count": 14,
      "outputs": []
    },
    {
      "cell_type": "code",
      "metadata": {
        "id": "-VjzWr2-sui9",
        "colab": {
          "base_uri": "https://localhost:8080/",
          "height": 362
        },
        "outputId": "72ad158c-1249-441b-d78c-513095d41520"
      },
      "source": [
        "print(\"features_df.shape\", features_df.shape)\n",
        "features_df.head()"
      ],
      "execution_count": 4,
      "outputs": [
        {
          "output_type": "stream",
          "text": [
            "features_df.shape (26707, 35)\n"
          ],
          "name": "stdout"
        },
        {
          "output_type": "execute_result",
          "data": {
            "text/html": [
              "<div>\n",
              "<style scoped>\n",
              "    .dataframe tbody tr th:only-of-type {\n",
              "        vertical-align: middle;\n",
              "    }\n",
              "\n",
              "    .dataframe tbody tr th {\n",
              "        vertical-align: top;\n",
              "    }\n",
              "\n",
              "    .dataframe thead th {\n",
              "        text-align: right;\n",
              "    }\n",
              "</style>\n",
              "<table border=\"1\" class=\"dataframe\">\n",
              "  <thead>\n",
              "    <tr style=\"text-align: right;\">\n",
              "      <th></th>\n",
              "      <th>h1n1_concern</th>\n",
              "      <th>h1n1_knowledge</th>\n",
              "      <th>behavioral_antiviral_meds</th>\n",
              "      <th>behavioral_avoidance</th>\n",
              "      <th>behavioral_face_mask</th>\n",
              "      <th>behavioral_wash_hands</th>\n",
              "      <th>behavioral_large_gatherings</th>\n",
              "      <th>behavioral_outside_home</th>\n",
              "      <th>behavioral_touch_face</th>\n",
              "      <th>doctor_recc_h1n1</th>\n",
              "      <th>doctor_recc_seasonal</th>\n",
              "      <th>chronic_med_condition</th>\n",
              "      <th>child_under_6_months</th>\n",
              "      <th>health_worker</th>\n",
              "      <th>health_insurance</th>\n",
              "      <th>opinion_h1n1_vacc_effective</th>\n",
              "      <th>opinion_h1n1_risk</th>\n",
              "      <th>opinion_h1n1_sick_from_vacc</th>\n",
              "      <th>opinion_seas_vacc_effective</th>\n",
              "      <th>opinion_seas_risk</th>\n",
              "      <th>opinion_seas_sick_from_vacc</th>\n",
              "      <th>age_group</th>\n",
              "      <th>education</th>\n",
              "      <th>race</th>\n",
              "      <th>sex</th>\n",
              "      <th>income_poverty</th>\n",
              "      <th>marital_status</th>\n",
              "      <th>rent_or_own</th>\n",
              "      <th>employment_status</th>\n",
              "      <th>hhs_geo_region</th>\n",
              "      <th>census_msa</th>\n",
              "      <th>household_adults</th>\n",
              "      <th>household_children</th>\n",
              "      <th>employment_industry</th>\n",
              "      <th>employment_occupation</th>\n",
              "    </tr>\n",
              "    <tr>\n",
              "      <th>respondent_id</th>\n",
              "      <th></th>\n",
              "      <th></th>\n",
              "      <th></th>\n",
              "      <th></th>\n",
              "      <th></th>\n",
              "      <th></th>\n",
              "      <th></th>\n",
              "      <th></th>\n",
              "      <th></th>\n",
              "      <th></th>\n",
              "      <th></th>\n",
              "      <th></th>\n",
              "      <th></th>\n",
              "      <th></th>\n",
              "      <th></th>\n",
              "      <th></th>\n",
              "      <th></th>\n",
              "      <th></th>\n",
              "      <th></th>\n",
              "      <th></th>\n",
              "      <th></th>\n",
              "      <th></th>\n",
              "      <th></th>\n",
              "      <th></th>\n",
              "      <th></th>\n",
              "      <th></th>\n",
              "      <th></th>\n",
              "      <th></th>\n",
              "      <th></th>\n",
              "      <th></th>\n",
              "      <th></th>\n",
              "      <th></th>\n",
              "      <th></th>\n",
              "      <th></th>\n",
              "      <th></th>\n",
              "    </tr>\n",
              "  </thead>\n",
              "  <tbody>\n",
              "    <tr>\n",
              "      <th>0</th>\n",
              "      <td>1.0</td>\n",
              "      <td>0.0</td>\n",
              "      <td>0.0</td>\n",
              "      <td>0.0</td>\n",
              "      <td>0.0</td>\n",
              "      <td>0.0</td>\n",
              "      <td>0.0</td>\n",
              "      <td>1.0</td>\n",
              "      <td>1.0</td>\n",
              "      <td>0.0</td>\n",
              "      <td>0.0</td>\n",
              "      <td>0.0</td>\n",
              "      <td>0.0</td>\n",
              "      <td>0.0</td>\n",
              "      <td>1.0</td>\n",
              "      <td>3.0</td>\n",
              "      <td>1.0</td>\n",
              "      <td>2.0</td>\n",
              "      <td>2.0</td>\n",
              "      <td>1.0</td>\n",
              "      <td>2.0</td>\n",
              "      <td>55 - 64 Years</td>\n",
              "      <td>&lt; 12 Years</td>\n",
              "      <td>White</td>\n",
              "      <td>Female</td>\n",
              "      <td>Below Poverty</td>\n",
              "      <td>Not Married</td>\n",
              "      <td>Own</td>\n",
              "      <td>Not in Labor Force</td>\n",
              "      <td>oxchjgsf</td>\n",
              "      <td>Non-MSA</td>\n",
              "      <td>0.0</td>\n",
              "      <td>0.0</td>\n",
              "      <td>NaN</td>\n",
              "      <td>NaN</td>\n",
              "    </tr>\n",
              "    <tr>\n",
              "      <th>1</th>\n",
              "      <td>3.0</td>\n",
              "      <td>2.0</td>\n",
              "      <td>0.0</td>\n",
              "      <td>1.0</td>\n",
              "      <td>0.0</td>\n",
              "      <td>1.0</td>\n",
              "      <td>0.0</td>\n",
              "      <td>1.0</td>\n",
              "      <td>1.0</td>\n",
              "      <td>0.0</td>\n",
              "      <td>0.0</td>\n",
              "      <td>0.0</td>\n",
              "      <td>0.0</td>\n",
              "      <td>0.0</td>\n",
              "      <td>1.0</td>\n",
              "      <td>5.0</td>\n",
              "      <td>4.0</td>\n",
              "      <td>4.0</td>\n",
              "      <td>4.0</td>\n",
              "      <td>2.0</td>\n",
              "      <td>4.0</td>\n",
              "      <td>35 - 44 Years</td>\n",
              "      <td>12 Years</td>\n",
              "      <td>White</td>\n",
              "      <td>Male</td>\n",
              "      <td>Below Poverty</td>\n",
              "      <td>Not Married</td>\n",
              "      <td>Rent</td>\n",
              "      <td>Employed</td>\n",
              "      <td>bhuqouqj</td>\n",
              "      <td>MSA, Not Principle  City</td>\n",
              "      <td>0.0</td>\n",
              "      <td>0.0</td>\n",
              "      <td>pxcmvdjn</td>\n",
              "      <td>xgwztkwe</td>\n",
              "    </tr>\n",
              "    <tr>\n",
              "      <th>2</th>\n",
              "      <td>1.0</td>\n",
              "      <td>1.0</td>\n",
              "      <td>0.0</td>\n",
              "      <td>1.0</td>\n",
              "      <td>0.0</td>\n",
              "      <td>0.0</td>\n",
              "      <td>0.0</td>\n",
              "      <td>0.0</td>\n",
              "      <td>0.0</td>\n",
              "      <td>NaN</td>\n",
              "      <td>NaN</td>\n",
              "      <td>1.0</td>\n",
              "      <td>0.0</td>\n",
              "      <td>0.0</td>\n",
              "      <td>NaN</td>\n",
              "      <td>3.0</td>\n",
              "      <td>1.0</td>\n",
              "      <td>1.0</td>\n",
              "      <td>4.0</td>\n",
              "      <td>1.0</td>\n",
              "      <td>2.0</td>\n",
              "      <td>18 - 34 Years</td>\n",
              "      <td>College Graduate</td>\n",
              "      <td>White</td>\n",
              "      <td>Male</td>\n",
              "      <td>&lt;= $75,000, Above Poverty</td>\n",
              "      <td>Not Married</td>\n",
              "      <td>Own</td>\n",
              "      <td>Employed</td>\n",
              "      <td>qufhixun</td>\n",
              "      <td>MSA, Not Principle  City</td>\n",
              "      <td>2.0</td>\n",
              "      <td>0.0</td>\n",
              "      <td>rucpziij</td>\n",
              "      <td>xtkaffoo</td>\n",
              "    </tr>\n",
              "    <tr>\n",
              "      <th>3</th>\n",
              "      <td>1.0</td>\n",
              "      <td>1.0</td>\n",
              "      <td>0.0</td>\n",
              "      <td>1.0</td>\n",
              "      <td>0.0</td>\n",
              "      <td>1.0</td>\n",
              "      <td>1.0</td>\n",
              "      <td>0.0</td>\n",
              "      <td>0.0</td>\n",
              "      <td>0.0</td>\n",
              "      <td>1.0</td>\n",
              "      <td>1.0</td>\n",
              "      <td>0.0</td>\n",
              "      <td>0.0</td>\n",
              "      <td>NaN</td>\n",
              "      <td>3.0</td>\n",
              "      <td>3.0</td>\n",
              "      <td>5.0</td>\n",
              "      <td>5.0</td>\n",
              "      <td>4.0</td>\n",
              "      <td>1.0</td>\n",
              "      <td>65+ Years</td>\n",
              "      <td>12 Years</td>\n",
              "      <td>White</td>\n",
              "      <td>Female</td>\n",
              "      <td>Below Poverty</td>\n",
              "      <td>Not Married</td>\n",
              "      <td>Rent</td>\n",
              "      <td>Not in Labor Force</td>\n",
              "      <td>lrircsnp</td>\n",
              "      <td>MSA, Principle City</td>\n",
              "      <td>0.0</td>\n",
              "      <td>0.0</td>\n",
              "      <td>NaN</td>\n",
              "      <td>NaN</td>\n",
              "    </tr>\n",
              "    <tr>\n",
              "      <th>4</th>\n",
              "      <td>2.0</td>\n",
              "      <td>1.0</td>\n",
              "      <td>0.0</td>\n",
              "      <td>1.0</td>\n",
              "      <td>0.0</td>\n",
              "      <td>1.0</td>\n",
              "      <td>1.0</td>\n",
              "      <td>0.0</td>\n",
              "      <td>1.0</td>\n",
              "      <td>0.0</td>\n",
              "      <td>0.0</td>\n",
              "      <td>0.0</td>\n",
              "      <td>0.0</td>\n",
              "      <td>0.0</td>\n",
              "      <td>NaN</td>\n",
              "      <td>3.0</td>\n",
              "      <td>3.0</td>\n",
              "      <td>2.0</td>\n",
              "      <td>3.0</td>\n",
              "      <td>1.0</td>\n",
              "      <td>4.0</td>\n",
              "      <td>45 - 54 Years</td>\n",
              "      <td>Some College</td>\n",
              "      <td>White</td>\n",
              "      <td>Female</td>\n",
              "      <td>&lt;= $75,000, Above Poverty</td>\n",
              "      <td>Married</td>\n",
              "      <td>Own</td>\n",
              "      <td>Employed</td>\n",
              "      <td>qufhixun</td>\n",
              "      <td>MSA, Not Principle  City</td>\n",
              "      <td>1.0</td>\n",
              "      <td>0.0</td>\n",
              "      <td>wxleyezf</td>\n",
              "      <td>emcorrxb</td>\n",
              "    </tr>\n",
              "  </tbody>\n",
              "</table>\n",
              "</div>"
            ],
            "text/plain": [
              "               h1n1_concern  h1n1_knowledge  behavioral_antiviral_meds  \\\n",
              "respondent_id                                                            \n",
              "0                       1.0             0.0                        0.0   \n",
              "1                       3.0             2.0                        0.0   \n",
              "2                       1.0             1.0                        0.0   \n",
              "3                       1.0             1.0                        0.0   \n",
              "4                       2.0             1.0                        0.0   \n",
              "\n",
              "               behavioral_avoidance  behavioral_face_mask  \\\n",
              "respondent_id                                               \n",
              "0                               0.0                   0.0   \n",
              "1                               1.0                   0.0   \n",
              "2                               1.0                   0.0   \n",
              "3                               1.0                   0.0   \n",
              "4                               1.0                   0.0   \n",
              "\n",
              "               behavioral_wash_hands  behavioral_large_gatherings  \\\n",
              "respondent_id                                                       \n",
              "0                                0.0                          0.0   \n",
              "1                                1.0                          0.0   \n",
              "2                                0.0                          0.0   \n",
              "3                                1.0                          1.0   \n",
              "4                                1.0                          1.0   \n",
              "\n",
              "               behavioral_outside_home  behavioral_touch_face  \\\n",
              "respondent_id                                                   \n",
              "0                                  1.0                    1.0   \n",
              "1                                  1.0                    1.0   \n",
              "2                                  0.0                    0.0   \n",
              "3                                  0.0                    0.0   \n",
              "4                                  0.0                    1.0   \n",
              "\n",
              "               doctor_recc_h1n1  doctor_recc_seasonal  chronic_med_condition  \\\n",
              "respondent_id                                                                  \n",
              "0                           0.0                   0.0                    0.0   \n",
              "1                           0.0                   0.0                    0.0   \n",
              "2                           NaN                   NaN                    1.0   \n",
              "3                           0.0                   1.0                    1.0   \n",
              "4                           0.0                   0.0                    0.0   \n",
              "\n",
              "               child_under_6_months  health_worker  health_insurance  \\\n",
              "respondent_id                                                          \n",
              "0                               0.0            0.0               1.0   \n",
              "1                               0.0            0.0               1.0   \n",
              "2                               0.0            0.0               NaN   \n",
              "3                               0.0            0.0               NaN   \n",
              "4                               0.0            0.0               NaN   \n",
              "\n",
              "               opinion_h1n1_vacc_effective  opinion_h1n1_risk  \\\n",
              "respondent_id                                                   \n",
              "0                                      3.0                1.0   \n",
              "1                                      5.0                4.0   \n",
              "2                                      3.0                1.0   \n",
              "3                                      3.0                3.0   \n",
              "4                                      3.0                3.0   \n",
              "\n",
              "               opinion_h1n1_sick_from_vacc  opinion_seas_vacc_effective  \\\n",
              "respondent_id                                                             \n",
              "0                                      2.0                          2.0   \n",
              "1                                      4.0                          4.0   \n",
              "2                                      1.0                          4.0   \n",
              "3                                      5.0                          5.0   \n",
              "4                                      2.0                          3.0   \n",
              "\n",
              "               opinion_seas_risk  opinion_seas_sick_from_vacc      age_group  \\\n",
              "respondent_id                                                                  \n",
              "0                            1.0                          2.0  55 - 64 Years   \n",
              "1                            2.0                          4.0  35 - 44 Years   \n",
              "2                            1.0                          2.0  18 - 34 Years   \n",
              "3                            4.0                          1.0      65+ Years   \n",
              "4                            1.0                          4.0  45 - 54 Years   \n",
              "\n",
              "                      education   race     sex             income_poverty  \\\n",
              "respondent_id                                                               \n",
              "0                    < 12 Years  White  Female              Below Poverty   \n",
              "1                      12 Years  White    Male              Below Poverty   \n",
              "2              College Graduate  White    Male  <= $75,000, Above Poverty   \n",
              "3                      12 Years  White  Female              Below Poverty   \n",
              "4                  Some College  White  Female  <= $75,000, Above Poverty   \n",
              "\n",
              "              marital_status rent_or_own   employment_status hhs_geo_region  \\\n",
              "respondent_id                                                                 \n",
              "0                Not Married         Own  Not in Labor Force       oxchjgsf   \n",
              "1                Not Married        Rent            Employed       bhuqouqj   \n",
              "2                Not Married         Own            Employed       qufhixun   \n",
              "3                Not Married        Rent  Not in Labor Force       lrircsnp   \n",
              "4                    Married         Own            Employed       qufhixun   \n",
              "\n",
              "                             census_msa  household_adults  household_children  \\\n",
              "respondent_id                                                                   \n",
              "0                               Non-MSA               0.0                 0.0   \n",
              "1              MSA, Not Principle  City               0.0                 0.0   \n",
              "2              MSA, Not Principle  City               2.0                 0.0   \n",
              "3                   MSA, Principle City               0.0                 0.0   \n",
              "4              MSA, Not Principle  City               1.0                 0.0   \n",
              "\n",
              "              employment_industry employment_occupation  \n",
              "respondent_id                                            \n",
              "0                             NaN                   NaN  \n",
              "1                        pxcmvdjn              xgwztkwe  \n",
              "2                        rucpziij              xtkaffoo  \n",
              "3                             NaN                   NaN  \n",
              "4                        wxleyezf              emcorrxb  "
            ]
          },
          "metadata": {},
          "execution_count": 4
        }
      ]
    },
    {
      "cell_type": "code",
      "metadata": {
        "id": "BKbJN-rFsx--",
        "colab": {
          "base_uri": "https://localhost:8080/"
        },
        "outputId": "55c0a531-65f3-48e5-a17f-002ccfac1e8a"
      },
      "source": [
        "features_df.dtypes"
      ],
      "execution_count": null,
      "outputs": [
        {
          "output_type": "execute_result",
          "data": {
            "text/plain": [
              "h1n1_concern                   float64\n",
              "h1n1_knowledge                 float64\n",
              "behavioral_antiviral_meds      float64\n",
              "behavioral_avoidance           float64\n",
              "behavioral_face_mask           float64\n",
              "behavioral_wash_hands          float64\n",
              "behavioral_large_gatherings    float64\n",
              "behavioral_outside_home        float64\n",
              "behavioral_touch_face          float64\n",
              "doctor_recc_h1n1               float64\n",
              "doctor_recc_seasonal           float64\n",
              "chronic_med_condition          float64\n",
              "child_under_6_months           float64\n",
              "health_worker                  float64\n",
              "health_insurance               float64\n",
              "opinion_h1n1_vacc_effective    float64\n",
              "opinion_h1n1_risk              float64\n",
              "opinion_h1n1_sick_from_vacc    float64\n",
              "opinion_seas_vacc_effective    float64\n",
              "opinion_seas_risk              float64\n",
              "opinion_seas_sick_from_vacc    float64\n",
              "age_group                       object\n",
              "education                       object\n",
              "race                            object\n",
              "sex                             object\n",
              "income_poverty                  object\n",
              "marital_status                  object\n",
              "rent_or_own                     object\n",
              "employment_status               object\n",
              "hhs_geo_region                  object\n",
              "census_msa                      object\n",
              "household_adults               float64\n",
              "household_children             float64\n",
              "employment_industry             object\n",
              "employment_occupation           object\n",
              "dtype: object"
            ]
          },
          "metadata": {
            "tags": []
          },
          "execution_count": 29
        }
      ]
    },
    {
      "cell_type": "code",
      "metadata": {
        "id": "v8TzZrxQtNpX",
        "outputId": "2e960553-24fc-4584-a8f8-0a59c62512a2",
        "colab": {
          "base_uri": "https://localhost:8080/"
        }
      },
      "source": [
        "for col in features_df:\n",
        "    print(f'{col}:\\t\\t{features_df[col].unique()}')"
      ],
      "execution_count": 89,
      "outputs": [
        {
          "output_type": "stream",
          "text": [
            "h1n1_concern:\t\t[ 1.  3.  2.  0. nan]\n",
            "h1n1_knowledge:\t\t[ 0.  2.  1. nan]\n",
            "behavioral_antiviral_meds:\t\t[ 0.  1. nan]\n",
            "behavioral_avoidance:\t\t[ 0.  1. nan]\n",
            "behavioral_face_mask:\t\t[ 0.  1. nan]\n",
            "behavioral_wash_hands:\t\t[ 0.  1. nan]\n",
            "behavioral_large_gatherings:\t\t[ 0.  1. nan]\n",
            "behavioral_outside_home:\t\t[ 1.  0. nan]\n",
            "behavioral_touch_face:\t\t[ 1.  0. nan]\n",
            "doctor_recc_h1n1:\t\t[ 0. nan  1.]\n",
            "doctor_recc_seasonal:\t\t[ 0. nan  1.]\n",
            "chronic_med_condition:\t\t[ 0.  1. nan]\n",
            "child_under_6_months:\t\t[ 0.  1. nan]\n",
            "health_worker:\t\t[ 0.  1. nan]\n",
            "health_insurance:\t\t[ 1. nan  0.]\n",
            "opinion_h1n1_vacc_effective:\t\t[ 3.  5.  4.  2.  1. nan]\n",
            "opinion_h1n1_risk:\t\t[ 1.  4.  3.  2.  5. nan]\n",
            "opinion_h1n1_sick_from_vacc:\t\t[ 2.  4.  1.  5.  3. nan]\n",
            "opinion_seas_vacc_effective:\t\t[ 2.  4.  5.  3.  1. nan]\n",
            "opinion_seas_risk:\t\t[ 1.  2.  4.  3.  5. nan]\n",
            "opinion_seas_sick_from_vacc:\t\t[ 2.  4.  1.  5. nan  3.]\n",
            "age_group:\t\t['55 - 64 Years' '35 - 44 Years' '18 - 34 Years' '65+ Years'\n",
            " '45 - 54 Years']\n",
            "education:\t\t['< 12 Years' '12 Years' 'College Graduate' 'Some College' nan]\n",
            "race:\t\t['White' 'Black' 'Other or Multiple' 'Hispanic']\n",
            "sex:\t\t['Female' 'Male']\n",
            "income_poverty:\t\t['Below Poverty' '<= $75,000, Above Poverty' '> $75,000' nan]\n",
            "marital_status:\t\t['Not Married' 'Married' nan]\n",
            "rent_or_own:\t\t['Own' 'Rent' nan]\n",
            "employment_status:\t\t['Not in Labor Force' 'Employed' 'Unemployed' nan]\n",
            "hhs_geo_region:\t\t['oxchjgsf' 'bhuqouqj' 'qufhixun' 'lrircsnp' 'atmpeygn' 'lzgpxyit'\n",
            " 'fpwskwrf' 'mlyzmhmf' 'dqpwygqj' 'kbazzjca']\n",
            "census_msa:\t\t['Non-MSA' 'MSA, Not Principle  City' 'MSA, Principle City']\n",
            "household_adults:\t\t[ 0.  2.  1.  3. nan]\n",
            "household_children:\t\t[ 0.  3.  2.  1. nan]\n",
            "employment_industry:\t\t[nan 'pxcmvdjn' 'rucpziij' 'wxleyezf' 'saaquncn' 'xicduogh' 'ldnlellj'\n",
            " 'wlfvacwt' 'nduyfdeo' 'fcxhlnwr' 'vjjrobsf' 'arjwrbjb' 'atmlpfrs'\n",
            " 'msuufmds' 'xqicxuve' 'phxvnwax' 'dotnnunm' 'mfikgejo' 'cfqqtusy'\n",
            " 'mcubkhph' 'haxffmxo' 'qnlwzans']\n",
            "employment_occupation:\t\t[nan 'xgwztkwe' 'xtkaffoo' 'emcorrxb' 'vlluhbov' 'xqwwgdyp' 'ccgxvspp'\n",
            " 'qxajmpny' 'kldqjyjy' 'mxkfnird' 'hfxkjkmi' 'bxpfxfdn' 'ukymxvdu'\n",
            " 'cmhcxjea' 'haliazsg' 'dlvbwzss' 'xzmlyyjv' 'oijqvulv' 'rcertsgn'\n",
            " 'tfqavkke' 'hodpvpew' 'uqqtjvyb' 'pvmttkik' 'dcjcmpih']\n",
            "behavior:\t\t[2. 4. 1. 3. 0. 5. 6. 7.]\n"
          ],
          "name": "stdout"
        }
      ]
    },
    {
      "cell_type": "code",
      "metadata": {
        "id": "g-bmmollsjW9",
        "colab": {
          "base_uri": "https://localhost:8080/",
          "height": 250
        },
        "outputId": "4134b87c-f47b-486f-94ee-d7832960c778"
      },
      "source": [
        "print(\"labels_df.shape\", labels_df.shape)\n",
        "labels_df.head()"
      ],
      "execution_count": null,
      "outputs": [
        {
          "output_type": "stream",
          "text": [
            "labels_df.shape (26707, 2)\n"
          ],
          "name": "stdout"
        },
        {
          "output_type": "execute_result",
          "data": {
            "text/html": [
              "<div>\n",
              "<style scoped>\n",
              "    .dataframe tbody tr th:only-of-type {\n",
              "        vertical-align: middle;\n",
              "    }\n",
              "\n",
              "    .dataframe tbody tr th {\n",
              "        vertical-align: top;\n",
              "    }\n",
              "\n",
              "    .dataframe thead th {\n",
              "        text-align: right;\n",
              "    }\n",
              "</style>\n",
              "<table border=\"1\" class=\"dataframe\">\n",
              "  <thead>\n",
              "    <tr style=\"text-align: right;\">\n",
              "      <th></th>\n",
              "      <th>h1n1_vaccine</th>\n",
              "      <th>seasonal_vaccine</th>\n",
              "    </tr>\n",
              "    <tr>\n",
              "      <th>respondent_id</th>\n",
              "      <th></th>\n",
              "      <th></th>\n",
              "    </tr>\n",
              "  </thead>\n",
              "  <tbody>\n",
              "    <tr>\n",
              "      <th>0</th>\n",
              "      <td>0</td>\n",
              "      <td>0</td>\n",
              "    </tr>\n",
              "    <tr>\n",
              "      <th>1</th>\n",
              "      <td>0</td>\n",
              "      <td>1</td>\n",
              "    </tr>\n",
              "    <tr>\n",
              "      <th>2</th>\n",
              "      <td>0</td>\n",
              "      <td>0</td>\n",
              "    </tr>\n",
              "    <tr>\n",
              "      <th>3</th>\n",
              "      <td>0</td>\n",
              "      <td>1</td>\n",
              "    </tr>\n",
              "    <tr>\n",
              "      <th>4</th>\n",
              "      <td>0</td>\n",
              "      <td>0</td>\n",
              "    </tr>\n",
              "  </tbody>\n",
              "</table>\n",
              "</div>"
            ],
            "text/plain": [
              "               h1n1_vaccine  seasonal_vaccine\n",
              "respondent_id                                \n",
              "0                         0                 0\n",
              "1                         0                 1\n",
              "2                         0                 0\n",
              "3                         0                 1\n",
              "4                         0                 0"
            ]
          },
          "metadata": {
            "tags": []
          },
          "execution_count": 30
        }
      ]
    },
    {
      "cell_type": "markdown",
      "metadata": {
        "id": "I2fYF6uJwS_O"
      },
      "source": [
        "# Analytics\n",
        "\n"
      ]
    },
    {
      "cell_type": "markdown",
      "metadata": {
        "id": "nw7A1fC0yaGt"
      },
      "source": [
        "## Preprocessing"
      ]
    },
    {
      "cell_type": "code",
      "metadata": {
        "id": "ZE7Eq2javq46"
      },
      "source": [
        "from sklearn.preprocessing import StandardScaler\n",
        "from sklearn.impute import SimpleImputer\n",
        "from sklearn.compose import ColumnTransformer\n",
        "\n",
        "from sklearn.linear_model import LogisticRegression\n",
        "from sklearn.ensemble import RandomForestRegressor\n",
        "from sklearn.multioutput import MultiOutputClassifier\n",
        "\n",
        "from sklearn.pipeline import Pipeline\n",
        "\n",
        "from sklearn.model_selection import train_test_split\n",
        "\n",
        "from sklearn.metrics import roc_curve, roc_auc_score\n",
        "\n",
        "RANDOM_SEED = 6    # Set a random seed for reproducibility!"
      ],
      "execution_count": null,
      "outputs": []
    },
    {
      "cell_type": "code",
      "metadata": {
        "id": "WpYJwdwZwtUT",
        "colab": {
          "base_uri": "https://localhost:8080/"
        },
        "outputId": "3350f984-496d-40c0-9f12-b572f63f1d68"
      },
      "source": [
        "numeric_cols = features_df.columns[features_df.dtypes != \"object\"].values\n",
        "print(numeric_cols)"
      ],
      "execution_count": null,
      "outputs": [
        {
          "output_type": "stream",
          "text": [
            "['h1n1_concern' 'h1n1_knowledge' 'behavioral_antiviral_meds'\n",
            " 'behavioral_avoidance' 'behavioral_face_mask' 'behavioral_wash_hands'\n",
            " 'behavioral_large_gatherings' 'behavioral_outside_home'\n",
            " 'behavioral_touch_face' 'doctor_recc_h1n1' 'doctor_recc_seasonal'\n",
            " 'chronic_med_condition' 'child_under_6_months' 'health_worker'\n",
            " 'health_insurance' 'opinion_h1n1_vacc_effective' 'opinion_h1n1_risk'\n",
            " 'opinion_h1n1_sick_from_vacc' 'opinion_seas_vacc_effective'\n",
            " 'opinion_seas_risk' 'opinion_seas_sick_from_vacc' 'household_adults'\n",
            " 'household_children']\n"
          ],
          "name": "stdout"
        }
      ]
    },
    {
      "cell_type": "code",
      "metadata": {
        "id": "RVt9dHSoww0o"
      },
      "source": [
        "# chain preprocessing into a Pipeline object\n",
        "# each step is a tuple of (name you chose, sklearn transformer)\n",
        "numeric_preprocessing_steps = Pipeline([\n",
        "    ('standard_scaler', StandardScaler()),\n",
        "    ('simple_imputer', SimpleImputer(strategy='median'))\n",
        "])\n",
        "\n",
        "# create the preprocessor stage of final pipeline\n",
        "# each entry in the transformer list is a tuple of\n",
        "# (name you choose, sklearn transformer, list of columns)\n",
        "preprocessor = ColumnTransformer(\n",
        "    transformers = [\n",
        "        (\"numeric\", numeric_preprocessing_steps, numeric_cols)\n",
        "    ],\n",
        "    remainder = \"drop\"\n",
        ")"
      ],
      "execution_count": null,
      "outputs": []
    },
    {
      "cell_type": "markdown",
      "metadata": {
        "id": "GKMFYQZk3q50"
      },
      "source": [
        "### One Hot Encoding"
      ]
    },
    {
      "cell_type": "code",
      "metadata": {
        "id": "tmJi31-53mk7"
      },
      "source": [
        "from sklearn import svm\n",
        "from sklearn.preprocessing import OneHotEncoder\n"
      ],
      "execution_count": null,
      "outputs": []
    },
    {
      "cell_type": "code",
      "metadata": {
        "id": "VvFlBp373mp8"
      },
      "source": [
        "numeric_cols = features_df.columns[features_df.dtypes != \"object\"].values\n",
        "object_cols = features_df.columns[features_df.dtypes == \"object\"].values"
      ],
      "execution_count": null,
      "outputs": []
    },
    {
      "cell_type": "code",
      "metadata": {
        "id": "-pMrf7d27rEH"
      },
      "source": [
        "#neues_df = df[numerische spalten].fillna(df.mean(), inplace=True)\n",
        "features_df_num=features_df[numeric_cols].fillna(features_df.median(),inplace=False)"
      ],
      "execution_count": null,
      "outputs": []
    },
    {
      "cell_type": "code",
      "metadata": {
        "id": "jWLRaLnF_TUU"
      },
      "source": [
        "features_df_obj=features_df[object_cols].fillna(features_df.mode().iloc[0])"
      ],
      "execution_count": null,
      "outputs": []
    },
    {
      "cell_type": "code",
      "metadata": {
        "id": "adTxW676_0oQ"
      },
      "source": [
        "# features_df_preprocessed=features_df_num.merge(features_df_num_obj,how='inner',on='respondent_id')\n",
        "# features_df_preprocessed"
      ],
      "execution_count": null,
      "outputs": []
    },
    {
      "cell_type": "code",
      "metadata": {
        "id": "rxnkHoVrB708"
      },
      "source": [
        "rows = []\n",
        "for index, row in features_df_num.iterrows():\n",
        "  rows.append(row.to_numpy(dtype='int'))\n",
        "features_array_num = np.asarray(rows)\n",
        "\n",
        "rows = []\n",
        "for index, row in features_df_obj.iterrows():\n",
        "  rows.append(row)\n",
        "features_array_obj = np.asarray(rows)"
      ],
      "execution_count": null,
      "outputs": []
    },
    {
      "cell_type": "code",
      "metadata": {
        "id": "rhcGObCn55I6",
        "colab": {
          "base_uri": "https://localhost:8080/"
        },
        "outputId": "8a3f2519-ebec-4a5b-b3a1-47dfde56027c"
      },
      "source": [
        "enc=OneHotEncoder(handle_unknown='ignore')\n",
        "enc.fit(features_array_obj)\n",
        "enc.categories_"
      ],
      "execution_count": null,
      "outputs": [
        {
          "output_type": "execute_result",
          "data": {
            "text/plain": [
              "[array(['18 - 34 Years', '35 - 44 Years', '45 - 54 Years', '55 - 64 Years',\n",
              "        '65+ Years'], dtype=object),\n",
              " array(['12 Years', '< 12 Years', 'College Graduate', 'Some College'],\n",
              "       dtype=object),\n",
              " array(['Black', 'Hispanic', 'Other or Multiple', 'White'], dtype=object),\n",
              " array(['Female', 'Male'], dtype=object),\n",
              " array(['<= $75,000, Above Poverty', '> $75,000', 'Below Poverty'],\n",
              "       dtype=object),\n",
              " array(['Married', 'Not Married'], dtype=object),\n",
              " array(['Own', 'Rent'], dtype=object),\n",
              " array(['Employed', 'Not in Labor Force', 'Unemployed'], dtype=object),\n",
              " array(['atmpeygn', 'bhuqouqj', 'dqpwygqj', 'fpwskwrf', 'kbazzjca',\n",
              "        'lrircsnp', 'lzgpxyit', 'mlyzmhmf', 'oxchjgsf', 'qufhixun'],\n",
              "       dtype=object),\n",
              " array(['MSA, Not Principle  City', 'MSA, Principle City', 'Non-MSA'],\n",
              "       dtype=object),\n",
              " array(['arjwrbjb', 'atmlpfrs', 'cfqqtusy', 'dotnnunm', 'fcxhlnwr',\n",
              "        'haxffmxo', 'ldnlellj', 'mcubkhph', 'mfikgejo', 'msuufmds',\n",
              "        'nduyfdeo', 'phxvnwax', 'pxcmvdjn', 'qnlwzans', 'rucpziij',\n",
              "        'saaquncn', 'vjjrobsf', 'wlfvacwt', 'wxleyezf', 'xicduogh',\n",
              "        'xqicxuve'], dtype=object),\n",
              " array(['bxpfxfdn', 'ccgxvspp', 'cmhcxjea', 'dcjcmpih', 'dlvbwzss',\n",
              "        'emcorrxb', 'haliazsg', 'hfxkjkmi', 'hodpvpew', 'kldqjyjy',\n",
              "        'mxkfnird', 'oijqvulv', 'pvmttkik', 'qxajmpny', 'rcertsgn',\n",
              "        'tfqavkke', 'ukymxvdu', 'uqqtjvyb', 'vlluhbov', 'xgwztkwe',\n",
              "        'xqwwgdyp', 'xtkaffoo', 'xzmlyyjv'], dtype=object)]"
            ]
          },
          "metadata": {
            "tags": []
          },
          "execution_count": 12
        }
      ]
    },
    {
      "cell_type": "code",
      "metadata": {
        "id": "5HVJXhF6Ckcr",
        "colab": {
          "base_uri": "https://localhost:8080/"
        },
        "outputId": "9e47606d-bdc7-4826-9d13-a02e2161393a"
      },
      "source": [
        "encoded_features_array=enc.transform(features_array_obj).toarray()\n",
        "encoded_features_array"
      ],
      "execution_count": null,
      "outputs": [
        {
          "output_type": "execute_result",
          "data": {
            "text/plain": [
              "array([[0., 0., 0., ..., 0., 1., 0.],\n",
              "       [0., 1., 0., ..., 0., 0., 0.],\n",
              "       [1., 0., 0., ..., 0., 1., 0.],\n",
              "       ...,\n",
              "       [0., 0., 0., ..., 0., 1., 0.],\n",
              "       [1., 0., 0., ..., 0., 0., 0.],\n",
              "       [0., 0., 0., ..., 0., 1., 0.]])"
            ]
          },
          "metadata": {
            "tags": []
          },
          "execution_count": 13
        }
      ]
    },
    {
      "cell_type": "code",
      "metadata": {
        "id": "0cT5tXN8Ezh2"
      },
      "source": [
        "final_features_array=np.column_stack((features_array_num,encoded_features_array))"
      ],
      "execution_count": null,
      "outputs": []
    },
    {
      "cell_type": "code",
      "metadata": {
        "id": "cT7g6RhUGpxH",
        "colab": {
          "base_uri": "https://localhost:8080/"
        },
        "outputId": "be7b8dd7-e5bb-40fe-dfc5-440a6596dd1f"
      },
      "source": [
        "final_features_array.shape"
      ],
      "execution_count": null,
      "outputs": [
        {
          "output_type": "execute_result",
          "data": {
            "text/plain": [
              "(26707, 105)"
            ]
          },
          "metadata": {
            "tags": []
          },
          "execution_count": 15
        }
      ]
    },
    {
      "cell_type": "code",
      "metadata": {
        "id": "lK5alQ4vylpX"
      },
      "source": [
        "# Feature Engineering\n",
        "\n",
        "# SUm all behavior values to a behavior indicator (feature engineering):\n",
        "behavior = []\n",
        "for i, row in features_df.iterrows():\n",
        "  behavior.append(row[2:9].sum())\n",
        "\n",
        "# add to features\n",
        "features_df['behavior'] = behavior\n",
        "\n",
        "behavior_test = []\n",
        "for i, row in test_df.iterrows():\n",
        "  behavior_test.append(row[2:9].sum())\n",
        "\n",
        "# add to test_set\n",
        "test_df['behavior'] = behavior_test"
      ],
      "execution_count": 102,
      "outputs": []
    },
    {
      "cell_type": "code",
      "metadata": {
        "id": "r5FjcT4Aga6f"
      },
      "source": [
        "def preproc(features, imputation=True, OHE=True):\n",
        "  '''\n",
        "    Preprocessing for feature data comprising imputation and One Hot Encoding\n",
        "  '''\n",
        "  if imputation:\n",
        "    # split features in numeric and categorical\n",
        "    numeric_cols = features.columns[features.dtypes != \"object\"].values\n",
        "    object_cols = features.columns[features.dtypes == \"object\"].values\n",
        "\n",
        "    # impute data\n",
        "    features_num_imputed = features[numeric_cols].fillna(features.median(),inplace=False)\n",
        "    # features_obj_imputed = features[object_cols].fillna(features.mode().iloc[0])\n",
        "    features_obj_imputed = features[object_cols].fillna('missing')\n",
        "\n",
        "    # create arrays\n",
        "    rows = []\n",
        "    for index, row in features_num_imputed.iterrows():\n",
        "      rows.append(row.to_numpy(dtype='int'))\n",
        "    features_num_array = np.asarray(rows)\n",
        "\n",
        "    rows = []\n",
        "    for index, row in features_obj_imputed.iterrows():\n",
        "      rows.append(row)\n",
        "    features_obj_array = np.asarray(rows)\n",
        "\n",
        "  if OHE:\n",
        "    # One Hot Encode categorical values\n",
        "    enc = OneHotEncoder(handle_unknown='ignore')\n",
        "    enc.fit(features_obj_array)\n",
        "    encoded_features_array = enc.transform(features_obj_array).toarray()\n",
        "    # merge categorical and numerical data\n",
        "    final_features_array = np.column_stack((features_num_array, encoded_features_array))\n",
        "    print(final_features_array.shape)\n",
        "    \n",
        "    return final_features_array"
      ],
      "execution_count": 104,
      "outputs": []
    },
    {
      "cell_type": "code",
      "metadata": {
        "id": "3vBKbmO5jhby",
        "colab": {
          "base_uri": "https://localhost:8080/"
        },
        "outputId": "aa5c6668-2694-4bf8-f6aa-732e38aa4dee"
      },
      "source": [
        "features_train = preproc(features=features_df)\n",
        "features_test = preproc(features=test_df)"
      ],
      "execution_count": 105,
      "outputs": [
        {
          "output_type": "stream",
          "text": [
            "(26707, 113)\n",
            "(26708, 113)\n"
          ],
          "name": "stdout"
        }
      ]
    },
    {
      "cell_type": "code",
      "metadata": {
        "id": "VWV-NBxW0Syy"
      },
      "source": [
        "X_train_h1n1, X_eval_h1n1, y_train_h1n1, y_eval_h1n1 = train_test_split(features_train, h1n1_label, test_size=0.2, random_state=42)\n",
        "X_train_seasonal, X_eval_seasonal, y_train_seasonal, y_eval_seasonal = train_test_split(features_train, seasonal_label, test_size=0.2, random_state=42)"
      ],
      "execution_count": 92,
      "outputs": []
    },
    {
      "cell_type": "markdown",
      "metadata": {
        "id": "aQE1Crsipde0"
      },
      "source": [
        "#### Data augmentation"
      ]
    },
    {
      "cell_type": "code",
      "metadata": {
        "id": "oUZbLkTql-91"
      },
      "source": [
        "# Regression data augmentation\n",
        "# https://rpmcruz.github.io/machine%20learning/2018/05/11/regression-data-augmentation.html\n",
        "def noise(X, y, n, sigma):\n",
        "    _X = X.copy()\n",
        "    _y = y.copy()\n",
        "    for _ in range(n):\n",
        "        X = np.r_[X, _X + np.random.randn(*_X.shape)*sigma]\n",
        "        y = np.r_[y, _y]\n",
        "    return X, y"
      ],
      "execution_count": null,
      "outputs": []
    },
    {
      "cell_type": "code",
      "metadata": {
        "id": "wnEm6eyUl-6U"
      },
      "source": [
        "x_aug, y_aug = noise(X_train_h1n1, y_train_h1n1, n=2, sigma=2)"
      ],
      "execution_count": null,
      "outputs": []
    },
    {
      "cell_type": "code",
      "metadata": {
        "id": "DxxygKU6mf4Q",
        "colab": {
          "base_uri": "https://localhost:8080/"
        },
        "outputId": "2fdf56a8-3a62-411d-eb1d-01fd6107eb70"
      },
      "source": [
        "print(f'org: {X_train_h1n1.shape} \\naug: {x_aug.shape}')"
      ],
      "execution_count": null,
      "outputs": [
        {
          "output_type": "stream",
          "text": [
            "org: (21365, 112) \n",
            "aug: (64095, 112)\n"
          ],
          "name": "stdout"
        }
      ]
    },
    {
      "cell_type": "markdown",
      "metadata": {
        "id": "XaQm37LLfyyF"
      },
      "source": [
        "## SVM"
      ]
    },
    {
      "cell_type": "code",
      "metadata": {
        "id": "X79lnhpr4Axm",
        "colab": {
          "base_uri": "https://localhost:8080/"
        },
        "outputId": "5077ce1e-9d45-498c-84f8-7ccb77ff76d4"
      },
      "source": [
        "clf = svm.SVR(kernel='poly', verbose=True, degree=3)\n",
        "clf.fit(X_train_h1n1, y_train_h1n1)"
      ],
      "execution_count": null,
      "outputs": [
        {
          "output_type": "stream",
          "text": [
            "[LibSVM]"
          ],
          "name": "stdout"
        },
        {
          "output_type": "execute_result",
          "data": {
            "text/plain": [
              "SVR(C=1.0, cache_size=200, coef0=0.0, degree=3, epsilon=0.1, gamma='scale',\n",
              "    kernel='poly', max_iter=-1, shrinking=True, tol=0.001, verbose=True)"
            ]
          },
          "metadata": {
            "tags": []
          },
          "execution_count": 22
        }
      ]
    },
    {
      "cell_type": "code",
      "metadata": {
        "id": "ILj5kZSK1hFI"
      },
      "source": [
        "pred = clf.predict(X_eval_h1n1)"
      ],
      "execution_count": null,
      "outputs": []
    },
    {
      "cell_type": "code",
      "metadata": {
        "id": "PBo55UPX4Atc"
      },
      "source": [
        "def plot_roc(y_true, y_score, label_name, ax):\n",
        "    fpr, tpr, thresholds = roc_curve(y_true, y_score)\n",
        "    # print(thresholds)\n",
        "    ax.plot(fpr, tpr)\n",
        "    ax.plot([0, 1], [0, 1], color='grey', linestyle='--')\n",
        "    ax.set_ylabel('TPR')\n",
        "    ax.set_xlabel('FPR')\n",
        "    ax.set_title(\n",
        "        f\"{label_name}: AUC = {roc_auc_score(y_true, y_score):.4f}\"\n",
        "    )"
      ],
      "execution_count": null,
      "outputs": []
    },
    {
      "cell_type": "code",
      "metadata": {
        "colab": {
          "base_uri": "https://localhost:8080/",
          "height": 513
        },
        "id": "9-q8-Fhzzjma",
        "outputId": "826e7196-8253-4111-a24d-cab2122c5a06"
      },
      "source": [
        "fig, ax = plt.subplots(1, 1, figsize=(7, 7))\n",
        "\n",
        "plot_roc(\n",
        "    y_eval_h1n1, \n",
        "    pred, \n",
        "    'h1n1_vaccine',\n",
        "    ax=ax\n",
        ")\n",
        "# plot_roc(\n",
        "#     y_eval['seasonal_vaccine'], \n",
        "#     y_preds['seasonal_vaccine'], \n",
        "#     'seasonal_vaccine',\n",
        "#     ax=ax[1]\n",
        "# )\n",
        "fig.tight_layout()"
      ],
      "execution_count": null,
      "outputs": [
        {
          "output_type": "display_data",
          "data": {
            "image/png": "[encoded data removed]",
            "text/plain": [
              "<Figure size 504x504 with 1 Axes>"
            ]
          },
          "metadata": {
            "tags": [],
            "needs_background": "light"
          }
        }
      ]
    },
    {
      "cell_type": "markdown",
      "metadata": {
        "id": "sXuqRd-47mFu"
      },
      "source": [
        "## Regressor"
      ]
    },
    {
      "cell_type": "markdown",
      "metadata": {
        "id": "v9zCfJkjHuzc"
      },
      "source": [
        "### Random Forest"
      ]
    },
    {
      "cell_type": "code",
      "metadata": {
        "colab": {
          "base_uri": "https://localhost:8080/"
        },
        "id": "0s_HaXep7o37",
        "outputId": "207bd638-04ec-4c2a-d52f-6f92067236ae"
      },
      "source": [
        "regr_h1n1 = RandomForestRegressor(max_depth=4, random_state=0, n_estimators=500, verbose=True)\n",
        "regr_seasonal = RandomForestRegressor(max_depth=4, random_state=0, n_estimators=500, verbose=True)\n",
        "\n",
        "regr_h1n1.fit(X_train_h1n1, y_train_h1n1)\n",
        "regr_seasonal.fit(X_train_seasonal, y_train_seasonal)"
      ],
      "execution_count": null,
      "outputs": [
        {
          "output_type": "stream",
          "text": [
            "[Parallel(n_jobs=1)]: Using backend SequentialBackend with 1 concurrent workers.\n",
            "[Parallel(n_jobs=1)]: Done 500 out of 500 | elapsed:   27.2s finished\n",
            "[Parallel(n_jobs=1)]: Using backend SequentialBackend with 1 concurrent workers.\n",
            "[Parallel(n_jobs=1)]: Done 500 out of 500 | elapsed:   27.0s finished\n"
          ],
          "name": "stderr"
        },
        {
          "output_type": "execute_result",
          "data": {
            "text/plain": [
              "RandomForestRegressor(bootstrap=True, ccp_alpha=0.0, criterion='mse',\n",
              "                      max_depth=4, max_features='auto', max_leaf_nodes=None,\n",
              "                      max_samples=None, min_impurity_decrease=0.0,\n",
              "                      min_impurity_split=None, min_samples_leaf=1,\n",
              "                      min_samples_split=2, min_weight_fraction_leaf=0.0,\n",
              "                      n_estimators=500, n_jobs=None, oob_score=False,\n",
              "                      random_state=0, verbose=True, warm_start=False)"
            ]
          },
          "metadata": {
            "tags": []
          },
          "execution_count": 25
        }
      ]
    },
    {
      "cell_type": "code",
      "metadata": {
        "colab": {
          "base_uri": "https://localhost:8080/"
        },
        "id": "xhe6Pq248Yb4",
        "outputId": "c2dfe951-f2c6-409e-990e-e5bf2c2e05ec"
      },
      "source": [
        "# pred_h1n1 = regr.predict(X_eval)\n",
        "pred_seasonal = regr_seasonal.predict(X_eval_seasonal)\n",
        "pred_h1n1 = regr_h1n1.predict(X_eval_h1n1)"
      ],
      "execution_count": null,
      "outputs": [
        {
          "output_type": "stream",
          "text": [
            "[Parallel(n_jobs=1)]: Using backend SequentialBackend with 1 concurrent workers.\n",
            "[Parallel(n_jobs=1)]: Done 500 out of 500 | elapsed:    0.2s finished\n",
            "[Parallel(n_jobs=1)]: Using backend SequentialBackend with 1 concurrent workers.\n",
            "[Parallel(n_jobs=1)]: Done 500 out of 500 | elapsed:    0.2s finished\n"
          ],
          "name": "stderr"
        }
      ]
    },
    {
      "cell_type": "code",
      "metadata": {
        "colab": {
          "base_uri": "https://localhost:8080/",
          "height": 295
        },
        "id": "8FyOXuJjMuMT",
        "outputId": "65106a89-fa46-425c-ef19-d7bc98b18a6a"
      },
      "source": [
        "# Feature importance\n",
        "\n",
        "# Computing the importance of each feature\n",
        "feature_importance = regr_h1n1.feature_importances_\n",
        "\n",
        "# Normalizing the individual importances\n",
        "feature_importance_normalized = np.std([tree.feature_importances_ for tree in \n",
        "                                        regr_h1n1.estimators_],\n",
        "                                        axis = 0)\n",
        "\n",
        "# Plotting a Bar Graph to compare the models\n",
        "plt.bar(np.arange(0, 105), feature_importance_normalized)\n",
        "plt.xlabel('Feature Labels')\n",
        "plt.ylabel('Feature Importances')\n",
        "plt.title('Comparison of different Feature Importances')\n",
        "plt.show()"
      ],
      "execution_count": null,
      "outputs": [
        {
          "output_type": "display_data",
          "data": {
            "image/png": "[encoded data removed]",
            "text/plain": [
              "<Figure size 432x288 with 1 Axes>"
            ]
          },
          "metadata": {
            "tags": [],
            "needs_background": "light"
          }
        }
      ]
    },
    {
      "cell_type": "code",
      "metadata": {
        "colab": {
          "base_uri": "https://localhost:8080/"
        },
        "id": "1-IOVZ6orC9v",
        "outputId": "1e3040b7-25d5-4719-b312-55dcbf4ce010"
      },
      "source": [
        "sum(feature_importance_normalized>0.005)\n",
        "# np.arange(0, 105)"
      ],
      "execution_count": null,
      "outputs": [
        {
          "output_type": "execute_result",
          "data": {
            "text/plain": [
              "8"
            ]
          },
          "metadata": {
            "tags": []
          },
          "execution_count": 34
        }
      ]
    },
    {
      "cell_type": "code",
      "metadata": {
        "colab": {
          "base_uri": "https://localhost:8080/"
        },
        "id": "s3EvgyIbqlbt",
        "outputId": "d1dac11f-ca20-4c16-ca16-534bd4b4a53a"
      },
      "source": [
        "features_df.columns"
      ],
      "execution_count": null,
      "outputs": [
        {
          "output_type": "execute_result",
          "data": {
            "text/plain": [
              "Index(['h1n1_concern', 'h1n1_knowledge', 'behavioral_antiviral_meds',\n",
              "       'behavioral_avoidance', 'behavioral_face_mask', 'behavioral_wash_hands',\n",
              "       'behavioral_large_gatherings', 'behavioral_outside_home',\n",
              "       'behavioral_touch_face', 'doctor_recc_h1n1', 'doctor_recc_seasonal',\n",
              "       'chronic_med_condition', 'child_under_6_months', 'health_worker',\n",
              "       'health_insurance', 'opinion_h1n1_vacc_effective', 'opinion_h1n1_risk',\n",
              "       'opinion_h1n1_sick_from_vacc', 'opinion_seas_vacc_effective',\n",
              "       'opinion_seas_risk', 'opinion_seas_sick_from_vacc', 'age_group',\n",
              "       'education', 'race', 'sex', 'income_poverty', 'marital_status',\n",
              "       'rent_or_own', 'employment_status', 'hhs_geo_region', 'census_msa',\n",
              "       'household_adults', 'household_children', 'employment_industry',\n",
              "       'employment_occupation'],\n",
              "      dtype='object')"
            ]
          },
          "metadata": {
            "tags": []
          },
          "execution_count": 14
        }
      ]
    },
    {
      "cell_type": "code",
      "metadata": {
        "colab": {
          "base_uri": "https://localhost:8080/",
          "height": 513
        },
        "id": "UBelfqW28hMy",
        "outputId": "daf17490-34ae-45d8-8f5d-3a2fe401ef4c"
      },
      "source": [
        "fig, ax = plt.subplots(1, 1, figsize=(7, 7))\n",
        "\n",
        "plot_roc(\n",
        "    y_eval_h1n1, \n",
        "    pred_h1n1, \n",
        "    'seasonal_vaccine',\n",
        "    ax=ax\n",
        ")\n",
        "# plot_roc(\n",
        "#     y_eval['seasonal_vaccine'], \n",
        "#     y_preds['seasonal_vaccine'], \n",
        "#     'seasonal_vaccine',\n",
        "#     ax=ax[1]\n",
        "# )\n",
        "fig.tight_layout()"
      ],
      "execution_count": null,
      "outputs": [
        {
          "output_type": "display_data",
          "data": {
            "image/png": "[encoded data removed]",
            "text/plain": [
              "<Figure size 504x504 with 1 Axes>"
            ]
          },
          "metadata": {
            "tags": [],
            "needs_background": "light"
          }
        }
      ]
    },
    {
      "cell_type": "markdown",
      "metadata": {
        "id": "-sZoWILJZXfc"
      },
      "source": [
        "### Gradient Boost Regressor"
      ]
    },
    {
      "cell_type": "code",
      "metadata": {
        "colab": {
          "base_uri": "https://localhost:8080/"
        },
        "id": "jACk7EGVY3Ep",
        "outputId": "ef61386b-b633-4286-b3c8-b4b0b39ff20c"
      },
      "source": [
        "GBR_h1n1 = GradientBoostingRegressor(max_depth=2, n_estimators=500, learning_rate=0.1, random_state=42, verbose=1)\n",
        "GBR_seasonal = GradientBoostingRegressor(max_depth=2, n_estimators=500, learning_rate=0.1, random_state=42, verbose=1)\n",
        "GBR_h1n1.fit(X_train_h1n1_all, y_train_h1n1_all)\n",
        "GBR_seasonal.fit(X_train_seasonal_all, y_train_seasonal_all)"
      ],
      "execution_count": 98,
      "outputs": [
        {
          "output_type": "stream",
          "text": [
            "      Iter       Train Loss   Remaining Time \n",
            "         1           0.1607           31.86s\n",
            "         2           0.1552           32.34s\n",
            "         3           0.1507           32.80s\n",
            "         4           0.1470           33.28s\n",
            "         5           0.1439           33.28s\n",
            "         6           0.1412           33.40s\n",
            "         7           0.1391           33.33s\n",
            "         8           0.1372           33.66s\n",
            "         9           0.1357           33.64s\n",
            "        10           0.1342           33.70s\n",
            "        20           0.1265           32.00s\n",
            "        30           0.1234           31.08s\n",
            "        40           0.1218           30.21s\n",
            "        50           0.1208           29.51s\n",
            "        60           0.1201           28.70s\n",
            "        70           0.1197           28.15s\n",
            "        80           0.1193           27.46s\n",
            "        90           0.1189           26.85s\n",
            "       100           0.1186           26.16s\n",
            "       200           0.1166           19.43s\n",
            "       300           0.1156           12.98s\n",
            "       400           0.1149            6.55s\n",
            "       500           0.1144            0.00s\n",
            "      Iter       Train Loss   Remaining Time \n",
            "         1           0.2381           31.49s\n",
            "         2           0.2292           31.04s\n",
            "         3           0.2216           31.33s\n",
            "         4           0.2149           32.10s\n",
            "         5           0.2093           32.12s\n",
            "         6           0.2042           31.72s\n",
            "         7           0.2000           31.99s\n",
            "         8           0.1962           32.94s\n",
            "         9           0.1930           33.00s\n",
            "        10           0.1901           32.96s\n",
            "        20           0.1735           32.20s\n",
            "        30           0.1661           31.23s\n",
            "        40           0.1622           30.67s\n",
            "        50           0.1597           30.04s\n",
            "        60           0.1581           29.28s\n",
            "        70           0.1569           28.55s\n",
            "        80           0.1561           27.96s\n",
            "        90           0.1555           27.30s\n",
            "       100           0.1550           26.78s\n",
            "       200           0.1524           20.04s\n",
            "       300           0.1512           13.22s\n",
            "       400           0.1503            6.61s\n",
            "       500           0.1496            0.00s\n"
          ],
          "name": "stdout"
        },
        {
          "output_type": "execute_result",
          "data": {
            "text/plain": [
              "GradientBoostingRegressor(alpha=0.9, ccp_alpha=0.0, criterion='friedman_mse',\n",
              "                          init=None, learning_rate=0.1, loss='ls', max_depth=2,\n",
              "                          max_features=None, max_leaf_nodes=None,\n",
              "                          min_impurity_decrease=0.0, min_impurity_split=None,\n",
              "                          min_samples_leaf=1, min_samples_split=2,\n",
              "                          min_weight_fraction_leaf=0.0, n_estimators=500,\n",
              "                          n_iter_no_change=None, presort='deprecated',\n",
              "                          random_state=42, subsample=1.0, tol=0.0001,\n",
              "                          validation_fraction=0.1, verbose=1, warm_start=False)"
            ]
          },
          "metadata": {},
          "execution_count": 98
        }
      ]
    },
    {
      "cell_type": "code",
      "metadata": {
        "colab": {
          "base_uri": "https://localhost:8080/"
        },
        "id": "LFrqsppfZUGY",
        "outputId": "f818e6cc-9d70-4245-aebd-f7260595361c"
      },
      "source": [
        "GBR_h1n1_pred = GBR_h1n1.predict(X_eval_h1n1)\n",
        "GBR_seasonal_pred = GBR_seasonal.predict(X_eval_seasonal)\n",
        "GBR_h1n1_pred[:10]"
      ],
      "execution_count": 94,
      "outputs": [
        {
          "output_type": "execute_result",
          "data": {
            "text/plain": [
              "array([0.10844125, 0.09540341, 0.00146147, 0.1987959 , 0.14045898,\n",
              "       0.82128866, 0.15369992, 0.41123205, 0.06474698, 0.63475513])"
            ]
          },
          "metadata": {},
          "execution_count": 94
        }
      ]
    },
    {
      "cell_type": "code",
      "metadata": {
        "id": "160S0OtHfiCe",
        "colab": {
          "base_uri": "https://localhost:8080/",
          "height": 513
        },
        "outputId": "01709676-9b70-4831-de53-0fc15c9e49c9"
      },
      "source": [
        "fig, ax = plt.subplots(1, 1, figsize=(7, 7))\n",
        "\n",
        "plot_roc(\n",
        "    y_eval_h1n1, \n",
        "    GBR_h1n1_pred, \n",
        "    'h1n1_vaccine',\n",
        "    ax=ax\n",
        ")\n",
        "# plot_roc(\n",
        "#     y_eval['seasonal_vaccine'], \n",
        "#     y_preds['seasonal_vaccine'], \n",
        "#     'seasonal_vaccine',\n",
        "#     ax=ax[1]\n",
        "# )\n",
        "fig.tight_layout()"
      ],
      "execution_count": 99,
      "outputs": [
        {
          "output_type": "display_data",
          "data": {
            "image/png": "[encoded data removed]",
            "text/plain": [
              "<Figure size 504x504 with 1 Axes>"
            ]
          },
          "metadata": {
            "needs_background": "light"
          }
        }
      ]
    },
    {
      "cell_type": "code",
      "metadata": {
        "id": "2KJWjod2foLh",
        "colab": {
          "base_uri": "https://localhost:8080/"
        },
        "outputId": "12a85f58-ab15-4a23-cfd5-3c23dfb8fd7d"
      },
      "source": [
        "# combined AUC Score\n",
        "roc_auc_score(np.hstack((y_eval_h1n1, y_eval_seasonal)), np.hstack((GBR_h1n1_pred, GBR_seasonal_pred)))"
      ],
      "execution_count": 96,
      "outputs": [
        {
          "output_type": "execute_result",
          "data": {
            "text/plain": [
              "0.8670309059542474"
            ]
          },
          "metadata": {},
          "execution_count": 96
        }
      ]
    },
    {
      "cell_type": "code",
      "metadata": {
        "id": "7zCd-ydumMci",
        "outputId": "365762ec-f1d5-4537-8ac4-2e918978ec0b",
        "colab": {
          "base_uri": "https://localhost:8080/"
        }
      },
      "source": [
        "# Do cross validation for both labels combined\n",
        "np.array(cross_val_score(GBR_h1n1, X_train_h1n1, y_train_h1n1, scoring='roc_auc', n_jobs=-1, cv=5).mean(), cross_val_score(GBR_seasonal, X_train_seasonal, y_train_seasonal, scoring='roc_auc', n_jobs=-1, cv=5).mean()).mean()"
      ],
      "execution_count": 43,
      "outputs": [
        {
          "output_type": "execute_result",
          "data": {
            "text/plain": [
              "0.8363028215094446"
            ]
          },
          "metadata": {},
          "execution_count": 43
        }
      ]
    },
    {
      "cell_type": "markdown",
      "metadata": {
        "id": "0QouKDsk5oKG"
      },
      "source": [
        "### Try multiple models (algorithm evaluation)"
      ]
    },
    {
      "cell_type": "code",
      "metadata": {
        "id": "dfxzs4vX5vyE"
      },
      "source": [
        "# Function to test multiple different models/classifiers/regressors in an automated way\n",
        "\n",
        "from sklearn.linear_model import LogisticRegression\n",
        "from sklearn.neighbors import KNeighborsRegressor\n",
        "from sklearn.svm import SVR\n",
        "from sklearn.ensemble import RandomForestRegressor\n",
        "from sklearn.ensemble import GradientBoostingRegressor\n",
        "# from sklearn.naive_bayes import GaussianNB\n",
        "from xgboost import XGBRegressor\n",
        "from sklearn import model_selection\n",
        "from sklearn.utils import class_weight\n",
        "from sklearn.metrics import classification_report\n",
        "from sklearn.metrics import confusion_matrix\n",
        "import numpy as np\n",
        "import pandas as pd\n",
        "\n",
        "def run_exps(X_train: pd.DataFrame, y_train: pd.DataFrame, X_test: pd.DataFrame, y_test: pd.DataFrame) -> pd.DataFrame:\n",
        "    '''\n",
        "    Lightweight script to test many models and find winners:param X_train: training split\n",
        "    :param y_train: training target vector\n",
        "    :param X_test: test split\n",
        "    :param y_test: test target vector\n",
        "    :return: DataFrame of predictions\n",
        "    '''\n",
        "    \n",
        "    dfs = []\n",
        "    \n",
        "    models = [\n",
        "          ('LogReg', LogisticRegression()), \n",
        "          # ('RF', RandomForestRegressor()),\n",
        "          ('KNN', KNeighborsRegressor()),\n",
        "          ('SVM', SVR()), \n",
        "          # ('GNB', GaussianNB()),\n",
        "          ('XGB', XGBRegressor()),\n",
        "          ('GBR', GradientBoostingRegressor())\n",
        "        ]\n",
        "        \n",
        "    results = []\n",
        "    names = []\n",
        "    scoring = ['roc_auc', 'neg_root_mean_squared_error']\n",
        "    # target_names = ['malignant', 'benign']\n",
        "\n",
        "\n",
        "    for name, model in models:\n",
        "      kfold = model_selection.KFold(n_splits=2, shuffle=True, random_state=90210)\n",
        "      print(name)\n",
        "      cv_results = model_selection.cross_validate(model, X_train, y_train, cv=kfold, scoring=scoring)\n",
        "      clf = model.fit(X_train, y_train)\n",
        "      y_pred = clf.predict(X_test)\n",
        "      print(name)\n",
        "      # print(classification_report(y_test, y_pred, target_names=target_names))\n",
        "        \n",
        "      results.append(cv_results)\n",
        "      names.append(name)\n",
        "\n",
        "      this_df = pd.DataFrame(cv_results)\n",
        "      this_df['model'] = name\n",
        "      dfs.append(this_df)\n",
        "\n",
        "    final = pd.concat(dfs, ignore_index=True)\n",
        "    \n",
        "    return final"
      ],
      "execution_count": null,
      "outputs": []
    },
    {
      "cell_type": "code",
      "metadata": {
        "id": "krvh5hF79EXb",
        "colab": {
          "base_uri": "https://localhost:8080/",
          "height": 1000
        },
        "outputId": "9f65d3dd-e20c-4eab-fa76-1134b61f4a9f"
      },
      "source": [
        "final = run_exps(X_train=X_train_h1n1, y_train= y_train_h1n1, X_test= X_eval_h1n1, y_test=y_eval_h1n1)\n",
        "final\n",
        "# final = run_exps(X_train=X_train, y_train= y_train, X_test= X_eval, y_test=y_eval)\n"
      ],
      "execution_count": null,
      "outputs": [
        {
          "output_type": "stream",
          "text": [
            "LogReg\n"
          ],
          "name": "stdout"
        },
        {
          "output_type": "stream",
          "text": [
            "/usr/local/lib/python3.7/dist-packages/sklearn/linear_model/_logistic.py:940: ConvergenceWarning:\n",
            "\n",
            "lbfgs failed to converge (status=1):\n",
            "STOP: TOTAL NO. of ITERATIONS REACHED LIMIT.\n",
            "\n",
            "Increase the number of iterations (max_iter) or scale the data as shown in:\n",
            "    https://scikit-learn.org/stable/modules/preprocessing.html\n",
            "Please also refer to the documentation for alternative solver options:\n",
            "    https://scikit-learn.org/stable/modules/linear_model.html#logistic-regression\n",
            "\n",
            "/usr/local/lib/python3.7/dist-packages/sklearn/linear_model/_logistic.py:940: ConvergenceWarning:\n",
            "\n",
            "lbfgs failed to converge (status=1):\n",
            "STOP: TOTAL NO. of ITERATIONS REACHED LIMIT.\n",
            "\n",
            "Increase the number of iterations (max_iter) or scale the data as shown in:\n",
            "    https://scikit-learn.org/stable/modules/preprocessing.html\n",
            "Please also refer to the documentation for alternative solver options:\n",
            "    https://scikit-learn.org/stable/modules/linear_model.html#logistic-regression\n",
            "\n",
            "/usr/local/lib/python3.7/dist-packages/sklearn/linear_model/_logistic.py:940: ConvergenceWarning:\n",
            "\n",
            "lbfgs failed to converge (status=1):\n",
            "STOP: TOTAL NO. of ITERATIONS REACHED LIMIT.\n",
            "\n",
            "Increase the number of iterations (max_iter) or scale the data as shown in:\n",
            "    https://scikit-learn.org/stable/modules/preprocessing.html\n",
            "Please also refer to the documentation for alternative solver options:\n",
            "    https://scikit-learn.org/stable/modules/linear_model.html#logistic-regression\n",
            "\n"
          ],
          "name": "stderr"
        },
        {
          "output_type": "stream",
          "text": [
            "LogReg\n",
            "KNN\n",
            "KNN\n",
            "SVM\n",
            "SVM\n",
            "XGB\n",
            "[15:36:48] WARNING: /workspace/src/objective/regression_obj.cu:152: reg:linear is now deprecated in favor of reg:squarederror.\n",
            "[15:36:50] WARNING: /workspace/src/objective/regression_obj.cu:152: reg:linear is now deprecated in favor of reg:squarederror.\n",
            "[15:36:53] WARNING: /workspace/src/objective/regression_obj.cu:152: reg:linear is now deprecated in favor of reg:squarederror.\n",
            "XGB\n",
            "GBR\n",
            "GBR\n"
          ],
          "name": "stdout"
        },
        {
          "output_type": "execute_result",
          "data": {
            "text/html": [
              "<div>\n",
              "<style scoped>\n",
              "    .dataframe tbody tr th:only-of-type {\n",
              "        vertical-align: middle;\n",
              "    }\n",
              "\n",
              "    .dataframe tbody tr th {\n",
              "        vertical-align: top;\n",
              "    }\n",
              "\n",
              "    .dataframe thead th {\n",
              "        text-align: right;\n",
              "    }\n",
              "</style>\n",
              "<table border=\"1\" class=\"dataframe\">\n",
              "  <thead>\n",
              "    <tr style=\"text-align: right;\">\n",
              "      <th></th>\n",
              "      <th>fit_time</th>\n",
              "      <th>score_time</th>\n",
              "      <th>test_roc_auc</th>\n",
              "      <th>test_neg_root_mean_squared_error</th>\n",
              "      <th>model</th>\n",
              "    </tr>\n",
              "  </thead>\n",
              "  <tbody>\n",
              "    <tr>\n",
              "      <th>0</th>\n",
              "      <td>0.366993</td>\n",
              "      <td>0.012707</td>\n",
              "      <td>0.835814</td>\n",
              "      <td>-0.401136</td>\n",
              "      <td>LogReg</td>\n",
              "    </tr>\n",
              "    <tr>\n",
              "      <th>1</th>\n",
              "      <td>0.392367</td>\n",
              "      <td>0.011682</td>\n",
              "      <td>0.830042</td>\n",
              "      <td>-0.410383</td>\n",
              "      <td>LogReg</td>\n",
              "    </tr>\n",
              "    <tr>\n",
              "      <th>2</th>\n",
              "      <td>0.247848</td>\n",
              "      <td>29.301175</td>\n",
              "      <td>0.726569</td>\n",
              "      <td>-0.388041</td>\n",
              "      <td>KNN</td>\n",
              "    </tr>\n",
              "    <tr>\n",
              "      <th>3</th>\n",
              "      <td>0.170934</td>\n",
              "      <td>27.685172</td>\n",
              "      <td>0.719848</td>\n",
              "      <td>-0.390943</td>\n",
              "      <td>KNN</td>\n",
              "    </tr>\n",
              "    <tr>\n",
              "      <th>4</th>\n",
              "      <td>14.446673</td>\n",
              "      <td>9.017820</td>\n",
              "      <td>0.820402</td>\n",
              "      <td>-0.350606</td>\n",
              "      <td>SVM</td>\n",
              "    </tr>\n",
              "    <tr>\n",
              "      <th>5</th>\n",
              "      <td>13.701899</td>\n",
              "      <td>8.809034</td>\n",
              "      <td>0.820907</td>\n",
              "      <td>-0.356843</td>\n",
              "      <td>SVM</td>\n",
              "    </tr>\n",
              "    <tr>\n",
              "      <th>6</th>\n",
              "      <td>2.486477</td>\n",
              "      <td>0.043067</td>\n",
              "      <td>0.835763</td>\n",
              "      <td>-0.343246</td>\n",
              "      <td>XGB</td>\n",
              "    </tr>\n",
              "    <tr>\n",
              "      <th>7</th>\n",
              "      <td>2.345628</td>\n",
              "      <td>0.043415</td>\n",
              "      <td>0.836385</td>\n",
              "      <td>-0.346385</td>\n",
              "      <td>XGB</td>\n",
              "    </tr>\n",
              "    <tr>\n",
              "      <th>8</th>\n",
              "      <td>3.186790</td>\n",
              "      <td>0.041985</td>\n",
              "      <td>0.836207</td>\n",
              "      <td>-0.343063</td>\n",
              "      <td>GBR</td>\n",
              "    </tr>\n",
              "    <tr>\n",
              "      <th>9</th>\n",
              "      <td>3.183827</td>\n",
              "      <td>0.034527</td>\n",
              "      <td>0.835875</td>\n",
              "      <td>-0.346522</td>\n",
              "      <td>GBR</td>\n",
              "    </tr>\n",
              "  </tbody>\n",
              "</table>\n",
              "</div>"
            ],
            "text/plain": [
              "    fit_time  score_time  test_roc_auc  test_neg_root_mean_squared_error  \\\n",
              "0   0.366993    0.012707      0.835814                         -0.401136   \n",
              "1   0.392367    0.011682      0.830042                         -0.410383   \n",
              "2   0.247848   29.301175      0.726569                         -0.388041   \n",
              "3   0.170934   27.685172      0.719848                         -0.390943   \n",
              "4  14.446673    9.017820      0.820402                         -0.350606   \n",
              "5  13.701899    8.809034      0.820907                         -0.356843   \n",
              "6   2.486477    0.043067      0.835763                         -0.343246   \n",
              "7   2.345628    0.043415      0.836385                         -0.346385   \n",
              "8   3.186790    0.041985      0.836207                         -0.343063   \n",
              "9   3.183827    0.034527      0.835875                         -0.346522   \n",
              "\n",
              "    model  \n",
              "0  LogReg  \n",
              "1  LogReg  \n",
              "2     KNN  \n",
              "3     KNN  \n",
              "4     SVM  \n",
              "5     SVM  \n",
              "6     XGB  \n",
              "7     XGB  \n",
              "8     GBR  \n",
              "9     GBR  "
            ]
          },
          "metadata": {
            "tags": []
          },
          "execution_count": 57
        }
      ]
    },
    {
      "cell_type": "markdown",
      "metadata": {
        "id": "Vcu6xgT0KQhO"
      },
      "source": [
        "### XGBoost Regressor"
      ]
    },
    {
      "cell_type": "code",
      "metadata": {
        "id": "cXw_xOFmSZz3",
        "colab": {
          "base_uri": "https://localhost:8080/"
        },
        "outputId": "792edd93-d04a-4941-e0a6-e3d81262ff21"
      },
      "source": [
        "X_train_h1n1.shape"
      ],
      "execution_count": null,
      "outputs": [
        {
          "output_type": "execute_result",
          "data": {
            "text/plain": [
              "(21365, 105)"
            ]
          },
          "metadata": {
            "tags": []
          },
          "execution_count": 63
        }
      ]
    },
    {
      "cell_type": "code",
      "metadata": {
        "id": "b4T1hbztSdh2",
        "colab": {
          "base_uri": "https://localhost:8080/"
        },
        "outputId": "9fdc2a9a-73ad-40e7-adbc-d597e2b6f790"
      },
      "source": [
        "X_eval_h1n1.shape\n",
        "\n",
        "X_train_h1n1_all = np.concatenate((X_train_h1n1, X_eval_h1n1), axis=0)\n",
        "y_train_h1n1_all = np.concatenate((y_train_h1n1, y_eval_h1n1), axis=0)\n",
        "X_train_seasonal_all = np.concatenate((X_train_seasonal, X_eval_seasonal), axis=0)\n",
        "y_train_seasonal_all = np.concatenate((y_train_seasonal, y_eval_seasonal), axis=0)\n",
        "\n",
        "print(X_train_h1n1_all.shape, y_train_h1n1_all.shape, X_train_seasonal_all.shape, y_train_seasonal_all.shape)"
      ],
      "execution_count": 97,
      "outputs": [
        {
          "output_type": "stream",
          "text": [
            "(26707, 113) (26707,) (26707, 113) (26707,)\n"
          ],
          "name": "stdout"
        }
      ]
    },
    {
      "cell_type": "code",
      "metadata": {
        "id": "WLaVp2ADKUYP",
        "colab": {
          "base_uri": "https://localhost:8080/"
        },
        "outputId": "2f6a3bde-6661-47d5-c4dc-43f5d1cfbc32"
      },
      "source": [
        "XGBR_h1n1 = XGBRegressor(learning_rate = 0.09074284802168232, max_depth=2, n_estimators=600, verbosity=1, objective='reg:squarederror')\n",
        "XGBR_seasonal = XGBRegressor(learning_rate = 0.09074284802168232, max_depth=2, n_estimators=600, verbosity=1, objective='reg:squarederror')\n",
        "XGBR_h1n1.fit(X_train_h1n1_all, y_train_h1n1_all)\n",
        "XGBR_seasonal.fit(X_train_seasonal_all, y_train_seasonal_all)"
      ],
      "execution_count": 45,
      "outputs": [
        {
          "output_type": "execute_result",
          "data": {
            "text/plain": [
              "XGBRegressor(base_score=0.5, booster='gbtree', colsample_bylevel=1,\n",
              "             colsample_bynode=1, colsample_bytree=1, gamma=0,\n",
              "             importance_type='gain', learning_rate=0.09074284802168232,\n",
              "             max_delta_step=0, max_depth=2, min_child_weight=1, missing=None,\n",
              "             n_estimators=600, n_jobs=1, nthread=None,\n",
              "             objective='reg:squarederror', random_state=0, reg_alpha=0,\n",
              "             reg_lambda=1, scale_pos_weight=1, seed=None, silent=None,\n",
              "             subsample=1, verbosity=1)"
            ]
          },
          "metadata": {},
          "execution_count": 45
        }
      ]
    },
    {
      "cell_type": "code",
      "metadata": {
        "id": "5Zz5HH6uflaB"
      },
      "source": [
        "# scores from hyperparameter tuning: 'n_estimators': 1000, 'max_depth': 2, 'learning_rate': 0.11332581099034476}"
      ],
      "execution_count": null,
      "outputs": []
    },
    {
      "cell_type": "code",
      "metadata": {
        "id": "q3ImrE7nKUVs"
      },
      "source": [
        "XGBR_h1n1_pred = GBR_h1n1.predict(X_eval_h1n1)\n",
        "XGBR_seasonal_pred = GBR_seasonal.predict(X_eval_seasonal)\n",
        "XGBR_h1n1_pred[:10]"
      ],
      "execution_count": null,
      "outputs": []
    },
    {
      "cell_type": "code",
      "metadata": {
        "id": "a5_UTgSAKUTa",
        "colab": {
          "base_uri": "https://localhost:8080/",
          "height": 513
        },
        "outputId": "6ce1c7ec-4ed0-44de-f6b4-9811ee8e56a5"
      },
      "source": [
        "fig, ax = plt.subplots(1, 1, figsize=(7, 7))\n",
        "\n",
        "plot_roc(\n",
        "    y_eval_h1n1, \n",
        "    XGBR_h1n1_pred, \n",
        "    'h1n1_vaccine',\n",
        "    ax=ax\n",
        ")\n",
        "# plot_roc(\n",
        "#     y_eval['seasonal_vaccine'], \n",
        "#     y_preds['seasonal_vaccine'], \n",
        "#     'seasonal_vaccine',\n",
        "#     ax=ax[1]\n",
        "# )\n",
        "fig.tight_layout()"
      ],
      "execution_count": null,
      "outputs": [
        {
          "output_type": "display_data",
          "data": {
            "image/png": "[encoded data removed]",
            "text/plain": [
              "<Figure size 504x504 with 1 Axes>"
            ]
          },
          "metadata": {
            "tags": [],
            "needs_background": "light"
          }
        }
      ]
    },
    {
      "cell_type": "markdown",
      "metadata": {
        "id": "3FTzHw_wf65y"
      },
      "source": [
        "### CatBoost"
      ]
    },
    {
      "cell_type": "code",
      "metadata": {
        "id": "TogWB8Rmgmdk",
        "colab": {
          "base_uri": "https://localhost:8080/"
        },
        "outputId": "b47aa17a-b118-4875-9d27-fe0d050cdbe1"
      },
      "source": [
        "!pip install catboost"
      ],
      "execution_count": null,
      "outputs": [
        {
          "output_type": "stream",
          "text": [
            "Collecting catboost\n",
            "  Downloading catboost-0.26-cp37-none-manylinux1_x86_64.whl (69.2 MB)\n",
            "\u001b[K     |████████████████████████████████| 69.2 MB 5.1 kB/s \n",
            "\u001b[?25hRequirement already satisfied: numpy>=1.16.0 in /usr/local/lib/python3.7/dist-packages (from catboost) (1.19.5)\n",
            "Requirement already satisfied: pandas>=0.24.0 in /usr/local/lib/python3.7/dist-packages (from catboost) (1.1.5)\n",
            "Requirement already satisfied: plotly in /usr/local/lib/python3.7/dist-packages (from catboost) (4.4.1)\n",
            "Requirement already satisfied: matplotlib in /usr/local/lib/python3.7/dist-packages (from catboost) (3.2.2)\n",
            "Requirement already satisfied: scipy in /usr/local/lib/python3.7/dist-packages (from catboost) (1.4.1)\n",
            "Requirement already satisfied: graphviz in /usr/local/lib/python3.7/dist-packages (from catboost) (0.10.1)\n",
            "Requirement already satisfied: six in /usr/local/lib/python3.7/dist-packages (from catboost) (1.15.0)\n",
            "Requirement already satisfied: pytz>=2017.2 in /usr/local/lib/python3.7/dist-packages (from pandas>=0.24.0->catboost) (2018.9)\n",
            "Requirement already satisfied: python-dateutil>=2.7.3 in /usr/local/lib/python3.7/dist-packages (from pandas>=0.24.0->catboost) (2.8.1)\n",
            "Requirement already satisfied: kiwisolver>=1.0.1 in /usr/local/lib/python3.7/dist-packages (from matplotlib->catboost) (1.3.1)\n",
            "Requirement already satisfied: cycler>=0.10 in /usr/local/lib/python3.7/dist-packages (from matplotlib->catboost) (0.10.0)\n",
            "Requirement already satisfied: pyparsing!=2.0.4,!=2.1.2,!=2.1.6,>=2.0.1 in /usr/local/lib/python3.7/dist-packages (from matplotlib->catboost) (2.4.7)\n",
            "Requirement already satisfied: retrying>=1.3.3 in /usr/local/lib/python3.7/dist-packages (from plotly->catboost) (1.3.3)\n",
            "Installing collected packages: catboost\n",
            "Successfully installed catboost-0.26\n"
          ],
          "name": "stdout"
        }
      ]
    },
    {
      "cell_type": "code",
      "metadata": {
        "id": "IgcReuIUf9Oj"
      },
      "source": [
        "from catboost import CatBoostClassifier, Pool"
      ],
      "execution_count": null,
      "outputs": []
    },
    {
      "cell_type": "code",
      "metadata": {
        "id": "e5jukETf8atF"
      },
      "source": [
        "  # split features in numeric and categorical\n",
        "  numeric_cols = features_df.columns[features_df.dtypes != \"object\"].values\n",
        "  object_cols = features_df.columns[features_df.dtypes == \"object\"].values\n",
        "  # impute data\n",
        "  features_num_imputed = features_df[numeric_cols].fillna(features_df.median(),inplace=False)\n",
        "  features_obj_imputed = features_df[object_cols].fillna(features_df.mode().iloc[0])\n",
        "\n",
        "  features_imputed = pd.merge(features_num_imputed, features_obj_imputed, how='inner', on='respondent_id')"
      ],
      "execution_count": null,
      "outputs": []
    },
    {
      "cell_type": "code",
      "metadata": {
        "id": "BtPL9vocf9uL",
        "colab": {
          "base_uri": "https://localhost:8080/"
        },
        "outputId": "22978faa-63c3-4927-d395-62c6b2eddc7c"
      },
      "source": [
        "X_train, X_test, y_train, y_test = train_test_split(features_imputed, labels_df, test_size=0.3, random_state=68)\n",
        "\n",
        "categorical_features_indices = np.where(features_imputed.dtypes != float)[0]\n",
        "categorical_features_indices"
      ],
      "execution_count": null,
      "outputs": [
        {
          "output_type": "execute_result",
          "data": {
            "text/plain": [
              "array([23, 24, 25, 26, 27, 28, 29, 30, 31, 32, 33, 34])"
            ]
          },
          "metadata": {
            "tags": []
          },
          "execution_count": 45
        }
      ]
    },
    {
      "cell_type": "code",
      "metadata": {
        "id": "pBmSm7UFf9r4"
      },
      "source": [
        "# Initialize model\n",
        "catBoostmodel = CatBoostClassifier(verbose=False,\n",
        "    cat_features=categorical_features_indices,\n",
        "    iterations=500,\n",
        "    learning_rate=0.05745075659543725,\n",
        "    random_strength=4,\n",
        "    bagging_temperature=8,\n",
        "    max_bin=5,\n",
        "    grow_policy='Lossguide',\n",
        "    min_data_in_leaf=7,\n",
        "    max_depth=6,\n",
        "    l2_leaf_reg=11.323094517862078,\n",
        "    one_hot_max_size=10,\n",
        "    auto_class_weights='Balanced')"
      ],
      "execution_count": null,
      "outputs": []
    },
    {
      "cell_type": "code",
      "metadata": {
        "colab": {
          "base_uri": "https://localhost:8080/"
        },
        "id": "SAHCp5Na-9a_",
        "outputId": "6eb5a8c9-6b9b-45e4-cb50-2211a85ae71d"
      },
      "source": [
        "catBoostmodel.fit(X_train, y_train.h1n1_vaccine)"
      ],
      "execution_count": null,
      "outputs": [
        {
          "output_type": "execute_result",
          "data": {
            "text/plain": [
              "<catboost.core.CatBoostClassifier at 0x7f2d5afd5690>"
            ]
          },
          "metadata": {
            "tags": []
          },
          "execution_count": 47
        }
      ]
    },
    {
      "cell_type": "code",
      "metadata": {
        "id": "Kv5HVTyaCAHG"
      },
      "source": [
        "pred_h1n1 = catBoostmodel.predict_proba(X_test)"
      ],
      "execution_count": null,
      "outputs": []
    },
    {
      "cell_type": "code",
      "metadata": {
        "colab": {
          "base_uri": "https://localhost:8080/"
        },
        "id": "5vvpTW8tCM4L",
        "outputId": "7a6a1038-1c90-4285-a8ad-5c3dab461141"
      },
      "source": [
        "pred_h1n1"
      ],
      "execution_count": null,
      "outputs": [
        {
          "output_type": "execute_result",
          "data": {
            "text/plain": [
              "array([[0.66839332, 0.33160668],\n",
              "       [0.61925204, 0.38074796],\n",
              "       [0.76705262, 0.23294738],\n",
              "       ...,\n",
              "       [0.92174797, 0.07825203],\n",
              "       [0.44563856, 0.55436144],\n",
              "       [0.64284364, 0.35715636]])"
            ]
          },
          "metadata": {
            "tags": []
          },
          "execution_count": 70
        }
      ]
    },
    {
      "cell_type": "code",
      "metadata": {
        "id": "YOXBDHT4CIpX"
      },
      "source": [
        "pred_h1n1 = pred_h1n1[:,1].reshape(-1,1)"
      ],
      "execution_count": null,
      "outputs": []
    },
    {
      "cell_type": "code",
      "metadata": {
        "colab": {
          "base_uri": "https://localhost:8080/",
          "height": 513
        },
        "id": "jVQ2z0_UCIkw",
        "outputId": "95d04217-4fb9-4eb4-c75b-c9c15b61044f"
      },
      "source": [
        "fig, ax = plt.subplots(1, 1, figsize=(7, 7))\n",
        "\n",
        "plot_roc(\n",
        "    y_test.h1n1_vaccine, \n",
        "    pred_h1n1, \n",
        "    'h1n1_vaccine',\n",
        "    ax=ax\n",
        ")\n",
        "\n",
        "fig.tight_layout()"
      ],
      "execution_count": null,
      "outputs": [
        {
          "output_type": "display_data",
          "data": {
            "image/png": "[encoded data removed]",
            "text/plain": [
              "<Figure size 504x504 with 1 Axes>"
            ]
          },
          "metadata": {
            "tags": [],
            "needs_background": "light"
          }
        }
      ]
    },
    {
      "cell_type": "markdown",
      "metadata": {
        "id": "DEg6dlw2y0-O"
      },
      "source": [
        "## Hyperparameter optimization\n",
        "optimize he hyperparameters with Optuna"
      ]
    },
    {
      "cell_type": "code",
      "metadata": {
        "colab": {
          "base_uri": "https://localhost:8080/"
        },
        "id": "9rx6yKFzy1TR",
        "outputId": "2eaaff59-6782-4f7c-ac5a-ac0f97a3437c"
      },
      "source": [
        "!pip install --quiet optuna"
      ],
      "execution_count": 21,
      "outputs": [
        {
          "output_type": "stream",
          "text": [
            "\u001b[K     |████████████████████████████████| 302 kB 6.6 MB/s \n",
            "\u001b[K     |████████████████████████████████| 164 kB 45.3 MB/s \n",
            "\u001b[K     |████████████████████████████████| 80 kB 8.4 MB/s \n",
            "\u001b[K     |████████████████████████████████| 75 kB 4.1 MB/s \n",
            "\u001b[K     |████████████████████████████████| 141 kB 32.5 MB/s \n",
            "\u001b[K     |████████████████████████████████| 111 kB 68.8 MB/s \n",
            "\u001b[K     |████████████████████████████████| 49 kB 5.6 MB/s \n",
            "\u001b[?25h  Building wheel for pyperclip (setup.py) ... \u001b[?25l\u001b[?25hdone\n"
          ],
          "name": "stdout"
        }
      ]
    },
    {
      "cell_type": "code",
      "metadata": {
        "colab": {
          "base_uri": "https://localhost:8080/",
          "height": 36
        },
        "id": "I3EL4UEjzG4w",
        "outputId": "7e98e32f-e313-429d-b64e-fae52ce108f9"
      },
      "source": [
        "import optuna\n",
        "from sklearn.model_selection import cross_val_score\n",
        "from optuna.visualization import plot_contour\n",
        "\n",
        "optuna.__version__"
      ],
      "execution_count": 35,
      "outputs": [
        {
          "output_type": "execute_result",
          "data": {
            "application/vnd.google.colaboratory.intrinsic+json": {
              "type": "string"
            },
            "text/plain": [
              "'2.9.1'"
            ]
          },
          "metadata": {},
          "execution_count": 35
        }
      ]
    },
    {
      "cell_type": "code",
      "metadata": {
        "colab": {
          "base_uri": "https://localhost:8080/"
        },
        "id": "i1XbqgcYzHey",
        "outputId": "ca0351a3-8061-4842-e7e5-db41ce8278c2"
      },
      "source": [
        "def objective(trial):\n",
        "#    iris = sklearn.datasets.load_iris()\n",
        "    \n",
        "    n_estimators = trial.suggest_int('n_estimators', 200, 1000, step=100)\n",
        "    max_depth = trial.suggest_int('max_depth', 2, 5)\n",
        "    learning_rate = trial.suggest_float('learning_rate', 0.05, 0.15)\n",
        "    \n",
        "    # clf = RandomForestRegressor(\n",
        "    #     n_estimators=n_estimators, max_depth=max_depth)\n",
        "    clf = XGBRegressor(learning_rate=learning_rate, max_depth=max_depth, n_estimators=n_estimators, verbosity=1, objective='reg:squarederror')\n",
        "    \n",
        "    return np.array(cross_val_score(GBR_h1n1, X_train_h1n1, y_train_h1n1, scoring='roc_auc', n_jobs=-1, cv=5).mean(), \n",
        "                    cross_val_score(GBR_seasonal, X_train_seasonal, y_train_seasonal, scoring='roc_auc', n_jobs=-1, cv=5).mean()).mean()\n",
        "\n",
        "study = optuna.create_study(direction='maximize')\n",
        "study.optimize(objective, n_trials=10)\n",
        "\n",
        "trial = study.best_trial\n",
        "\n",
        "print('ROC_AUC: {}'.format(trial.value))\n",
        "print(\"Best hyperparameters: {}\".format(trial.params))"
      ],
      "execution_count": 25,
      "outputs": [
        {
          "output_type": "stream",
          "text": [
            "\u001b[32m[I 2021-08-20 09:54:16,311]\u001b[0m A new study created in memory with name: no-name-a54f273b-8cb5-489a-907e-b51c95b06cc5\u001b[0m\n",
            "\u001b[32m[I 2021-08-20 09:55:22,828]\u001b[0m Trial 0 finished with value: 0.8377752729128696 and parameters: {'n_estimators': 400, 'max_depth': 3, 'learning_rate': 0.070067327867909}. Best is trial 0 with value: 0.8377752729128696.\u001b[0m\n",
            "\u001b[32m[I 2021-08-20 09:55:58,981]\u001b[0m Trial 1 finished with value: 0.8378030649234807 and parameters: {'n_estimators': 300, 'max_depth': 2, 'learning_rate': 0.10338197655929912}. Best is trial 1 with value: 0.8378030649234807.\u001b[0m\n",
            "\u001b[32m[I 2021-08-20 09:57:10,064]\u001b[0m Trial 2 finished with value: 0.8389720371809224 and parameters: {'n_estimators': 600, 'max_depth': 2, 'learning_rate': 0.09074284802168232}. Best is trial 2 with value: 0.8389720371809224.\u001b[0m\n",
            "\u001b[32m[I 2021-08-20 10:01:02,344]\u001b[0m Trial 3 finished with value: 0.8212784213583706 and parameters: {'n_estimators': 900, 'max_depth': 5, 'learning_rate': 0.06016793630093355}. Best is trial 2 with value: 0.8389720371809224.\u001b[0m\n",
            "\u001b[32m[I 2021-08-20 10:01:35,255]\u001b[0m Trial 4 finished with value: 0.8378693932542502 and parameters: {'n_estimators': 200, 'max_depth': 3, 'learning_rate': 0.14327192213353093}. Best is trial 2 with value: 0.8389720371809224.\u001b[0m\n",
            "\u001b[32m[I 2021-08-20 10:03:44,410]\u001b[0m Trial 5 finished with value: 0.832190037975689 and parameters: {'n_estimators': 800, 'max_depth': 3, 'learning_rate': 0.12587937131770371}. Best is trial 2 with value: 0.8389720371809224.\u001b[0m\n",
            "\u001b[32m[I 2021-08-20 10:04:47,265]\u001b[0m Trial 6 finished with value: 0.8329919570520412 and parameters: {'n_estimators': 300, 'max_depth': 4, 'learning_rate': 0.11860308853961356}. Best is trial 2 with value: 0.8389720371809224.\u001b[0m\n",
            "\u001b[32m[I 2021-08-20 10:08:14,631]\u001b[0m Trial 7 finished with value: 0.8056863062781993 and parameters: {'n_estimators': 800, 'max_depth': 5, 'learning_rate': 0.13703314696196878}. Best is trial 2 with value: 0.8389720371809224.\u001b[0m\n",
            "\u001b[32m[I 2021-08-20 10:09:06,900]\u001b[0m Trial 8 finished with value: 0.8364079678172581 and parameters: {'n_estimators': 200, 'max_depth': 5, 'learning_rate': 0.06430148109483338}. Best is trial 2 with value: 0.8389720371809224.\u001b[0m\n",
            "\u001b[32m[I 2021-08-20 10:12:07,993]\u001b[0m Trial 9 finished with value: 0.814414775471171 and parameters: {'n_estimators': 700, 'max_depth': 5, 'learning_rate': 0.11039814161742212}. Best is trial 2 with value: 0.8389720371809224.\u001b[0m\n"
          ],
          "name": "stderr"
        },
        {
          "output_type": "stream",
          "text": [
            "ROC_AUC: 0.8389720371809224\n",
            "Best hyperparameters: {'n_estimators': 600, 'max_depth': 2, 'learning_rate': 0.09074284802168232}\n"
          ],
          "name": "stdout"
        }
      ]
    },
    {
      "cell_type": "code",
      "metadata": {
        "id": "eTvGisTAnkzR",
        "outputId": "75968bd9-ae40-424b-9178-950ab165afdb",
        "colab": {
          "base_uri": "https://localhost:8080/",
          "height": 542
        }
      },
      "source": [
        "plot_contour(study, target_name='ROC_AUC_SCORE')"
      ],
      "execution_count": 37,
      "outputs": [
        {
          "output_type": "display_data",
          "data": {
            "text/html": [
              "<html>\n",
              "<head><meta charset=\"utf-8\" /></head>\n",
              "<body>\n",
              "    <div>\n",
              "            <script src=\"https://cdnjs.cloudflare.com/ajax/libs/mathjax/2.7.5/MathJax.js?config=TeX-AMS-MML_SVG\"></script><script type=\"text/javascript\">if (window.MathJax) {MathJax.Hub.Config({SVG: {font: \"STIX-Web\"}});}</script>\n",
              "                <script type=\"text/javascript\">window.PlotlyConfig = {MathJaxConfig: 'local'};</script>\n",
              "        <script src=\"https://cdn.plot.ly/plotly-latest.min.js\"></script>    \n",
              "            <div id=\"49001e62-8023-40a8-80d3-d2d7f50d2e8f\" class=\"plotly-graph-div\" style=\"height:525px; width:100%;\"></div>\n",
              "            <script type=\"text/javascript\">\n",
              "                \n",
              "                    window.PLOTLYENV=window.PLOTLYENV || {};\n",
              "                    \n",
              "                if (document.getElementById(\"49001e62-8023-40a8-80d3-d2d7f50d2e8f\")) {\n",
              "                    Plotly.newPlot(\n",
              "                        '49001e62-8023-40a8-80d3-d2d7f50d2e8f',\n",
              "                        [{\"type\": \"scatter\", \"xaxis\": \"x\", \"yaxis\": \"y\"}, {\"colorbar\": {\"title\": {\"text\": \"ROC_AUC_SCORE\"}}, \"colorscale\": [[0, \"rgb(5,10,172)\"], [0.35, \"rgb(40,60,190)\"], [0.5, \"rgb(70,100,245)\"], [0.6, \"rgb(90,120,245)\"], [0.7, \"rgb(106,137,247)\"], [1, \"rgb(220,220,220)\"]], \"connectgaps\": true, \"contours\": {\"coloring\": \"heatmap\"}, \"hoverinfo\": \"none\", \"line\": {\"smoothing\": 1.3}, \"reversescale\": false, \"showscale\": true, \"type\": \"contour\", \"x\": [0.056012737009303676, 0.06016793630093355, 0.06430148109483338, 0.070067327867909, 0.09074284802168232, 0.10338197655929912, 0.11039814161742212, 0.11860308853961356, 0.12587937131770371, 0.13703314696196878, 0.14327192213353093, 0.1474271214251608], \"xaxis\": \"x4\", \"y\": [1.85, 2, 3, 4, 5, 5.15], \"yaxis\": \"y4\", \"z\": [[null, null, null, null, null, null, null, null, null, null, null, null], [null, null, null, null, 0.8389720371809224, 0.8378030649234807, null, null, null, null, null, null], [null, null, null, 0.8377752729128696, null, null, null, null, 0.832190037975689, null, 0.8378693932542502, null], [null, null, null, null, null, null, null, 0.8329919570520412, null, null, null, null], [null, 0.8212784213583706, 0.8364079678172581, null, null, null, 0.814414775471171, null, null, 0.8056863062781993, null, null], [null, null, null, null, null, null, null, null, null, null, null, null]]}, {\"marker\": {\"color\": \"black\", \"line\": {\"color\": \"Grey\", \"width\": 0.5}}, \"mode\": \"markers\", \"showlegend\": false, \"type\": \"scatter\", \"x\": [0.070067327867909, 0.10338197655929912, 0.09074284802168232, 0.06016793630093355, 0.14327192213353093, 0.12587937131770371, 0.11860308853961356, 0.13703314696196878, 0.06430148109483338, 0.11039814161742212], \"xaxis\": \"x4\", \"y\": [3, 2, 2, 5, 3, 3, 4, 5, 5, 5], \"yaxis\": \"y4\"}, {\"colorbar\": {\"title\": {\"text\": \"ROC_AUC_SCORE\"}}, \"colorscale\": [[0, \"rgb(5,10,172)\"], [0.35, \"rgb(40,60,190)\"], [0.5, \"rgb(70,100,245)\"], [0.6, \"rgb(90,120,245)\"], [0.7, \"rgb(106,137,247)\"], [1, \"rgb(220,220,220)\"]], \"connectgaps\": true, \"contours\": {\"coloring\": \"heatmap\"}, \"hoverinfo\": \"none\", \"line\": {\"smoothing\": 1.3}, \"reversescale\": false, \"showscale\": false, \"type\": \"contour\", \"x\": [0.056012737009303676, 0.06016793630093355, 0.06430148109483338, 0.070067327867909, 0.09074284802168232, 0.10338197655929912, 0.11039814161742212, 0.11860308853961356, 0.12587937131770371, 0.13703314696196878, 0.14327192213353093, 0.1474271214251608], \"xaxis\": \"x7\", \"y\": [165.0, 200, 300, 400, 600, 700, 800, 900, 935.0], \"yaxis\": \"y7\", \"z\": [[null, null, null, null, null, null, null, null, null, null, null, null], [null, null, 0.8364079678172581, null, null, null, null, null, null, null, 0.8378693932542502, null], [null, null, null, null, null, 0.8378030649234807, null, 0.8329919570520412, null, null, null, null], [null, null, null, 0.8377752729128696, null, null, null, null, null, null, null, null], [null, null, null, null, 0.8389720371809224, null, null, null, null, null, null, null], [null, null, null, null, null, null, 0.814414775471171, null, null, null, null, null], [null, null, null, null, null, null, null, null, 0.832190037975689, 0.8056863062781993, null, null], [null, 0.8212784213583706, null, null, null, null, null, null, null, null, null, null], [null, null, null, null, null, null, null, null, null, null, null, null]]}, {\"marker\": {\"color\": \"black\", \"line\": {\"color\": \"Grey\", \"width\": 0.5}}, \"mode\": \"markers\", \"showlegend\": false, \"type\": \"scatter\", \"x\": [0.070067327867909, 0.10338197655929912, 0.09074284802168232, 0.06016793630093355, 0.14327192213353093, 0.12587937131770371, 0.11860308853961356, 0.13703314696196878, 0.06430148109483338, 0.11039814161742212], \"xaxis\": \"x7\", \"y\": [400, 300, 600, 900, 200, 800, 300, 800, 200, 700], \"yaxis\": \"y7\"}, {\"colorbar\": {\"title\": {\"text\": \"ROC_AUC_SCORE\"}}, \"colorscale\": [[0, \"rgb(5,10,172)\"], [0.35, \"rgb(40,60,190)\"], [0.5, \"rgb(70,100,245)\"], [0.6, \"rgb(90,120,245)\"], [0.7, \"rgb(106,137,247)\"], [1, \"rgb(220,220,220)\"]], \"connectgaps\": true, \"contours\": {\"coloring\": \"heatmap\"}, \"hoverinfo\": \"none\", \"line\": {\"smoothing\": 1.3}, \"reversescale\": false, \"showscale\": false, \"type\": \"contour\", \"x\": [1.85, 2, 3, 4, 5, 5.15], \"xaxis\": \"x2\", \"y\": [0.056012737009303676, 0.06016793630093355, 0.06430148109483338, 0.070067327867909, 0.09074284802168232, 0.10338197655929912, 0.11039814161742212, 0.11860308853961356, 0.12587937131770371, 0.13703314696196878, 0.14327192213353093, 0.1474271214251608], \"yaxis\": \"y2\", \"z\": [[null, null, null, null, null, null], [null, null, null, null, 0.8212784213583706, null], [null, null, null, null, 0.8364079678172581, null], [null, null, 0.8377752729128696, null, null, null], [null, 0.8389720371809224, null, null, null, null], [null, 0.8378030649234807, null, null, null, null], [null, null, null, null, 0.814414775471171, null], [null, null, null, 0.8329919570520412, null, null], [null, null, 0.832190037975689, null, null, null], [null, null, null, null, 0.8056863062781993, null], [null, null, 0.8378693932542502, null, null, null], [null, null, null, null, null, null]]}, {\"marker\": {\"color\": \"black\", \"line\": {\"color\": \"Grey\", \"width\": 0.5}}, \"mode\": \"markers\", \"showlegend\": false, \"type\": \"scatter\", \"x\": [3, 2, 2, 5, 3, 3, 4, 5, 5, 5], \"xaxis\": \"x2\", \"y\": [0.070067327867909, 0.10338197655929912, 0.09074284802168232, 0.06016793630093355, 0.14327192213353093, 0.12587937131770371, 0.11860308853961356, 0.13703314696196878, 0.06430148109483338, 0.11039814161742212], \"yaxis\": \"y2\"}, {\"type\": \"scatter\", \"xaxis\": \"x5\", \"yaxis\": \"y5\"}, {\"colorbar\": {\"title\": {\"text\": \"ROC_AUC_SCORE\"}}, \"colorscale\": [[0, \"rgb(5,10,172)\"], [0.35, \"rgb(40,60,190)\"], [0.5, \"rgb(70,100,245)\"], [0.6, \"rgb(90,120,245)\"], [0.7, \"rgb(106,137,247)\"], [1, \"rgb(220,220,220)\"]], \"connectgaps\": true, \"contours\": {\"coloring\": \"heatmap\"}, \"hoverinfo\": \"none\", \"line\": {\"smoothing\": 1.3}, \"reversescale\": false, \"showscale\": false, \"type\": \"contour\", \"x\": [1.85, 2, 3, 4, 5, 5.15], \"xaxis\": \"x8\", \"y\": [165.0, 200, 300, 400, 600, 700, 800, 900, 935.0], \"yaxis\": \"y8\", \"z\": [[null, null, null, null, null, null], [null, null, 0.8378693932542502, null, 0.8364079678172581, null], [null, 0.8378030649234807, null, 0.8329919570520412, null, null], [null, null, 0.8377752729128696, null, null, null], [null, 0.8389720371809224, null, null, null, null], [null, null, null, null, 0.814414775471171, null], [null, null, 0.832190037975689, null, 0.8056863062781993, null], [null, null, null, null, 0.8212784213583706, null], [null, null, null, null, null, null]]}, {\"marker\": {\"color\": \"black\", \"line\": {\"color\": \"Grey\", \"width\": 0.5}}, \"mode\": \"markers\", \"showlegend\": false, \"type\": \"scatter\", \"x\": [3, 2, 2, 5, 3, 3, 4, 5, 5, 5], \"xaxis\": \"x8\", \"y\": [400, 300, 600, 900, 200, 800, 300, 800, 200, 700], \"yaxis\": \"y8\"}, {\"colorbar\": {\"title\": {\"text\": \"ROC_AUC_SCORE\"}}, \"colorscale\": [[0, \"rgb(5,10,172)\"], [0.35, \"rgb(40,60,190)\"], [0.5, \"rgb(70,100,245)\"], [0.6, \"rgb(90,120,245)\"], [0.7, \"rgb(106,137,247)\"], [1, \"rgb(220,220,220)\"]], \"connectgaps\": true, \"contours\": {\"coloring\": \"heatmap\"}, \"hoverinfo\": \"none\", \"line\": {\"smoothing\": 1.3}, \"reversescale\": false, \"showscale\": false, \"type\": \"contour\", \"x\": [165.0, 200, 300, 400, 600, 700, 800, 900, 935.0], \"xaxis\": \"x3\", \"y\": [0.056012737009303676, 0.06016793630093355, 0.06430148109483338, 0.070067327867909, 0.09074284802168232, 0.10338197655929912, 0.11039814161742212, 0.11860308853961356, 0.12587937131770371, 0.13703314696196878, 0.14327192213353093, 0.1474271214251608], \"yaxis\": \"y3\", \"z\": [[null, null, null, null, null, null, null, null, null], [null, null, null, null, null, null, null, 0.8212784213583706, null], [null, 0.8364079678172581, null, null, null, null, null, null, null], [null, null, null, 0.8377752729128696, null, null, null, null, null], [null, null, null, null, 0.8389720371809224, null, null, null, null], [null, null, 0.8378030649234807, null, null, null, null, null, null], [null, null, null, null, null, 0.814414775471171, null, null, null], [null, null, 0.8329919570520412, null, null, null, null, null, null], [null, null, null, null, null, null, 0.832190037975689, null, null], [null, null, null, null, null, null, 0.8056863062781993, null, null], [null, 0.8378693932542502, null, null, null, null, null, null, null], [null, null, null, null, null, null, null, null, null]]}, {\"marker\": {\"color\": \"black\", \"line\": {\"color\": \"Grey\", \"width\": 0.5}}, \"mode\": \"markers\", \"showlegend\": false, \"type\": \"scatter\", \"x\": [400, 300, 600, 900, 200, 800, 300, 800, 200, 700], \"xaxis\": \"x3\", \"y\": [0.070067327867909, 0.10338197655929912, 0.09074284802168232, 0.06016793630093355, 0.14327192213353093, 0.12587937131770371, 0.11860308853961356, 0.13703314696196878, 0.06430148109483338, 0.11039814161742212], \"yaxis\": \"y3\"}, {\"colorbar\": {\"title\": {\"text\": \"ROC_AUC_SCORE\"}}, \"colorscale\": [[0, \"rgb(5,10,172)\"], [0.35, \"rgb(40,60,190)\"], [0.5, \"rgb(70,100,245)\"], [0.6, \"rgb(90,120,245)\"], [0.7, \"rgb(106,137,247)\"], [1, \"rgb(220,220,220)\"]], \"connectgaps\": true, \"contours\": {\"coloring\": \"heatmap\"}, \"hoverinfo\": \"none\", \"line\": {\"smoothing\": 1.3}, \"reversescale\": false, \"showscale\": false, \"type\": \"contour\", \"x\": [165.0, 200, 300, 400, 600, 700, 800, 900, 935.0], \"xaxis\": \"x6\", \"y\": [1.85, 2, 3, 4, 5, 5.15], \"yaxis\": \"y6\", \"z\": [[null, null, null, null, null, null, null, null, null], [null, null, 0.8378030649234807, null, 0.8389720371809224, null, null, null, null], [null, 0.8378693932542502, null, 0.8377752729128696, null, null, 0.832190037975689, null, null], [null, null, 0.8329919570520412, null, null, null, null, null, null], [null, 0.8364079678172581, null, null, null, 0.814414775471171, 0.8056863062781993, 0.8212784213583706, null], [null, null, null, null, null, null, null, null, null]]}, {\"marker\": {\"color\": \"black\", \"line\": {\"color\": \"Grey\", \"width\": 0.5}}, \"mode\": \"markers\", \"showlegend\": false, \"type\": \"scatter\", \"x\": [400, 300, 600, 900, 200, 800, 300, 800, 200, 700], \"xaxis\": \"x6\", \"y\": [3, 2, 2, 5, 3, 3, 4, 5, 5, 5], \"yaxis\": \"y6\"}, {\"type\": \"scatter\", \"xaxis\": \"x9\", \"yaxis\": \"y9\"}],\n",
              "                        {\"template\": {\"data\": {\"bar\": [{\"error_x\": {\"color\": \"#2a3f5f\"}, \"error_y\": {\"color\": \"#2a3f5f\"}, \"marker\": {\"line\": {\"color\": \"#E5ECF6\", \"width\": 0.5}}, \"type\": \"bar\"}], \"barpolar\": [{\"marker\": {\"line\": {\"color\": \"#E5ECF6\", \"width\": 0.5}}, \"type\": \"barpolar\"}], \"carpet\": [{\"aaxis\": {\"endlinecolor\": \"#2a3f5f\", \"gridcolor\": \"white\", \"linecolor\": \"white\", \"minorgridcolor\": \"white\", \"startlinecolor\": \"#2a3f5f\"}, \"baxis\": {\"endlinecolor\": \"#2a3f5f\", \"gridcolor\": \"white\", \"linecolor\": \"white\", \"minorgridcolor\": \"white\", \"startlinecolor\": \"#2a3f5f\"}, \"type\": \"carpet\"}], \"choropleth\": [{\"colorbar\": {\"outlinewidth\": 0, \"ticks\": \"\"}, \"type\": \"choropleth\"}], \"contour\": [{\"colorbar\": {\"outlinewidth\": 0, \"ticks\": \"\"}, \"colorscale\": [[0.0, \"#0d0887\"], [0.1111111111111111, \"#46039f\"], [0.2222222222222222, \"#7201a8\"], [0.3333333333333333, \"#9c179e\"], [0.4444444444444444, \"#bd3786\"], [0.5555555555555556, \"#d8576b\"], [0.6666666666666666, \"#ed7953\"], [0.7777777777777778, \"#fb9f3a\"], [0.8888888888888888, \"#fdca26\"], [1.0, \"#f0f921\"]], \"type\": \"contour\"}], \"contourcarpet\": [{\"colorbar\": {\"outlinewidth\": 0, \"ticks\": \"\"}, \"type\": \"contourcarpet\"}], \"heatmap\": [{\"colorbar\": {\"outlinewidth\": 0, \"ticks\": \"\"}, \"colorscale\": [[0.0, \"#0d0887\"], [0.1111111111111111, \"#46039f\"], [0.2222222222222222, \"#7201a8\"], [0.3333333333333333, \"#9c179e\"], [0.4444444444444444, \"#bd3786\"], [0.5555555555555556, \"#d8576b\"], [0.6666666666666666, \"#ed7953\"], [0.7777777777777778, \"#fb9f3a\"], [0.8888888888888888, \"#fdca26\"], [1.0, \"#f0f921\"]], \"type\": \"heatmap\"}], \"heatmapgl\": [{\"colorbar\": {\"outlinewidth\": 0, \"ticks\": \"\"}, \"colorscale\": [[0.0, \"#0d0887\"], [0.1111111111111111, \"#46039f\"], [0.2222222222222222, \"#7201a8\"], [0.3333333333333333, \"#9c179e\"], [0.4444444444444444, \"#bd3786\"], [0.5555555555555556, \"#d8576b\"], [0.6666666666666666, \"#ed7953\"], [0.7777777777777778, \"#fb9f3a\"], [0.8888888888888888, \"#fdca26\"], [1.0, \"#f0f921\"]], \"type\": \"heatmapgl\"}], \"histogram\": [{\"marker\": {\"colorbar\": {\"outlinewidth\": 0, \"ticks\": \"\"}}, \"type\": \"histogram\"}], \"histogram2d\": [{\"colorbar\": {\"outlinewidth\": 0, \"ticks\": \"\"}, \"colorscale\": [[0.0, \"#0d0887\"], [0.1111111111111111, \"#46039f\"], [0.2222222222222222, \"#7201a8\"], [0.3333333333333333, \"#9c179e\"], [0.4444444444444444, \"#bd3786\"], [0.5555555555555556, \"#d8576b\"], [0.6666666666666666, \"#ed7953\"], [0.7777777777777778, \"#fb9f3a\"], [0.8888888888888888, \"#fdca26\"], [1.0, \"#f0f921\"]], \"type\": \"histogram2d\"}], \"histogram2dcontour\": [{\"colorbar\": {\"outlinewidth\": 0, \"ticks\": \"\"}, \"colorscale\": [[0.0, \"#0d0887\"], [0.1111111111111111, \"#46039f\"], [0.2222222222222222, \"#7201a8\"], [0.3333333333333333, \"#9c179e\"], [0.4444444444444444, \"#bd3786\"], [0.5555555555555556, \"#d8576b\"], [0.6666666666666666, \"#ed7953\"], [0.7777777777777778, \"#fb9f3a\"], [0.8888888888888888, \"#fdca26\"], [1.0, \"#f0f921\"]], \"type\": \"histogram2dcontour\"}], \"mesh3d\": [{\"colorbar\": {\"outlinewidth\": 0, \"ticks\": \"\"}, \"type\": \"mesh3d\"}], \"parcoords\": [{\"line\": {\"colorbar\": {\"outlinewidth\": 0, \"ticks\": \"\"}}, \"type\": \"parcoords\"}], \"pie\": [{\"automargin\": true, \"type\": \"pie\"}], \"scatter\": [{\"marker\": {\"colorbar\": {\"outlinewidth\": 0, \"ticks\": \"\"}}, \"type\": \"scatter\"}], \"scatter3d\": [{\"line\": {\"colorbar\": {\"outlinewidth\": 0, \"ticks\": \"\"}}, \"marker\": {\"colorbar\": {\"outlinewidth\": 0, \"ticks\": \"\"}}, \"type\": \"scatter3d\"}], \"scattercarpet\": [{\"marker\": {\"colorbar\": {\"outlinewidth\": 0, \"ticks\": \"\"}}, \"type\": \"scattercarpet\"}], \"scattergeo\": [{\"marker\": {\"colorbar\": {\"outlinewidth\": 0, \"ticks\": \"\"}}, \"type\": \"scattergeo\"}], \"scattergl\": [{\"marker\": {\"colorbar\": {\"outlinewidth\": 0, \"ticks\": \"\"}}, \"type\": \"scattergl\"}], \"scattermapbox\": [{\"marker\": {\"colorbar\": {\"outlinewidth\": 0, \"ticks\": \"\"}}, \"type\": \"scattermapbox\"}], \"scatterpolar\": [{\"marker\": {\"colorbar\": {\"outlinewidth\": 0, \"ticks\": \"\"}}, \"type\": \"scatterpolar\"}], \"scatterpolargl\": [{\"marker\": {\"colorbar\": {\"outlinewidth\": 0, \"ticks\": \"\"}}, \"type\": \"scatterpolargl\"}], \"scatterternary\": [{\"marker\": {\"colorbar\": {\"outlinewidth\": 0, \"ticks\": \"\"}}, \"type\": \"scatterternary\"}], \"surface\": [{\"colorbar\": {\"outlinewidth\": 0, \"ticks\": \"\"}, \"colorscale\": [[0.0, \"#0d0887\"], [0.1111111111111111, \"#46039f\"], [0.2222222222222222, \"#7201a8\"], [0.3333333333333333, \"#9c179e\"], [0.4444444444444444, \"#bd3786\"], [0.5555555555555556, \"#d8576b\"], [0.6666666666666666, \"#ed7953\"], [0.7777777777777778, \"#fb9f3a\"], [0.8888888888888888, \"#fdca26\"], [1.0, \"#f0f921\"]], \"type\": \"surface\"}], \"table\": [{\"cells\": {\"fill\": {\"color\": \"#EBF0F8\"}, \"line\": {\"color\": \"white\"}}, \"header\": {\"fill\": {\"color\": \"#C8D4E3\"}, \"line\": {\"color\": \"white\"}}, \"type\": \"table\"}]}, \"layout\": {\"annotationdefaults\": {\"arrowcolor\": \"#2a3f5f\", \"arrowhead\": 0, \"arrowwidth\": 1}, \"coloraxis\": {\"colorbar\": {\"outlinewidth\": 0, \"ticks\": \"\"}}, \"colorscale\": {\"diverging\": [[0, \"#8e0152\"], [0.1, \"#c51b7d\"], [0.2, \"#de77ae\"], [0.3, \"#f1b6da\"], [0.4, \"#fde0ef\"], [0.5, \"#f7f7f7\"], [0.6, \"#e6f5d0\"], [0.7, \"#b8e186\"], [0.8, \"#7fbc41\"], [0.9, \"#4d9221\"], [1, \"#276419\"]], \"sequential\": [[0.0, \"#0d0887\"], [0.1111111111111111, \"#46039f\"], [0.2222222222222222, \"#7201a8\"], [0.3333333333333333, \"#9c179e\"], [0.4444444444444444, \"#bd3786\"], [0.5555555555555556, \"#d8576b\"], [0.6666666666666666, \"#ed7953\"], [0.7777777777777778, \"#fb9f3a\"], [0.8888888888888888, \"#fdca26\"], [1.0, \"#f0f921\"]], \"sequentialminus\": [[0.0, \"#0d0887\"], [0.1111111111111111, \"#46039f\"], [0.2222222222222222, \"#7201a8\"], [0.3333333333333333, \"#9c179e\"], [0.4444444444444444, \"#bd3786\"], [0.5555555555555556, \"#d8576b\"], [0.6666666666666666, \"#ed7953\"], [0.7777777777777778, \"#fb9f3a\"], [0.8888888888888888, \"#fdca26\"], [1.0, \"#f0f921\"]]}, \"colorway\": [\"#636efa\", \"#EF553B\", \"#00cc96\", \"#ab63fa\", \"#FFA15A\", \"#19d3f3\", \"#FF6692\", \"#B6E880\", \"#FF97FF\", \"#FECB52\"], \"font\": {\"color\": \"#2a3f5f\"}, \"geo\": {\"bgcolor\": \"white\", \"lakecolor\": \"white\", \"landcolor\": \"#E5ECF6\", \"showlakes\": true, \"showland\": true, \"subunitcolor\": \"white\"}, \"hoverlabel\": {\"align\": \"left\"}, \"hovermode\": \"closest\", \"mapbox\": {\"style\": \"light\"}, \"paper_bgcolor\": \"white\", \"plot_bgcolor\": \"#E5ECF6\", \"polar\": {\"angularaxis\": {\"gridcolor\": \"white\", \"linecolor\": \"white\", \"ticks\": \"\"}, \"bgcolor\": \"#E5ECF6\", \"radialaxis\": {\"gridcolor\": \"white\", \"linecolor\": \"white\", \"ticks\": \"\"}}, \"scene\": {\"xaxis\": {\"backgroundcolor\": \"#E5ECF6\", \"gridcolor\": \"white\", \"gridwidth\": 2, \"linecolor\": \"white\", \"showbackground\": true, \"ticks\": \"\", \"zerolinecolor\": \"white\"}, \"yaxis\": {\"backgroundcolor\": \"#E5ECF6\", \"gridcolor\": \"white\", \"gridwidth\": 2, \"linecolor\": \"white\", \"showbackground\": true, \"ticks\": \"\", \"zerolinecolor\": \"white\"}, \"zaxis\": {\"backgroundcolor\": \"#E5ECF6\", \"gridcolor\": \"white\", \"gridwidth\": 2, \"linecolor\": \"white\", \"showbackground\": true, \"ticks\": \"\", \"zerolinecolor\": \"white\"}}, \"shapedefaults\": {\"line\": {\"color\": \"#2a3f5f\"}}, \"ternary\": {\"aaxis\": {\"gridcolor\": \"white\", \"linecolor\": \"white\", \"ticks\": \"\"}, \"baxis\": {\"gridcolor\": \"white\", \"linecolor\": \"white\", \"ticks\": \"\"}, \"bgcolor\": \"#E5ECF6\", \"caxis\": {\"gridcolor\": \"white\", \"linecolor\": \"white\", \"ticks\": \"\"}}, \"title\": {\"x\": 0.05}, \"xaxis\": {\"automargin\": true, \"gridcolor\": \"white\", \"linecolor\": \"white\", \"ticks\": \"\", \"title\": {\"standoff\": 15}, \"zerolinecolor\": \"white\", \"zerolinewidth\": 2}, \"yaxis\": {\"automargin\": true, \"gridcolor\": \"white\", \"linecolor\": \"white\", \"ticks\": \"\", \"title\": {\"standoff\": 15}, \"zerolinecolor\": \"white\", \"zerolinewidth\": 2}}}, \"title\": {\"text\": \"Contour Plot\"}, \"xaxis\": {\"anchor\": \"y\", \"domain\": [0.0, 0.2888888888888889], \"matches\": \"x7\", \"range\": [0.056012737009303676, 0.1474271214251608], \"showticklabels\": false}, \"xaxis2\": {\"anchor\": \"y2\", \"domain\": [0.35555555555555557, 0.6444444444444445], \"matches\": \"x8\", \"range\": [1.85, 5.15], \"showticklabels\": false}, \"xaxis3\": {\"anchor\": \"y3\", \"domain\": [0.7111111111111111, 1.0], \"matches\": \"x9\", \"range\": [165.0, 935.0], \"showticklabels\": false}, \"xaxis4\": {\"anchor\": \"y4\", \"domain\": [0.0, 0.2888888888888889], \"matches\": \"x7\", \"range\": [0.056012737009303676, 0.1474271214251608], \"showticklabels\": false}, \"xaxis5\": {\"anchor\": \"y5\", \"domain\": [0.35555555555555557, 0.6444444444444445], \"matches\": \"x8\", \"range\": [1.85, 5.15], \"showticklabels\": false}, \"xaxis6\": {\"anchor\": \"y6\", \"domain\": [0.7111111111111111, 1.0], \"matches\": \"x9\", \"range\": [165.0, 935.0], \"showticklabels\": false}, \"xaxis7\": {\"anchor\": \"y7\", \"domain\": [0.0, 0.2888888888888889], \"range\": [0.056012737009303676, 0.1474271214251608], \"title\": {\"text\": \"learning_rate\"}}, \"xaxis8\": {\"anchor\": \"y8\", \"domain\": [0.35555555555555557, 0.6444444444444445], \"range\": [1.85, 5.15], \"title\": {\"text\": \"max_depth\"}}, \"xaxis9\": {\"anchor\": \"y9\", \"domain\": [0.7111111111111111, 1.0], \"range\": [165.0, 935.0], \"title\": {\"text\": \"n_estimators\"}}, \"yaxis\": {\"anchor\": \"x\", \"domain\": [0.7333333333333333, 1.0], \"range\": [0.056012737009303676, 0.1474271214251608], \"title\": {\"text\": \"learning_rate\"}}, \"yaxis2\": {\"anchor\": \"x2\", \"domain\": [0.7333333333333333, 1.0], \"matches\": \"y\", \"range\": [0.056012737009303676, 0.1474271214251608], \"showticklabels\": false}, \"yaxis3\": {\"anchor\": \"x3\", \"domain\": [0.7333333333333333, 1.0], \"matches\": \"y\", \"range\": [0.056012737009303676, 0.1474271214251608], \"showticklabels\": false}, \"yaxis4\": {\"anchor\": \"x4\", \"domain\": [0.36666666666666664, 0.6333333333333333], \"range\": [1.85, 5.15], \"title\": {\"text\": \"max_depth\"}}, \"yaxis5\": {\"anchor\": \"x5\", \"domain\": [0.36666666666666664, 0.6333333333333333], \"matches\": \"y4\", \"range\": [1.85, 5.15], \"showticklabels\": false}, \"yaxis6\": {\"anchor\": \"x6\", \"domain\": [0.36666666666666664, 0.6333333333333333], \"matches\": \"y4\", \"range\": [1.85, 5.15], \"showticklabels\": false}, \"yaxis7\": {\"anchor\": \"x7\", \"domain\": [0.0, 0.26666666666666666], \"range\": [165.0, 935.0], \"title\": {\"text\": \"n_estimators\"}}, \"yaxis8\": {\"anchor\": \"x8\", \"domain\": [0.0, 0.26666666666666666], \"matches\": \"y7\", \"range\": [165.0, 935.0], \"showticklabels\": false}, \"yaxis9\": {\"anchor\": \"x9\", \"domain\": [0.0, 0.26666666666666666], \"matches\": \"y7\", \"range\": [165.0, 935.0], \"showticklabels\": false}},\n",
              "                        {\"responsive\": true}\n",
              "                    ).then(function(){\n",
              "                            \n",
              "var gd = document.getElementById('49001e62-8023-40a8-80d3-d2d7f50d2e8f');\n",
              "var x = new MutationObserver(function (mutations, observer) {{\n",
              "        var display = window.getComputedStyle(gd).display;\n",
              "        if (!display || display === 'none') {{\n",
              "            console.log([gd, 'removed!']);\n",
              "            Plotly.purge(gd);\n",
              "            observer.disconnect();\n",
              "        }}\n",
              "}});\n",
              "\n",
              "// Listen for the removal of the full notebook cells\n",
              "var notebookContainer = gd.closest('#notebook-container');\n",
              "if (notebookContainer) {{\n",
              "    x.observe(notebookContainer, {childList: true});\n",
              "}}\n",
              "\n",
              "// Listen for the clearing of the current output cell\n",
              "var outputEl = gd.closest('.output');\n",
              "if (outputEl) {{\n",
              "    x.observe(outputEl, {childList: true});\n",
              "}}\n",
              "\n",
              "                        })\n",
              "                };\n",
              "                \n",
              "            </script>\n",
              "        </div>\n",
              "</body>\n",
              "</html>"
            ]
          },
          "metadata": {}
        }
      ]
    },
    {
      "cell_type": "code",
      "metadata": {
        "id": "qC-5rRI7lxzY"
      },
      "source": [
        "roc_auc_score(np.hstack((y_eval_h1n1, y_eval_seasonal)), np.hstack((GBR_h1n1_pred, GBR_seasonal_pred)))"
      ],
      "execution_count": null,
      "outputs": []
    },
    {
      "cell_type": "code",
      "metadata": {
        "id": "9FEugOOuJJNr"
      },
      "source": [
        "# Random Forest\n",
        "# Accuracy: 0.8260519172978962; \n",
        "# Best hyperparameters: {'n_estimators': 450, 'max_depth': 5}"
      ],
      "execution_count": null,
      "outputs": []
    },
    {
      "cell_type": "markdown",
      "metadata": {
        "id": "b3daKzrMZbZl"
      },
      "source": [
        "## Submission"
      ]
    },
    {
      "cell_type": "code",
      "metadata": {
        "id": "eOT9mH9I_fQJ"
      },
      "source": [
        "def get_submission(predictor_h1n1, predictor_seasonal, test_features, path):\n",
        "  '''\n",
        "    Takes one fitted regressor per target value (h1n1 and seasonal_flue) and creates submission file with time stamp.\n",
        "  '''\n",
        "    # Predict\n",
        "  pred_h1n1 = predictor_h1n1.predict(test_features)\n",
        "  pred_seasonal = predictor_seasonal.predict(test_features)\n",
        "\n",
        "  # Create submission file\n",
        "  predictions = np.stack([test_df.index.values, pred_h1n1, pred_seasonal], axis=1)\n",
        "  print('Save submission file to Drive...')\n",
        "  path = path+'submissions/'\n",
        "  timestr = time.strftime(\"%d_%m_%Y__%H_%M_%S\")\n",
        "  filename = path + timestr + '.csv'\n",
        "  np.savetxt(filename, predictions, delimiter=',', header=\"respondent_id, h1n1_vaccine, seasonal_vaccine\", comments=\"\")\n",
        "  print('Submission saved! \\n Path to file: '+ filename)"
      ],
      "execution_count": 46,
      "outputs": []
    },
    {
      "cell_type": "code",
      "metadata": {
        "colab": {
          "base_uri": "https://localhost:8080/"
        },
        "id": "jxKdOGGNRT9M",
        "outputId": "ee76d88b-d076-414e-ca70-e5f3a66f0f5e"
      },
      "source": [
        "# Gradient Boost \n",
        "get_submission(predictor_h1n1=GBR_h1n1, predictor_seasonal=GBR_seasonal, test_features=features_test, path=path)"
      ],
      "execution_count": 106,
      "outputs": [
        {
          "output_type": "stream",
          "text": [
            "Save submission file to Drive...\n",
            "Submission saved! \n",
            " Path to file: /content/drive/MyDrive/Flu_challenge/Predict-H1N1-and-Seasonal-Flu-Vaccines/data/submissions/20_08_2021__11_02_32.csv\n"
          ],
          "name": "stdout"
        }
      ]
    },
    {
      "cell_type": "code",
      "metadata": {
        "id": "gVKnQih3obpF",
        "colab": {
          "base_uri": "https://localhost:8080/"
        },
        "outputId": "2abe3727-f740-4dfa-f8a2-3bad7e261f54"
      },
      "source": [
        "# XGradientBoost submission\n",
        "get_submission(predictor_h1n1=XGBR_h1n1, predictor_seasonal=XGBR_seasonal, test_features=features_test, path=path)"
      ],
      "execution_count": null,
      "outputs": [
        {
          "output_type": "stream",
          "text": [
            "Save submission file to Drive...\n",
            "Submission saved! \n",
            " Path to file: /content/drive/MyDrive/Flu_challenge/Predict-H1N1-and-Seasonal-Flu-Vaccines/data/submissions/20_07_2021__17_30_05.csv\n"
          ],
          "name": "stdout"
        }
      ]
    },
    {
      "cell_type": "markdown",
      "metadata": {
        "id": "EGqKKJ3fktk8"
      },
      "source": [
        "Mögliche To Dos:\n",
        "\n",
        "- Aufteilen der Features in h1n1-relevant und seasonal-relevant\n",
        "- Grid search über einige Parameter des RandomForest und GradientBoost\n",
        "- Weiteren Ansatz testen?\n",
        "\n",
        "Christian:\n",
        "- Code um verschiedene Funktionen durchzusetzen"
      ]
    },
    {
      "cell_type": "markdown",
      "metadata": {
        "id": "2g1f6CUZyfXS"
      },
      "source": [
        "## Training (walkthrough)"
      ]
    },
    {
      "cell_type": "code",
      "metadata": {
        "id": "SNE2S7-JxCN_"
      },
      "source": [
        "estimators = RandomForestRegressor()"
      ],
      "execution_count": null,
      "outputs": []
    },
    {
      "cell_type": "code",
      "metadata": {
        "id": "YqPxuJZZxTMC"
      },
      "source": [
        "full_pipeline = Pipeline([\n",
        "    #(\"preprocessor\", preprocessor),\n",
        "    (\"estimators\", estimators),\n",
        "])"
      ],
      "execution_count": null,
      "outputs": []
    },
    {
      "cell_type": "code",
      "metadata": {
        "id": "PaUlKKfnEfrG",
        "colab": {
          "base_uri": "https://localhost:8080/",
          "height": 455
        },
        "outputId": "5cd3c7e9-04f5-481a-e13b-1b61c21301fb"
      },
      "source": [
        "labels_df"
      ],
      "execution_count": null,
      "outputs": [
        {
          "output_type": "execute_result",
          "data": {
            "text/html": [
              "<div>\n",
              "<style scoped>\n",
              "    .dataframe tbody tr th:only-of-type {\n",
              "        vertical-align: middle;\n",
              "    }\n",
              "\n",
              "    .dataframe tbody tr th {\n",
              "        vertical-align: top;\n",
              "    }\n",
              "\n",
              "    .dataframe thead th {\n",
              "        text-align: right;\n",
              "    }\n",
              "</style>\n",
              "<table border=\"1\" class=\"dataframe\">\n",
              "  <thead>\n",
              "    <tr style=\"text-align: right;\">\n",
              "      <th></th>\n",
              "      <th>h1n1_vaccine</th>\n",
              "      <th>seasonal_vaccine</th>\n",
              "    </tr>\n",
              "    <tr>\n",
              "      <th>respondent_id</th>\n",
              "      <th></th>\n",
              "      <th></th>\n",
              "    </tr>\n",
              "  </thead>\n",
              "  <tbody>\n",
              "    <tr>\n",
              "      <th>0</th>\n",
              "      <td>0</td>\n",
              "      <td>0</td>\n",
              "    </tr>\n",
              "    <tr>\n",
              "      <th>1</th>\n",
              "      <td>0</td>\n",
              "      <td>1</td>\n",
              "    </tr>\n",
              "    <tr>\n",
              "      <th>2</th>\n",
              "      <td>0</td>\n",
              "      <td>0</td>\n",
              "    </tr>\n",
              "    <tr>\n",
              "      <th>3</th>\n",
              "      <td>0</td>\n",
              "      <td>1</td>\n",
              "    </tr>\n",
              "    <tr>\n",
              "      <th>4</th>\n",
              "      <td>0</td>\n",
              "      <td>0</td>\n",
              "    </tr>\n",
              "    <tr>\n",
              "      <th>...</th>\n",
              "      <td>...</td>\n",
              "      <td>...</td>\n",
              "    </tr>\n",
              "    <tr>\n",
              "      <th>26702</th>\n",
              "      <td>0</td>\n",
              "      <td>0</td>\n",
              "    </tr>\n",
              "    <tr>\n",
              "      <th>26703</th>\n",
              "      <td>0</td>\n",
              "      <td>0</td>\n",
              "    </tr>\n",
              "    <tr>\n",
              "      <th>26704</th>\n",
              "      <td>0</td>\n",
              "      <td>1</td>\n",
              "    </tr>\n",
              "    <tr>\n",
              "      <th>26705</th>\n",
              "      <td>0</td>\n",
              "      <td>0</td>\n",
              "    </tr>\n",
              "    <tr>\n",
              "      <th>26706</th>\n",
              "      <td>0</td>\n",
              "      <td>0</td>\n",
              "    </tr>\n",
              "  </tbody>\n",
              "</table>\n",
              "<p>26707 rows × 2 columns</p>\n",
              "</div>"
            ],
            "text/plain": [
              "               h1n1_vaccine  seasonal_vaccine\n",
              "respondent_id                                \n",
              "0                         0                 0\n",
              "1                         0                 1\n",
              "2                         0                 0\n",
              "3                         0                 1\n",
              "4                         0                 0\n",
              "...                     ...               ...\n",
              "26702                     0                 0\n",
              "26703                     0                 0\n",
              "26704                     0                 1\n",
              "26705                     0                 0\n",
              "26706                     0                 0\n",
              "\n",
              "[26707 rows x 2 columns]"
            ]
          },
          "metadata": {
            "tags": []
          },
          "execution_count": 21
        }
      ]
    },
    {
      "cell_type": "code",
      "metadata": {
        "id": "ihjtSwVqxhq9"
      },
      "source": [
        "X_train, X_eval, y_train, y_eval = train_test_split(\n",
        "    features_df,\n",
        "    labels_df,\n",
        "    test_size=0.33,\n",
        "    shuffle=True,\n",
        "    stratify=labels_df,\n",
        "    random_state=RANDOM_SEED\n",
        ")"
      ],
      "execution_count": null,
      "outputs": []
    },
    {
      "cell_type": "code",
      "metadata": {
        "id": "lRuD-9r1xtRG",
        "colab": {
          "base_uri": "https://localhost:8080/"
        },
        "outputId": "022fa3be-b336-467c-9abe-c964a3da98d7"
      },
      "source": [
        "%%time\n",
        "\n",
        "# Train model\n",
        "# full_pipeline.fit(X_train_h1n1, y_train_h1n1)\n",
        "\n",
        "# Predict on evaluation set\n",
        "# This competition wants probabilities, not labels\n",
        "preds = full_pipeline.predict(X_eval_h1n1)\n",
        "preds"
      ],
      "execution_count": null,
      "outputs": [
        {
          "output_type": "stream",
          "text": [
            "CPU times: user 122 ms, sys: 0 ns, total: 122 ms\n",
            "Wall time: 129 ms\n"
          ],
          "name": "stdout"
        }
      ]
    },
    {
      "cell_type": "code",
      "metadata": {
        "id": "9B1571ngC7Yp",
        "colab": {
          "base_uri": "https://localhost:8080/"
        },
        "outputId": "5e6efa8a-717b-4b12-faec-b6516f70b862"
      },
      "source": [
        "preds"
      ],
      "execution_count": null,
      "outputs": [
        {
          "output_type": "execute_result",
          "data": {
            "text/plain": [
              "array([0.2 , 0.16, 0.19, ..., 0.54, 0.29, 0.09])"
            ]
          },
          "metadata": {
            "tags": []
          },
          "execution_count": 20
        }
      ]
    },
    {
      "cell_type": "code",
      "metadata": {
        "id": "g1jZenU7xuvv",
        "colab": {
          "base_uri": "https://localhost:8080/"
        },
        "outputId": "0098e2e3-932c-4abd-f1ab-64692637056f"
      },
      "source": [
        "print(\"test_probas[0].shape\", preds[0].shape)\n",
        "print(\"test_probas[1].shape\", preds[1].shape)"
      ],
      "execution_count": null,
      "outputs": [
        {
          "output_type": "stream",
          "text": [
            "test_probas[0].shape (8814, 2)\n",
            "test_probas[1].shape (8814, 2)\n"
          ],
          "name": "stdout"
        }
      ]
    },
    {
      "cell_type": "code",
      "metadata": {
        "id": "_KyE8XsixypC",
        "colab": {
          "base_uri": "https://localhost:8080/",
          "height": 250
        },
        "outputId": "dbb13883-667f-4759-b15f-e896c61cc08c"
      },
      "source": [
        "y_preds = pd.DataFrame(\n",
        "    {\n",
        "        \"h1n1_vaccine\": preds[0][:, 1],\n",
        "        \"seasonal_vaccine\": preds[1][:, 1],\n",
        "    },\n",
        "    index = y_eval.index\n",
        ")\n",
        "print(\"y_preds.shape:\", y_preds.shape)\n",
        "y_preds.head()"
      ],
      "execution_count": null,
      "outputs": [
        {
          "output_type": "stream",
          "text": [
            "y_preds.shape: (8814, 2)\n"
          ],
          "name": "stdout"
        },
        {
          "output_type": "execute_result",
          "data": {
            "text/html": [
              "<div>\n",
              "<style scoped>\n",
              "    .dataframe tbody tr th:only-of-type {\n",
              "        vertical-align: middle;\n",
              "    }\n",
              "\n",
              "    .dataframe tbody tr th {\n",
              "        vertical-align: top;\n",
              "    }\n",
              "\n",
              "    .dataframe thead th {\n",
              "        text-align: right;\n",
              "    }\n",
              "</style>\n",
              "<table border=\"1\" class=\"dataframe\">\n",
              "  <thead>\n",
              "    <tr style=\"text-align: right;\">\n",
              "      <th></th>\n",
              "      <th>h1n1_vaccine</th>\n",
              "      <th>seasonal_vaccine</th>\n",
              "    </tr>\n",
              "    <tr>\n",
              "      <th>respondent_id</th>\n",
              "      <th></th>\n",
              "      <th></th>\n",
              "    </tr>\n",
              "  </thead>\n",
              "  <tbody>\n",
              "    <tr>\n",
              "      <th>6728</th>\n",
              "      <td>0.291010</td>\n",
              "      <td>0.472780</td>\n",
              "    </tr>\n",
              "    <tr>\n",
              "      <th>16516</th>\n",
              "      <td>0.097770</td>\n",
              "      <td>0.381615</td>\n",
              "    </tr>\n",
              "    <tr>\n",
              "      <th>3106</th>\n",
              "      <td>0.155402</td>\n",
              "      <td>0.629756</td>\n",
              "    </tr>\n",
              "    <tr>\n",
              "      <th>16981</th>\n",
              "      <td>0.661791</td>\n",
              "      <td>0.857876</td>\n",
              "    </tr>\n",
              "    <tr>\n",
              "      <th>19111</th>\n",
              "      <td>0.284478</td>\n",
              "      <td>0.776927</td>\n",
              "    </tr>\n",
              "  </tbody>\n",
              "</table>\n",
              "</div>"
            ],
            "text/plain": [
              "               h1n1_vaccine  seasonal_vaccine\n",
              "respondent_id                                \n",
              "6728               0.291010          0.472780\n",
              "16516              0.097770          0.381615\n",
              "3106               0.155402          0.629756\n",
              "16981              0.661791          0.857876\n",
              "19111              0.284478          0.776927"
            ]
          },
          "metadata": {
            "tags": []
          },
          "execution_count": 52
        }
      ]
    },
    {
      "cell_type": "code",
      "metadata": {
        "id": "gVqGl-foyEuF",
        "colab": {
          "base_uri": "https://localhost:8080/",
          "height": 261
        },
        "outputId": "d2300a75-8aaa-49df-deff-91ba44b5a612"
      },
      "source": [
        "fig, ax = plt.subplots(1, 2, figsize=(7, 3.5))\n",
        "\n",
        "plot_roc(\n",
        "    y_eval['h1n1_vaccine'], \n",
        "    y_preds['h1n1_vaccine'], \n",
        "    'h1n1_vaccine',\n",
        "    ax=ax[0]\n",
        ")\n",
        "plot_roc(\n",
        "    y_eval['seasonal_vaccine'], \n",
        "    y_preds['seasonal_vaccine'], \n",
        "    'seasonal_vaccine',\n",
        "    ax=ax[1]\n",
        ")\n",
        "fig.tight_layout()"
      ],
      "execution_count": null,
      "outputs": [
        {
          "output_type": "display_data",
          "data": {
            "image/png": "[encoded data removed]",
            "text/plain": [
              "<Figure size 504x252 with 2 Axes>"
            ]
          },
          "metadata": {
            "tags": [],
            "needs_background": "light"
          }
        }
      ]
    },
    {
      "cell_type": "code",
      "metadata": {
        "id": "l2lNI-oJyGHm",
        "colab": {
          "base_uri": "https://localhost:8080/"
        },
        "outputId": "2fb4eda2-c095-40da-be41-5b8d92bda1d2"
      },
      "source": [
        "roc_auc_score(y_eval, y_preds)"
      ],
      "execution_count": null,
      "outputs": [
        {
          "output_type": "execute_result",
          "data": {
            "text/plain": [
              "0.8294712007285718"
            ]
          },
          "metadata": {
            "tags": []
          },
          "execution_count": 55
        }
      ]
    },
    {
      "cell_type": "code",
      "metadata": {
        "id": "tyG-8ze6yNt9"
      },
      "source": [
        ""
      ],
      "execution_count": null,
      "outputs": []
    }
  ]
}