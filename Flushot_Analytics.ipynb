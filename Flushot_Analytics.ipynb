{
  "nbformat": 4,
  "nbformat_minor": 0,
  "metadata": {
    "colab": {
      "name": "Flushot_Entscheidungsbaum.ipynb",
      "provenance": [],
      "collapsed_sections": [],
      "include_colab_link": true
    },
    "kernelspec": {
      "name": "python3",
      "display_name": "Python 3"
    },
    "language_info": {
      "name": "python"
    }
  },
  "cells": [
    {
      "cell_type": "markdown",
      "metadata": {
        "id": "view-in-github",
        "colab_type": "text"
      },
      "source": [
        "<a href=\"https://colab.research.google.com/github/fabianlae/Predict-H1N1-and-Seasonal-Flu-Vaccines/blob/main/Flushot_Analytics.ipynb\" target=\"_parent\"><img src=\"https://colab.research.google.com/assets/colab-badge.svg\" alt=\"Open In Colab\"/></a>"
      ]
    },
    {
      "cell_type": "markdown",
      "metadata": {
        "id": "BiyN3I8ctJT-"
      },
      "source": [
        "# Daten einlesen"
      ]
    },
    {
      "cell_type": "code",
      "metadata": {
        "id": "urJ8UkCXFZId"
      },
      "source": [
        "from pathlib import Path\n",
        "\n",
        "import numpy as np\n",
        "import pandas as pd\n",
        "import time\n",
        "import os\n",
        "os.environ['TZ'] = 'Europe/Berlin'\n",
        "time.tzset()\n",
        "\n",
        "pd.set_option(\"display.max_columns\", 100) # Display more dataframe columns in Jupyter"
      ],
      "execution_count": 1,
      "outputs": []
    },
    {
      "cell_type": "code",
      "metadata": {
        "id": "NAAvgLFWznY2",
        "colab": {
          "base_uri": "https://localhost:8080/"
        },
        "outputId": "fa381c6c-9bd9-4bb7-c870-d4efeb5197aa"
      },
      "source": [
        "from google.colab import drive\n",
        "drive.mount('/content/drive')"
      ],
      "execution_count": 4,
      "outputs": [
        {
          "output_type": "stream",
          "text": [
            "Drive already mounted at /content/drive; to attempt to forcibly remount, call drive.mount(\"/content/drive\", force_remount=True).\n"
          ],
          "name": "stdout"
        }
      ]
    },
    {
      "cell_type": "code",
      "metadata": {
        "id": "ZJmgtcFe1l2F"
      },
      "source": [
        "# fabians pfad: '/content/drive/MyDrive/Flu_challenge/Predict-H1N1-and-Seasonal-Flu-Vaccines/data/raw/'"
      ],
      "execution_count": null,
      "outputs": []
    },
    {
      "cell_type": "code",
      "metadata": {
        "id": "_LshZu8XFn4A"
      },
      "source": [
        "# Root directory for my (Fabian) Google Drive \n",
        "path = '/content/drive/MyDrive/data-flu-shot/data/'\n",
        "root_dir=path+\"raw/\"\n",
        "\n",
        "features_df = pd.read_csv(\n",
        "    root_dir + 'training_set_features.csv', \n",
        "    index_col=\"respondent_id\"\n",
        ")\n",
        "labels_df = pd.read_csv(\n",
        "    root_dir + 'training_set_labels.csv', \n",
        "    index_col=\"respondent_id\"\n",
        ")\n",
        "test_df = pd.read_csv(\n",
        "    root_dir + 'test_set_features.csv', \n",
        "    index_col=\"respondent_id\"\n",
        ")"
      ],
      "execution_count": 27,
      "outputs": []
    },
    {
      "cell_type": "code",
      "metadata": {
        "id": "-VjzWr2-sui9",
        "colab": {
          "base_uri": "https://localhost:8080/",
          "height": 422
        },
        "outputId": "bc240892-f323-4eb5-9701-d5a2a8791adb"
      },
      "source": [
        "print(\"features_df.shape\", features_df.shape)\n",
        "features_df.head()"
      ],
      "execution_count": 28,
      "outputs": [
        {
          "output_type": "stream",
          "text": [
            "features_df.shape (26707, 35)\n"
          ],
          "name": "stdout"
        },
        {
          "output_type": "execute_result",
          "data": {
            "text/html": [
              "<div>\n",
              "<style scoped>\n",
              "    .dataframe tbody tr th:only-of-type {\n",
              "        vertical-align: middle;\n",
              "    }\n",
              "\n",
              "    .dataframe tbody tr th {\n",
              "        vertical-align: top;\n",
              "    }\n",
              "\n",
              "    .dataframe thead th {\n",
              "        text-align: right;\n",
              "    }\n",
              "</style>\n",
              "<table border=\"1\" class=\"dataframe\">\n",
              "  <thead>\n",
              "    <tr style=\"text-align: right;\">\n",
              "      <th></th>\n",
              "      <th>h1n1_concern</th>\n",
              "      <th>h1n1_knowledge</th>\n",
              "      <th>behavioral_antiviral_meds</th>\n",
              "      <th>behavioral_avoidance</th>\n",
              "      <th>behavioral_face_mask</th>\n",
              "      <th>behavioral_wash_hands</th>\n",
              "      <th>behavioral_large_gatherings</th>\n",
              "      <th>behavioral_outside_home</th>\n",
              "      <th>behavioral_touch_face</th>\n",
              "      <th>doctor_recc_h1n1</th>\n",
              "      <th>doctor_recc_seasonal</th>\n",
              "      <th>chronic_med_condition</th>\n",
              "      <th>child_under_6_months</th>\n",
              "      <th>health_worker</th>\n",
              "      <th>health_insurance</th>\n",
              "      <th>opinion_h1n1_vacc_effective</th>\n",
              "      <th>opinion_h1n1_risk</th>\n",
              "      <th>opinion_h1n1_sick_from_vacc</th>\n",
              "      <th>opinion_seas_vacc_effective</th>\n",
              "      <th>opinion_seas_risk</th>\n",
              "      <th>opinion_seas_sick_from_vacc</th>\n",
              "      <th>age_group</th>\n",
              "      <th>education</th>\n",
              "      <th>race</th>\n",
              "      <th>sex</th>\n",
              "      <th>income_poverty</th>\n",
              "      <th>marital_status</th>\n",
              "      <th>rent_or_own</th>\n",
              "      <th>employment_status</th>\n",
              "      <th>hhs_geo_region</th>\n",
              "      <th>census_msa</th>\n",
              "      <th>household_adults</th>\n",
              "      <th>household_children</th>\n",
              "      <th>employment_industry</th>\n",
              "      <th>employment_occupation</th>\n",
              "    </tr>\n",
              "    <tr>\n",
              "      <th>respondent_id</th>\n",
              "      <th></th>\n",
              "      <th></th>\n",
              "      <th></th>\n",
              "      <th></th>\n",
              "      <th></th>\n",
              "      <th></th>\n",
              "      <th></th>\n",
              "      <th></th>\n",
              "      <th></th>\n",
              "      <th></th>\n",
              "      <th></th>\n",
              "      <th></th>\n",
              "      <th></th>\n",
              "      <th></th>\n",
              "      <th></th>\n",
              "      <th></th>\n",
              "      <th></th>\n",
              "      <th></th>\n",
              "      <th></th>\n",
              "      <th></th>\n",
              "      <th></th>\n",
              "      <th></th>\n",
              "      <th></th>\n",
              "      <th></th>\n",
              "      <th></th>\n",
              "      <th></th>\n",
              "      <th></th>\n",
              "      <th></th>\n",
              "      <th></th>\n",
              "      <th></th>\n",
              "      <th></th>\n",
              "      <th></th>\n",
              "      <th></th>\n",
              "      <th></th>\n",
              "      <th></th>\n",
              "    </tr>\n",
              "  </thead>\n",
              "  <tbody>\n",
              "    <tr>\n",
              "      <th>0</th>\n",
              "      <td>1.0</td>\n",
              "      <td>0.0</td>\n",
              "      <td>0.0</td>\n",
              "      <td>0.0</td>\n",
              "      <td>0.0</td>\n",
              "      <td>0.0</td>\n",
              "      <td>0.0</td>\n",
              "      <td>1.0</td>\n",
              "      <td>1.0</td>\n",
              "      <td>0.0</td>\n",
              "      <td>0.0</td>\n",
              "      <td>0.0</td>\n",
              "      <td>0.0</td>\n",
              "      <td>0.0</td>\n",
              "      <td>1.0</td>\n",
              "      <td>3.0</td>\n",
              "      <td>1.0</td>\n",
              "      <td>2.0</td>\n",
              "      <td>2.0</td>\n",
              "      <td>1.0</td>\n",
              "      <td>2.0</td>\n",
              "      <td>55 - 64 Years</td>\n",
              "      <td>&lt; 12 Years</td>\n",
              "      <td>White</td>\n",
              "      <td>Female</td>\n",
              "      <td>Below Poverty</td>\n",
              "      <td>Not Married</td>\n",
              "      <td>Own</td>\n",
              "      <td>Not in Labor Force</td>\n",
              "      <td>oxchjgsf</td>\n",
              "      <td>Non-MSA</td>\n",
              "      <td>0.0</td>\n",
              "      <td>0.0</td>\n",
              "      <td>NaN</td>\n",
              "      <td>NaN</td>\n",
              "    </tr>\n",
              "    <tr>\n",
              "      <th>1</th>\n",
              "      <td>3.0</td>\n",
              "      <td>2.0</td>\n",
              "      <td>0.0</td>\n",
              "      <td>1.0</td>\n",
              "      <td>0.0</td>\n",
              "      <td>1.0</td>\n",
              "      <td>0.0</td>\n",
              "      <td>1.0</td>\n",
              "      <td>1.0</td>\n",
              "      <td>0.0</td>\n",
              "      <td>0.0</td>\n",
              "      <td>0.0</td>\n",
              "      <td>0.0</td>\n",
              "      <td>0.0</td>\n",
              "      <td>1.0</td>\n",
              "      <td>5.0</td>\n",
              "      <td>4.0</td>\n",
              "      <td>4.0</td>\n",
              "      <td>4.0</td>\n",
              "      <td>2.0</td>\n",
              "      <td>4.0</td>\n",
              "      <td>35 - 44 Years</td>\n",
              "      <td>12 Years</td>\n",
              "      <td>White</td>\n",
              "      <td>Male</td>\n",
              "      <td>Below Poverty</td>\n",
              "      <td>Not Married</td>\n",
              "      <td>Rent</td>\n",
              "      <td>Employed</td>\n",
              "      <td>bhuqouqj</td>\n",
              "      <td>MSA, Not Principle  City</td>\n",
              "      <td>0.0</td>\n",
              "      <td>0.0</td>\n",
              "      <td>pxcmvdjn</td>\n",
              "      <td>xgwztkwe</td>\n",
              "    </tr>\n",
              "    <tr>\n",
              "      <th>2</th>\n",
              "      <td>1.0</td>\n",
              "      <td>1.0</td>\n",
              "      <td>0.0</td>\n",
              "      <td>1.0</td>\n",
              "      <td>0.0</td>\n",
              "      <td>0.0</td>\n",
              "      <td>0.0</td>\n",
              "      <td>0.0</td>\n",
              "      <td>0.0</td>\n",
              "      <td>NaN</td>\n",
              "      <td>NaN</td>\n",
              "      <td>1.0</td>\n",
              "      <td>0.0</td>\n",
              "      <td>0.0</td>\n",
              "      <td>NaN</td>\n",
              "      <td>3.0</td>\n",
              "      <td>1.0</td>\n",
              "      <td>1.0</td>\n",
              "      <td>4.0</td>\n",
              "      <td>1.0</td>\n",
              "      <td>2.0</td>\n",
              "      <td>18 - 34 Years</td>\n",
              "      <td>College Graduate</td>\n",
              "      <td>White</td>\n",
              "      <td>Male</td>\n",
              "      <td>&lt;= $75,000, Above Poverty</td>\n",
              "      <td>Not Married</td>\n",
              "      <td>Own</td>\n",
              "      <td>Employed</td>\n",
              "      <td>qufhixun</td>\n",
              "      <td>MSA, Not Principle  City</td>\n",
              "      <td>2.0</td>\n",
              "      <td>0.0</td>\n",
              "      <td>rucpziij</td>\n",
              "      <td>xtkaffoo</td>\n",
              "    </tr>\n",
              "    <tr>\n",
              "      <th>3</th>\n",
              "      <td>1.0</td>\n",
              "      <td>1.0</td>\n",
              "      <td>0.0</td>\n",
              "      <td>1.0</td>\n",
              "      <td>0.0</td>\n",
              "      <td>1.0</td>\n",
              "      <td>1.0</td>\n",
              "      <td>0.0</td>\n",
              "      <td>0.0</td>\n",
              "      <td>0.0</td>\n",
              "      <td>1.0</td>\n",
              "      <td>1.0</td>\n",
              "      <td>0.0</td>\n",
              "      <td>0.0</td>\n",
              "      <td>NaN</td>\n",
              "      <td>3.0</td>\n",
              "      <td>3.0</td>\n",
              "      <td>5.0</td>\n",
              "      <td>5.0</td>\n",
              "      <td>4.0</td>\n",
              "      <td>1.0</td>\n",
              "      <td>65+ Years</td>\n",
              "      <td>12 Years</td>\n",
              "      <td>White</td>\n",
              "      <td>Female</td>\n",
              "      <td>Below Poverty</td>\n",
              "      <td>Not Married</td>\n",
              "      <td>Rent</td>\n",
              "      <td>Not in Labor Force</td>\n",
              "      <td>lrircsnp</td>\n",
              "      <td>MSA, Principle City</td>\n",
              "      <td>0.0</td>\n",
              "      <td>0.0</td>\n",
              "      <td>NaN</td>\n",
              "      <td>NaN</td>\n",
              "    </tr>\n",
              "    <tr>\n",
              "      <th>4</th>\n",
              "      <td>2.0</td>\n",
              "      <td>1.0</td>\n",
              "      <td>0.0</td>\n",
              "      <td>1.0</td>\n",
              "      <td>0.0</td>\n",
              "      <td>1.0</td>\n",
              "      <td>1.0</td>\n",
              "      <td>0.0</td>\n",
              "      <td>1.0</td>\n",
              "      <td>0.0</td>\n",
              "      <td>0.0</td>\n",
              "      <td>0.0</td>\n",
              "      <td>0.0</td>\n",
              "      <td>0.0</td>\n",
              "      <td>NaN</td>\n",
              "      <td>3.0</td>\n",
              "      <td>3.0</td>\n",
              "      <td>2.0</td>\n",
              "      <td>3.0</td>\n",
              "      <td>1.0</td>\n",
              "      <td>4.0</td>\n",
              "      <td>45 - 54 Years</td>\n",
              "      <td>Some College</td>\n",
              "      <td>White</td>\n",
              "      <td>Female</td>\n",
              "      <td>&lt;= $75,000, Above Poverty</td>\n",
              "      <td>Married</td>\n",
              "      <td>Own</td>\n",
              "      <td>Employed</td>\n",
              "      <td>qufhixun</td>\n",
              "      <td>MSA, Not Principle  City</td>\n",
              "      <td>1.0</td>\n",
              "      <td>0.0</td>\n",
              "      <td>wxleyezf</td>\n",
              "      <td>emcorrxb</td>\n",
              "    </tr>\n",
              "  </tbody>\n",
              "</table>\n",
              "</div>"
            ],
            "text/plain": [
              "               h1n1_concern  h1n1_knowledge  behavioral_antiviral_meds  \\\n",
              "respondent_id                                                            \n",
              "0                       1.0             0.0                        0.0   \n",
              "1                       3.0             2.0                        0.0   \n",
              "2                       1.0             1.0                        0.0   \n",
              "3                       1.0             1.0                        0.0   \n",
              "4                       2.0             1.0                        0.0   \n",
              "\n",
              "               behavioral_avoidance  behavioral_face_mask  \\\n",
              "respondent_id                                               \n",
              "0                               0.0                   0.0   \n",
              "1                               1.0                   0.0   \n",
              "2                               1.0                   0.0   \n",
              "3                               1.0                   0.0   \n",
              "4                               1.0                   0.0   \n",
              "\n",
              "               behavioral_wash_hands  behavioral_large_gatherings  \\\n",
              "respondent_id                                                       \n",
              "0                                0.0                          0.0   \n",
              "1                                1.0                          0.0   \n",
              "2                                0.0                          0.0   \n",
              "3                                1.0                          1.0   \n",
              "4                                1.0                          1.0   \n",
              "\n",
              "               behavioral_outside_home  behavioral_touch_face  \\\n",
              "respondent_id                                                   \n",
              "0                                  1.0                    1.0   \n",
              "1                                  1.0                    1.0   \n",
              "2                                  0.0                    0.0   \n",
              "3                                  0.0                    0.0   \n",
              "4                                  0.0                    1.0   \n",
              "\n",
              "               doctor_recc_h1n1  doctor_recc_seasonal  chronic_med_condition  \\\n",
              "respondent_id                                                                  \n",
              "0                           0.0                   0.0                    0.0   \n",
              "1                           0.0                   0.0                    0.0   \n",
              "2                           NaN                   NaN                    1.0   \n",
              "3                           0.0                   1.0                    1.0   \n",
              "4                           0.0                   0.0                    0.0   \n",
              "\n",
              "               child_under_6_months  health_worker  health_insurance  \\\n",
              "respondent_id                                                          \n",
              "0                               0.0            0.0               1.0   \n",
              "1                               0.0            0.0               1.0   \n",
              "2                               0.0            0.0               NaN   \n",
              "3                               0.0            0.0               NaN   \n",
              "4                               0.0            0.0               NaN   \n",
              "\n",
              "               opinion_h1n1_vacc_effective  opinion_h1n1_risk  \\\n",
              "respondent_id                                                   \n",
              "0                                      3.0                1.0   \n",
              "1                                      5.0                4.0   \n",
              "2                                      3.0                1.0   \n",
              "3                                      3.0                3.0   \n",
              "4                                      3.0                3.0   \n",
              "\n",
              "               opinion_h1n1_sick_from_vacc  opinion_seas_vacc_effective  \\\n",
              "respondent_id                                                             \n",
              "0                                      2.0                          2.0   \n",
              "1                                      4.0                          4.0   \n",
              "2                                      1.0                          4.0   \n",
              "3                                      5.0                          5.0   \n",
              "4                                      2.0                          3.0   \n",
              "\n",
              "               opinion_seas_risk  opinion_seas_sick_from_vacc      age_group  \\\n",
              "respondent_id                                                                  \n",
              "0                            1.0                          2.0  55 - 64 Years   \n",
              "1                            2.0                          4.0  35 - 44 Years   \n",
              "2                            1.0                          2.0  18 - 34 Years   \n",
              "3                            4.0                          1.0      65+ Years   \n",
              "4                            1.0                          4.0  45 - 54 Years   \n",
              "\n",
              "                      education   race     sex             income_poverty  \\\n",
              "respondent_id                                                               \n",
              "0                    < 12 Years  White  Female              Below Poverty   \n",
              "1                      12 Years  White    Male              Below Poverty   \n",
              "2              College Graduate  White    Male  <= $75,000, Above Poverty   \n",
              "3                      12 Years  White  Female              Below Poverty   \n",
              "4                  Some College  White  Female  <= $75,000, Above Poverty   \n",
              "\n",
              "              marital_status rent_or_own   employment_status hhs_geo_region  \\\n",
              "respondent_id                                                                 \n",
              "0                Not Married         Own  Not in Labor Force       oxchjgsf   \n",
              "1                Not Married        Rent            Employed       bhuqouqj   \n",
              "2                Not Married         Own            Employed       qufhixun   \n",
              "3                Not Married        Rent  Not in Labor Force       lrircsnp   \n",
              "4                    Married         Own            Employed       qufhixun   \n",
              "\n",
              "                             census_msa  household_adults  household_children  \\\n",
              "respondent_id                                                                   \n",
              "0                               Non-MSA               0.0                 0.0   \n",
              "1              MSA, Not Principle  City               0.0                 0.0   \n",
              "2              MSA, Not Principle  City               2.0                 0.0   \n",
              "3                   MSA, Principle City               0.0                 0.0   \n",
              "4              MSA, Not Principle  City               1.0                 0.0   \n",
              "\n",
              "              employment_industry employment_occupation  \n",
              "respondent_id                                            \n",
              "0                             NaN                   NaN  \n",
              "1                        pxcmvdjn              xgwztkwe  \n",
              "2                        rucpziij              xtkaffoo  \n",
              "3                             NaN                   NaN  \n",
              "4                        wxleyezf              emcorrxb  "
            ]
          },
          "metadata": {
            "tags": []
          },
          "execution_count": 28
        }
      ]
    },
    {
      "cell_type": "code",
      "metadata": {
        "id": "BKbJN-rFsx--",
        "colab": {
          "base_uri": "https://localhost:8080/"
        },
        "outputId": "55c0a531-65f3-48e5-a17f-002ccfac1e8a"
      },
      "source": [
        "features_df.dtypes"
      ],
      "execution_count": 29,
      "outputs": [
        {
          "output_type": "execute_result",
          "data": {
            "text/plain": [
              "h1n1_concern                   float64\n",
              "h1n1_knowledge                 float64\n",
              "behavioral_antiviral_meds      float64\n",
              "behavioral_avoidance           float64\n",
              "behavioral_face_mask           float64\n",
              "behavioral_wash_hands          float64\n",
              "behavioral_large_gatherings    float64\n",
              "behavioral_outside_home        float64\n",
              "behavioral_touch_face          float64\n",
              "doctor_recc_h1n1               float64\n",
              "doctor_recc_seasonal           float64\n",
              "chronic_med_condition          float64\n",
              "child_under_6_months           float64\n",
              "health_worker                  float64\n",
              "health_insurance               float64\n",
              "opinion_h1n1_vacc_effective    float64\n",
              "opinion_h1n1_risk              float64\n",
              "opinion_h1n1_sick_from_vacc    float64\n",
              "opinion_seas_vacc_effective    float64\n",
              "opinion_seas_risk              float64\n",
              "opinion_seas_sick_from_vacc    float64\n",
              "age_group                       object\n",
              "education                       object\n",
              "race                            object\n",
              "sex                             object\n",
              "income_poverty                  object\n",
              "marital_status                  object\n",
              "rent_or_own                     object\n",
              "employment_status               object\n",
              "hhs_geo_region                  object\n",
              "census_msa                      object\n",
              "household_adults               float64\n",
              "household_children             float64\n",
              "employment_industry             object\n",
              "employment_occupation           object\n",
              "dtype: object"
            ]
          },
          "metadata": {
            "tags": []
          },
          "execution_count": 29
        }
      ]
    },
    {
      "cell_type": "code",
      "metadata": {
        "id": "g-bmmollsjW9",
        "colab": {
          "base_uri": "https://localhost:8080/",
          "height": 250
        },
        "outputId": "4134b87c-f47b-486f-94ee-d7832960c778"
      },
      "source": [
        "print(\"labels_df.shape\", labels_df.shape)\n",
        "labels_df.head()"
      ],
      "execution_count": 30,
      "outputs": [
        {
          "output_type": "stream",
          "text": [
            "labels_df.shape (26707, 2)\n"
          ],
          "name": "stdout"
        },
        {
          "output_type": "execute_result",
          "data": {
            "text/html": [
              "<div>\n",
              "<style scoped>\n",
              "    .dataframe tbody tr th:only-of-type {\n",
              "        vertical-align: middle;\n",
              "    }\n",
              "\n",
              "    .dataframe tbody tr th {\n",
              "        vertical-align: top;\n",
              "    }\n",
              "\n",
              "    .dataframe thead th {\n",
              "        text-align: right;\n",
              "    }\n",
              "</style>\n",
              "<table border=\"1\" class=\"dataframe\">\n",
              "  <thead>\n",
              "    <tr style=\"text-align: right;\">\n",
              "      <th></th>\n",
              "      <th>h1n1_vaccine</th>\n",
              "      <th>seasonal_vaccine</th>\n",
              "    </tr>\n",
              "    <tr>\n",
              "      <th>respondent_id</th>\n",
              "      <th></th>\n",
              "      <th></th>\n",
              "    </tr>\n",
              "  </thead>\n",
              "  <tbody>\n",
              "    <tr>\n",
              "      <th>0</th>\n",
              "      <td>0</td>\n",
              "      <td>0</td>\n",
              "    </tr>\n",
              "    <tr>\n",
              "      <th>1</th>\n",
              "      <td>0</td>\n",
              "      <td>1</td>\n",
              "    </tr>\n",
              "    <tr>\n",
              "      <th>2</th>\n",
              "      <td>0</td>\n",
              "      <td>0</td>\n",
              "    </tr>\n",
              "    <tr>\n",
              "      <th>3</th>\n",
              "      <td>0</td>\n",
              "      <td>1</td>\n",
              "    </tr>\n",
              "    <tr>\n",
              "      <th>4</th>\n",
              "      <td>0</td>\n",
              "      <td>0</td>\n",
              "    </tr>\n",
              "  </tbody>\n",
              "</table>\n",
              "</div>"
            ],
            "text/plain": [
              "               h1n1_vaccine  seasonal_vaccine\n",
              "respondent_id                                \n",
              "0                         0                 0\n",
              "1                         0                 1\n",
              "2                         0                 0\n",
              "3                         0                 1\n",
              "4                         0                 0"
            ]
          },
          "metadata": {
            "tags": []
          },
          "execution_count": 30
        }
      ]
    },
    {
      "cell_type": "code",
      "metadata": {
        "id": "a0i2-Fnespu6"
      },
      "source": [
        "\n",
        "np.testing.assert_array_equal(features_df.index.values, labels_df.index.values)"
      ],
      "execution_count": 31,
      "outputs": []
    },
    {
      "cell_type": "markdown",
      "metadata": {
        "id": "I2fYF6uJwS_O"
      },
      "source": [
        "# Analytics\n",
        "\n"
      ]
    },
    {
      "cell_type": "markdown",
      "metadata": {
        "id": "nw7A1fC0yaGt"
      },
      "source": [
        "## Preprocessing"
      ]
    },
    {
      "cell_type": "code",
      "metadata": {
        "id": "ZE7Eq2javq46"
      },
      "source": [
        "from sklearn.preprocessing import StandardScaler\n",
        "from sklearn.impute import SimpleImputer\n",
        "from sklearn.compose import ColumnTransformer\n",
        "\n",
        "from sklearn.linear_model import LogisticRegression\n",
        "from sklearn.ensemble import RandomForestRegressor\n",
        "from sklearn.multioutput import MultiOutputClassifier\n",
        "\n",
        "from sklearn.pipeline import Pipeline\n",
        "\n",
        "from sklearn.model_selection import train_test_split\n",
        "\n",
        "from sklearn.metrics import roc_curve, roc_auc_score\n",
        "\n",
        "RANDOM_SEED = 6    # Set a random seed for reproducibility!"
      ],
      "execution_count": 10,
      "outputs": []
    },
    {
      "cell_type": "code",
      "metadata": {
        "id": "WpYJwdwZwtUT",
        "colab": {
          "base_uri": "https://localhost:8080/"
        },
        "outputId": "8b9ce807-168d-443f-b996-4bbebf130f7b"
      },
      "source": [
        "numeric_cols = features_df.columns[features_df.dtypes != \"object\"].values\n",
        "print(numeric_cols)"
      ],
      "execution_count": 11,
      "outputs": [
        {
          "output_type": "stream",
          "text": [
            "['h1n1_concern' 'h1n1_knowledge' 'behavioral_antiviral_meds'\n",
            " 'behavioral_avoidance' 'behavioral_face_mask' 'behavioral_wash_hands'\n",
            " 'behavioral_large_gatherings' 'behavioral_outside_home'\n",
            " 'behavioral_touch_face' 'doctor_recc_h1n1' 'doctor_recc_seasonal'\n",
            " 'chronic_med_condition' 'child_under_6_months' 'health_worker'\n",
            " 'health_insurance' 'opinion_h1n1_vacc_effective' 'opinion_h1n1_risk'\n",
            " 'opinion_h1n1_sick_from_vacc' 'opinion_seas_vacc_effective'\n",
            " 'opinion_seas_risk' 'opinion_seas_sick_from_vacc' 'household_adults'\n",
            " 'household_children']\n"
          ],
          "name": "stdout"
        }
      ]
    },
    {
      "cell_type": "code",
      "metadata": {
        "id": "RVt9dHSoww0o"
      },
      "source": [
        "# chain preprocessing into a Pipeline object\n",
        "# each step is a tuple of (name you chose, sklearn transformer)\n",
        "numeric_preprocessing_steps = Pipeline([\n",
        "    ('standard_scaler', StandardScaler()),\n",
        "    ('simple_imputer', SimpleImputer(strategy='median'))\n",
        "])\n",
        "\n",
        "# create the preprocessor stage of final pipeline\n",
        "# each entry in the transformer list is a tuple of\n",
        "# (name you choose, sklearn transformer, list of columns)\n",
        "preprocessor = ColumnTransformer(\n",
        "    transformers = [\n",
        "        (\"numeric\", numeric_preprocessing_steps, numeric_cols)\n",
        "    ],\n",
        "    remainder = \"drop\"\n",
        ")"
      ],
      "execution_count": 12,
      "outputs": []
    },
    {
      "cell_type": "markdown",
      "metadata": {
        "id": "GKMFYQZk3q50"
      },
      "source": [
        "## SVM (First Try)"
      ]
    },
    {
      "cell_type": "code",
      "metadata": {
        "id": "VvFlBp373mp8"
      },
      "source": [
        "numeric_cols = features_df.columns[features_df.dtypes != \"object\"].values\n",
        "object_cols=features_df.columns[features_df.dtypes == \"object\"].values"
      ],
      "execution_count": 101,
      "outputs": []
    },
    {
      "cell_type": "code",
      "metadata": {
        "id": "tmJi31-53mk7"
      },
      "source": [
        "from sklearn import svm\n",
        "from sklearn.preprocessing import OneHotEncoder"
      ],
      "execution_count": 102,
      "outputs": []
    },
    {
      "cell_type": "code",
      "metadata": {
        "id": "ukvDpWbp4A2I"
      },
      "source": [
        "h1n1_label = np.asarray(labels_df['h1n1_vaccine'])\n",
        "seasonal_label = np.asarray(labels_df['seasonal_vaccine'])"
      ],
      "execution_count": 103,
      "outputs": []
    },
    {
      "cell_type": "code",
      "metadata": {
        "id": "-pMrf7d27rEH"
      },
      "source": [
        "#neues_df = df[numerische spalten].fillna(df.mean(), inplace=True)\n",
        "features_df_num=features_df[numeric_cols].fillna(features_df.median(),inplace=False)"
      ],
      "execution_count": 104,
      "outputs": []
    },
    {
      "cell_type": "code",
      "metadata": {
        "id": "jWLRaLnF_TUU"
      },
      "source": [
        "features_df_obj=features_df[object_cols].fillna(features_df.mode().iloc[0])"
      ],
      "execution_count": 109,
      "outputs": []
    },
    {
      "cell_type": "code",
      "metadata": {
        "id": "adTxW676_0oQ"
      },
      "source": [
        "# features_df_preprocessed=features_df_num.merge(features_df_num_obj,how='inner',on='respondent_id')\n",
        "# features_df_preprocessed"
      ],
      "execution_count": 106,
      "outputs": []
    },
    {
      "cell_type": "code",
      "metadata": {
        "id": "rxnkHoVrB708"
      },
      "source": [
        "rows = []\n",
        "for index, row in features_df_num.iterrows():\n",
        "  rows.append(row.to_numpy(dtype='int'))\n",
        "features_array_num = np.asarray(rows)"
      ],
      "execution_count": 111,
      "outputs": []
    },
    {
      "cell_type": "code",
      "metadata": {
        "id": "bJeNaRfuD1CC"
      },
      "source": [
        "rows = []\n",
        "for index, row in features_df_obj.iterrows():\n",
        "  rows.append(row)\n",
        "features_array_obj = np.asarray(rows)"
      ],
      "execution_count": 112,
      "outputs": []
    },
    {
      "cell_type": "code",
      "metadata": {
        "id": "rhcGObCn55I6",
        "outputId": "81146ea4-e3f2-4c51-f6e3-6710ad6e29e6",
        "colab": {
          "base_uri": "https://localhost:8080/"
        }
      },
      "source": [
        "enc=OneHotEncoder(handle_unknown='ignore')\n",
        "enc.fit(features_array_obj)\n",
        "enc.categories_"
      ],
      "execution_count": 116,
      "outputs": [
        {
          "output_type": "execute_result",
          "data": {
            "text/plain": [
              "[array(['18 - 34 Years', '35 - 44 Years', '45 - 54 Years', '55 - 64 Years',\n",
              "        '65+ Years'], dtype=object),\n",
              " array(['12 Years', '< 12 Years', 'College Graduate', 'Some College'],\n",
              "       dtype=object),\n",
              " array(['Black', 'Hispanic', 'Other or Multiple', 'White'], dtype=object),\n",
              " array(['Female', 'Male'], dtype=object),\n",
              " array(['<= $75,000, Above Poverty', '> $75,000', 'Below Poverty'],\n",
              "       dtype=object),\n",
              " array(['Married', 'Not Married'], dtype=object),\n",
              " array(['Own', 'Rent'], dtype=object),\n",
              " array(['Employed', 'Not in Labor Force', 'Unemployed'], dtype=object),\n",
              " array(['atmpeygn', 'bhuqouqj', 'dqpwygqj', 'fpwskwrf', 'kbazzjca',\n",
              "        'lrircsnp', 'lzgpxyit', 'mlyzmhmf', 'oxchjgsf', 'qufhixun'],\n",
              "       dtype=object),\n",
              " array(['MSA, Not Principle  City', 'MSA, Principle City', 'Non-MSA'],\n",
              "       dtype=object),\n",
              " array(['arjwrbjb', 'atmlpfrs', 'cfqqtusy', 'dotnnunm', 'fcxhlnwr',\n",
              "        'haxffmxo', 'ldnlellj', 'mcubkhph', 'mfikgejo', 'msuufmds',\n",
              "        'nduyfdeo', 'phxvnwax', 'pxcmvdjn', 'qnlwzans', 'rucpziij',\n",
              "        'saaquncn', 'vjjrobsf', 'wlfvacwt', 'wxleyezf', 'xicduogh',\n",
              "        'xqicxuve'], dtype=object),\n",
              " array(['bxpfxfdn', 'ccgxvspp', 'cmhcxjea', 'dcjcmpih', 'dlvbwzss',\n",
              "        'emcorrxb', 'haliazsg', 'hfxkjkmi', 'hodpvpew', 'kldqjyjy',\n",
              "        'mxkfnird', 'oijqvulv', 'pvmttkik', 'qxajmpny', 'rcertsgn',\n",
              "        'tfqavkke', 'ukymxvdu', 'uqqtjvyb', 'vlluhbov', 'xgwztkwe',\n",
              "        'xqwwgdyp', 'xtkaffoo', 'xzmlyyjv'], dtype=object)]"
            ]
          },
          "metadata": {
            "tags": []
          },
          "execution_count": 116
        }
      ]
    },
    {
      "cell_type": "code",
      "metadata": {
        "id": "5HVJXhF6Ckcr",
        "outputId": "dcf253bc-6ca4-40d0-89da-c53a79030b70",
        "colab": {
          "base_uri": "https://localhost:8080/"
        }
      },
      "source": [
        "encoded_features_array=enc.transform(features_array_obj).toarray()\n",
        "encoded_features_array"
      ],
      "execution_count": 119,
      "outputs": [
        {
          "output_type": "execute_result",
          "data": {
            "text/plain": [
              "array([[0., 0., 0., ..., 0., 1., 0.],\n",
              "       [0., 1., 0., ..., 0., 0., 0.],\n",
              "       [1., 0., 0., ..., 0., 1., 0.],\n",
              "       ...,\n",
              "       [0., 0., 0., ..., 0., 1., 0.],\n",
              "       [1., 0., 0., ..., 0., 0., 0.],\n",
              "       [0., 0., 0., ..., 0., 1., 0.]])"
            ]
          },
          "metadata": {
            "tags": []
          },
          "execution_count": 119
        }
      ]
    },
    {
      "cell_type": "code",
      "metadata": {
        "id": "0cT5tXN8Ezh2"
      },
      "source": [
        "final_features_array=np.column_stack((features_array_num,encoded_features_array))"
      ],
      "execution_count": 135,
      "outputs": []
    },
    {
      "cell_type": "code",
      "metadata": {
        "id": "cT7g6RhUGpxH",
        "outputId": "81e2531f-6b43-4b52-d182-d7528400347f",
        "colab": {
          "base_uri": "https://localhost:8080/"
        }
      },
      "source": [
        "final_features_array.shape"
      ],
      "execution_count": 136,
      "outputs": [
        {
          "output_type": "execute_result",
          "data": {
            "text/plain": [
              "(26707, 105)"
            ]
          },
          "metadata": {
            "tags": []
          },
          "execution_count": 136
        }
      ]
    },
    {
      "cell_type": "code",
      "metadata": {
        "id": "VWV-NBxW0Syy"
      },
      "source": [
        "X_train_h1n1, X_eval_h1n1, y_train_h1n1, y_eval_h1n1 = train_test_split(final_features_array, h1n1_label, test_size=0.2, random_state=42)\n",
        "X_train_seasonal, X_eval_seasonal, y_train_seasonal, y_eval_seasonal = train_test_split(final_features_array, seasonal_label, test_size=0.2, random_state=42)"
      ],
      "execution_count": 138,
      "outputs": []
    },
    {
      "cell_type": "code",
      "metadata": {
        "id": "X79lnhpr4Axm",
        "colab": {
          "base_uri": "https://localhost:8080/"
        },
        "outputId": "5077ce1e-9d45-498c-84f8-7ccb77ff76d4"
      },
      "source": [
        "clf = svm.SVR(kernel='poly', verbose=True, degree=3)\n",
        "clf.fit(X_train_h1n1, y_train_h1n1)"
      ],
      "execution_count": 22,
      "outputs": [
        {
          "output_type": "stream",
          "text": [
            "[LibSVM]"
          ],
          "name": "stdout"
        },
        {
          "output_type": "execute_result",
          "data": {
            "text/plain": [
              "SVR(C=1.0, cache_size=200, coef0=0.0, degree=3, epsilon=0.1, gamma='scale',\n",
              "    kernel='poly', max_iter=-1, shrinking=True, tol=0.001, verbose=True)"
            ]
          },
          "metadata": {
            "tags": []
          },
          "execution_count": 22
        }
      ]
    },
    {
      "cell_type": "code",
      "metadata": {
        "id": "ILj5kZSK1hFI"
      },
      "source": [
        "pred = clf.predict(X_eval_h1n1)"
      ],
      "execution_count": 24,
      "outputs": []
    },
    {
      "cell_type": "code",
      "metadata": {
        "id": "PBo55UPX4Atc"
      },
      "source": [
        "import matplotlib.pyplot as plt\n",
        "\n",
        "def plot_roc(y_true, y_score, label_name, ax):\n",
        "    fpr, tpr, thresholds = roc_curve(y_true, y_score)\n",
        "    # print(thresholds)\n",
        "    ax.plot(fpr, tpr)\n",
        "    ax.plot([0, 1], [0, 1], color='grey', linestyle='--')\n",
        "    ax.set_ylabel('TPR')\n",
        "    ax.set_xlabel('FPR')\n",
        "    ax.set_title(\n",
        "        f\"{label_name}: AUC = {roc_auc_score(y_true, y_score):.4f}\"\n",
        "    )"
      ],
      "execution_count": 25,
      "outputs": []
    },
    {
      "cell_type": "code",
      "metadata": {
        "colab": {
          "base_uri": "https://localhost:8080/",
          "height": 513
        },
        "id": "9-q8-Fhzzjma",
        "outputId": "826e7196-8253-4111-a24d-cab2122c5a06"
      },
      "source": [
        "fig, ax = plt.subplots(1, 1, figsize=(7, 7))\n",
        "\n",
        "plot_roc(\n",
        "    y_eval_h1n1, \n",
        "    pred, \n",
        "    'h1n1_vaccine',\n",
        "    ax=ax\n",
        ")\n",
        "# plot_roc(\n",
        "#     y_eval['seasonal_vaccine'], \n",
        "#     y_preds['seasonal_vaccine'], \n",
        "#     'seasonal_vaccine',\n",
        "#     ax=ax[1]\n",
        "# )\n",
        "fig.tight_layout()"
      ],
      "execution_count": 26,
      "outputs": [
        {
          "output_type": "display_data",
          "data": {
            "image/png": "[encoded data removed]",
            "text/plain": [
              "<Figure size 504x504 with 1 Axes>"
            ]
          },
          "metadata": {
            "tags": [],
            "needs_background": "light"
          }
        }
      ]
    },
    {
      "cell_type": "markdown",
      "metadata": {
        "id": "sXuqRd-47mFu"
      },
      "source": [
        "## Regressor"
      ]
    },
    {
      "cell_type": "markdown",
      "metadata": {
        "id": "v9zCfJkjHuzc"
      },
      "source": [
        "### Random Forest"
      ]
    },
    {
      "cell_type": "code",
      "metadata": {
        "colab": {
          "base_uri": "https://localhost:8080/"
        },
        "id": "0s_HaXep7o37",
        "outputId": "0867f99d-8ac2-4c05-d992-7c9ca99c7e15"
      },
      "source": [
        "from sklearn.ensemble import RandomForestRegressor\n",
        "\n",
        "regr_h1n1 = RandomForestRegressor(max_depth=4, random_state=0, n_estimators=500, verbose=True)\n",
        "regr_seasonal = RandomForestRegressor(max_depth=4, random_state=0, n_estimators=500, verbose=True)\n",
        "\n",
        "regr_h1n1.fit(X_train_h1n1, y_train_h1n1)\n",
        "regr_seasonal.fit(X_train_seasonal, y_train_seasonal)"
      ],
      "execution_count": 139,
      "outputs": [
        {
          "output_type": "stream",
          "text": [
            "[Parallel(n_jobs=1)]: Using backend SequentialBackend with 1 concurrent workers.\n",
            "[Parallel(n_jobs=1)]: Done 500 out of 500 | elapsed:   31.0s finished\n",
            "[Parallel(n_jobs=1)]: Using backend SequentialBackend with 1 concurrent workers.\n",
            "[Parallel(n_jobs=1)]: Done 500 out of 500 | elapsed:   27.8s finished\n"
          ],
          "name": "stderr"
        },
        {
          "output_type": "execute_result",
          "data": {
            "text/plain": [
              "RandomForestRegressor(bootstrap=True, ccp_alpha=0.0, criterion='mse',\n",
              "                      max_depth=4, max_features='auto', max_leaf_nodes=None,\n",
              "                      max_samples=None, min_impurity_decrease=0.0,\n",
              "                      min_impurity_split=None, min_samples_leaf=1,\n",
              "                      min_samples_split=2, min_weight_fraction_leaf=0.0,\n",
              "                      n_estimators=500, n_jobs=None, oob_score=False,\n",
              "                      random_state=0, verbose=True, warm_start=False)"
            ]
          },
          "metadata": {
            "tags": []
          },
          "execution_count": 139
        }
      ]
    },
    {
      "cell_type": "code",
      "metadata": {
        "colab": {
          "base_uri": "https://localhost:8080/"
        },
        "id": "xhe6Pq248Yb4",
        "outputId": "c03ef604-da8d-4c0e-f2af-e3f4a6c529d2"
      },
      "source": [
        "# pred_h1n1 = regr.predict(X_eval)\n",
        "pred_seasonal = regr_seasonal.predict(X_eval_seasonal)"
      ],
      "execution_count": 145,
      "outputs": [
        {
          "output_type": "stream",
          "text": [
            "[Parallel(n_jobs=1)]: Using backend SequentialBackend with 1 concurrent workers.\n",
            "[Parallel(n_jobs=1)]: Done 500 out of 500 | elapsed:    0.2s finished\n"
          ],
          "name": "stderr"
        }
      ]
    },
    {
      "cell_type": "code",
      "metadata": {
        "colab": {
          "base_uri": "https://localhost:8080/"
        },
        "id": "8FyOXuJjMuMT",
        "outputId": "b31c9c10-7936-493a-c360-74bec892e908"
      },
      "source": [
        "type(pred_seasonal)"
      ],
      "execution_count": 146,
      "outputs": [
        {
          "output_type": "execute_result",
          "data": {
            "text/plain": [
              "numpy.ndarray"
            ]
          },
          "metadata": {
            "tags": []
          },
          "execution_count": 146
        }
      ]
    },
    {
      "cell_type": "code",
      "metadata": {
        "colab": {
          "base_uri": "https://localhost:8080/",
          "height": 513
        },
        "id": "UBelfqW28hMy",
        "outputId": "a0dfdfa9-e11c-4622-a1a4-970935dfbfc0"
      },
      "source": [
        "fig, ax = plt.subplots(1, 1, figsize=(7, 7))\n",
        "\n",
        "plot_roc(\n",
        "    y_eval_seasonal, \n",
        "    pred_seasonal, \n",
        "    'seasonal_vaccine',\n",
        "    ax=ax\n",
        ")\n",
        "# plot_roc(\n",
        "#     y_eval['seasonal_vaccine'], \n",
        "#     y_preds['seasonal_vaccine'], \n",
        "#     'seasonal_vaccine',\n",
        "#     ax=ax[1]\n",
        "# )\n",
        "fig.tight_layout()"
      ],
      "execution_count": 148,
      "outputs": [
        {
          "output_type": "display_data",
          "data": {
            "image/png": "[encoded data removed]",
            "text/plain": [
              "<Figure size 504x504 with 1 Axes>"
            ]
          },
          "metadata": {
            "tags": [],
            "needs_background": "light"
          }
        }
      ]
    },
    {
      "cell_type": "markdown",
      "metadata": {
        "id": "-sZoWILJZXfc"
      },
      "source": [
        "### Gradien Boost Regressor"
      ]
    },
    {
      "cell_type": "code",
      "metadata": {
        "colab": {
          "base_uri": "https://localhost:8080/"
        },
        "id": "jACk7EGVY3Ep",
        "outputId": "ea6ac87b-1718-4bde-a39a-d147172befda"
      },
      "source": [
        "from sklearn.ensemble import GradientBoostingRegressor\n",
        "\n",
        "GBR_h1n1 = GradientBoostingRegressor(n_estimators=1500, learning_rate=0.05, random_state=42, verbose=1)\n",
        "GBR_seasonal = GradientBoostingRegressor(n_estimators=1500, learning_rate=0.05, random_state=42, verbose=1)\n",
        "GBR_h1n1.fit(X_train_h1n1, y_train_h1n1)\n",
        "GBR_seasonal.fit(X_train_seasonal, y_train_seasonal)\n",
        "#>>> reg.predict(X_test[1:2])"
      ],
      "execution_count": null,
      "outputs": [
        {
          "output_type": "stream",
          "text": [
            "      Iter       Train Loss   Remaining Time \n",
            "         1           0.1630           31.39s\n",
            "         2           0.1592           30.77s\n",
            "         3           0.1556           30.62s\n",
            "         4           0.1523           30.69s\n",
            "         5           0.1494           30.52s\n",
            "         6           0.1466           30.52s\n",
            "         7           0.1442           30.32s\n",
            "         8           0.1419           30.22s\n",
            "         9           0.1398           30.18s\n",
            "        10           0.1379           30.19s\n",
            "        20           0.1254           29.29s\n",
            "        30           0.1192           29.05s\n",
            "        40           0.1158           28.84s\n",
            "        50           0.1137           28.48s\n",
            "        60           0.1123           28.45s\n",
            "        70           0.1112           28.20s\n",
            "        80           0.1105           28.14s\n",
            "        90           0.1099           27.94s\n",
            "       100           0.1095           27.68s\n",
            "       200           0.1070           25.46s\n",
            "       300           0.1058           23.36s\n",
            "       400           0.1049           21.37s\n",
            "       500           0.1041           19.40s\n",
            "       600           0.1033           17.47s\n",
            "       700           0.1027           15.52s\n",
            "       800           0.1022           13.55s\n",
            "       900           0.1017           11.59s\n",
            "      1000           0.1013            9.65s\n",
            "      Iter       Train Loss   Remaining Time \n",
            "         1           0.2423           31.15s\n",
            "         2           0.2363           30.31s\n",
            "         3           0.2308           30.14s\n",
            "         4           0.2260           29.85s\n",
            "         5           0.2215           29.83s\n",
            "         6           0.2175           29.77s\n",
            "         7           0.2139           29.69s\n",
            "         8           0.2107           29.64s\n",
            "         9           0.2077           29.64s\n",
            "        10           0.2050           29.59s\n",
            "        20           0.1875           29.02s\n",
            "        30           0.1787           28.82s\n",
            "        40           0.1732           28.62s\n",
            "        50           0.1696           28.43s\n",
            "        60           0.1673           28.22s\n",
            "        70           0.1655           27.97s\n",
            "        80           0.1642           27.81s\n",
            "        90           0.1633           27.36s\n",
            "       100           0.1625           27.14s\n",
            "       200           0.1588           25.25s\n",
            "       300           0.1570           23.35s\n",
            "       400           0.1558           21.41s\n",
            "       500           0.1547           19.45s\n",
            "       600           0.1537           17.51s\n",
            "       700           0.1529           15.56s\n",
            "       800           0.1522           13.59s\n",
            "       900           0.1515           11.65s\n",
            "      1000           0.1509            9.70s\n"
          ],
          "name": "stdout"
        },
        {
          "output_type": "execute_result",
          "data": {
            "text/plain": [
              "GradientBoostingRegressor(alpha=0.9, ccp_alpha=0.0, criterion='friedman_mse',\n",
              "                          init=None, learning_rate=0.05, loss='ls', max_depth=3,\n",
              "                          max_features=None, max_leaf_nodes=None,\n",
              "                          min_impurity_decrease=0.0, min_impurity_split=None,\n",
              "                          min_samples_leaf=1, min_samples_split=2,\n",
              "                          min_weight_fraction_leaf=0.0, n_estimators=1500,\n",
              "                          n_iter_no_change=None, presort='deprecated',\n",
              "                          random_state=42, subsample=1.0, tol=0.0001,\n",
              "                          validation_fraction=0.1, verbose=1, warm_start=False)"
            ]
          },
          "metadata": {
            "tags": []
          },
          "execution_count": 93
        }
      ]
    },
    {
      "cell_type": "code",
      "metadata": {
        "colab": {
          "base_uri": "https://localhost:8080/"
        },
        "id": "LFrqsppfZUGY",
        "outputId": "a3d12323-2f93-4e72-b95b-ec7470b5c07f"
      },
      "source": [
        "GBR_h1n1_pred = GBR_h1n1.predict(X_eval_h1n1)\n",
        "GBR_h1n1_pred[:10]"
      ],
      "execution_count": null,
      "outputs": [
        {
          "output_type": "execute_result",
          "data": {
            "text/plain": [
              "array([0.21954522, 0.29845448, 0.04099891, 0.31651845, 0.05777334,\n",
              "       0.38633702, 0.23710502, 0.248635  , 0.21694655, 0.75894532])"
            ]
          },
          "metadata": {
            "tags": []
          },
          "execution_count": 94
        }
      ]
    },
    {
      "cell_type": "code",
      "metadata": {
        "colab": {
          "base_uri": "https://localhost:8080/",
          "height": 513
        },
        "id": "BsuunqzHZqig",
        "outputId": "538b512c-f0f8-4857-b9f5-d3bf6087680b"
      },
      "source": [
        "fig, ax = plt.subplots(1, 1, figsize=(7, 7))\n",
        "\n",
        "plot_roc(\n",
        "    y_eval, \n",
        "    GBR_h1n1_pred, \n",
        "    'h1n1_vaccine',\n",
        "    ax=ax\n",
        ")\n",
        "# plot_roc(\n",
        "#     y_eval['seasonal_vaccine'], \n",
        "#     y_preds['seasonal_vaccine'], \n",
        "#     'seasonal_vaccine',\n",
        "#     ax=ax[1]\n",
        "# )\n",
        "fig.tight_layout()"
      ],
      "execution_count": null,
      "outputs": [
        {
          "output_type": "display_data",
          "data": {
            "image/png": "[encoded data removed]",
            "text/plain": [
              "<Figure size 504x504 with 1 Axes>"
            ]
          },
          "metadata": {
            "tags": [],
            "needs_background": "light"
          }
        }
      ]
    },
    {
      "cell_type": "markdown",
      "metadata": {
        "id": "b3daKzrMZbZl"
      },
      "source": [
        "### Submission"
      ]
    },
    {
      "cell_type": "code",
      "metadata": {
        "id": "eOT9mH9I_fQJ"
      },
      "source": [
        "def get_submission(predictor_h1n1, predictor_seasonal, test_df, path):\n",
        "  '''\n",
        "    Takes one fitted regressor per target value (h1n1 and seasonal_flue) and creates submission file with time stamp.\n",
        "  '''\n",
        "  numeric_cols = features_df.columns[features_df.dtypes != \"object\"].values\n",
        "  num_test_features = test_df[numeric_cols]\n",
        "\n",
        "  # Create array of all numerical features\n",
        "  rows = []\n",
        "  for index, row in num_test_features.iterrows():\n",
        "    rows.append(row.to_numpy(dtype=int))\n",
        "\n",
        "  num_test_array = np.asarray(rows)\n",
        "\n",
        "  # Predict\n",
        "  pred_h1n1 = predictor_h1n1.predict(num_test_array)\n",
        "  pred_seasonal = predictor_seasonal.predict(num_test_array)\n",
        "\n",
        "  # Create submission file\n",
        "  predictions = np.stack([test_df.index.values, pred_h1n1, pred_seasonal], axis=1)\n",
        "  print('Save submission file to Drive...')\n",
        "  path = path+'submissions/'\n",
        "  timestr = time.strftime(\"%d_%m_%Y__%H_%M_%S\")\n",
        "  filename = path + timestr + '.csv'\n",
        "  np.savetxt(filename, predictions, delimiter=',', header=\"respondent_id, h1n1_vaccine, seasonal_vaccine\", comments=\"\")\n",
        "  print('Submission saved! \\n Path to file: '+ filename)"
      ],
      "execution_count": 149,
      "outputs": []
    },
    {
      "cell_type": "code",
      "metadata": {
        "colab": {
          "base_uri": "https://localhost:8080/",
          "height": 303
        },
        "id": "jxKdOGGNRT9M",
        "outputId": "37b66832-e2a0-4d64-9040-ca2b1d173880"
      },
      "source": [
        "get_submission(predictor_h1n1=regr_h1n1, predictor_seasonal=regr_seasonal, test_df=test_df,path=path)"
      ],
      "execution_count": 150,
      "outputs": [
        {
          "output_type": "error",
          "ename": "ValueError",
          "evalue": "ignored",
          "traceback": [
            "\u001b[0;31m---------------------------------------------------------------------------\u001b[0m",
            "\u001b[0;31mValueError\u001b[0m                                Traceback (most recent call last)",
            "\u001b[0;32m<ipython-input-150-c936db95ee3b>\u001b[0m in \u001b[0;36m<module>\u001b[0;34m()\u001b[0m\n\u001b[0;32m----> 1\u001b[0;31m \u001b[0mget_submission\u001b[0m\u001b[0;34m(\u001b[0m\u001b[0mpredictor_h1n1\u001b[0m\u001b[0;34m=\u001b[0m\u001b[0mregr_h1n1\u001b[0m\u001b[0;34m,\u001b[0m \u001b[0mpredictor_seasonal\u001b[0m\u001b[0;34m=\u001b[0m\u001b[0mregr_seasonal\u001b[0m\u001b[0;34m,\u001b[0m \u001b[0mtest_df\u001b[0m\u001b[0;34m=\u001b[0m\u001b[0mtest_df\u001b[0m\u001b[0;34m,\u001b[0m\u001b[0mpath\u001b[0m\u001b[0;34m=\u001b[0m\u001b[0mpath\u001b[0m\u001b[0;34m)\u001b[0m\u001b[0;34m\u001b[0m\u001b[0;34m\u001b[0m\u001b[0m\n\u001b[0m",
            "\u001b[0;32m<ipython-input-149-1944c9bfe957>\u001b[0m in \u001b[0;36mget_submission\u001b[0;34m(predictor_h1n1, predictor_seasonal, test_df, path)\u001b[0m\n\u001b[1;32m     14\u001b[0m \u001b[0;34m\u001b[0m\u001b[0m\n\u001b[1;32m     15\u001b[0m   \u001b[0;31m# Predict\u001b[0m\u001b[0;34m\u001b[0m\u001b[0;34m\u001b[0m\u001b[0;34m\u001b[0m\u001b[0m\n\u001b[0;32m---> 16\u001b[0;31m   \u001b[0mpred_h1n1\u001b[0m \u001b[0;34m=\u001b[0m \u001b[0mpredictor_h1n1\u001b[0m\u001b[0;34m.\u001b[0m\u001b[0mpredict\u001b[0m\u001b[0;34m(\u001b[0m\u001b[0mnum_test_array\u001b[0m\u001b[0;34m)\u001b[0m\u001b[0;34m\u001b[0m\u001b[0;34m\u001b[0m\u001b[0m\n\u001b[0m\u001b[1;32m     17\u001b[0m   \u001b[0mpred_seasonal\u001b[0m \u001b[0;34m=\u001b[0m \u001b[0mpredictor_seasonal\u001b[0m\u001b[0;34m.\u001b[0m\u001b[0mpredict\u001b[0m\u001b[0;34m(\u001b[0m\u001b[0mnum_test_array\u001b[0m\u001b[0;34m)\u001b[0m\u001b[0;34m\u001b[0m\u001b[0;34m\u001b[0m\u001b[0m\n\u001b[1;32m     18\u001b[0m \u001b[0;34m\u001b[0m\u001b[0m\n",
            "\u001b[0;32m/usr/local/lib/python3.7/dist-packages/sklearn/ensemble/_forest.py\u001b[0m in \u001b[0;36mpredict\u001b[0;34m(self, X)\u001b[0m\n\u001b[1;32m    764\u001b[0m         \u001b[0mcheck_is_fitted\u001b[0m\u001b[0;34m(\u001b[0m\u001b[0mself\u001b[0m\u001b[0;34m)\u001b[0m\u001b[0;34m\u001b[0m\u001b[0;34m\u001b[0m\u001b[0m\n\u001b[1;32m    765\u001b[0m         \u001b[0;31m# Check data\u001b[0m\u001b[0;34m\u001b[0m\u001b[0;34m\u001b[0m\u001b[0;34m\u001b[0m\u001b[0m\n\u001b[0;32m--> 766\u001b[0;31m         \u001b[0mX\u001b[0m \u001b[0;34m=\u001b[0m \u001b[0mself\u001b[0m\u001b[0;34m.\u001b[0m\u001b[0m_validate_X_predict\u001b[0m\u001b[0;34m(\u001b[0m\u001b[0mX\u001b[0m\u001b[0;34m)\u001b[0m\u001b[0;34m\u001b[0m\u001b[0;34m\u001b[0m\u001b[0m\n\u001b[0m\u001b[1;32m    767\u001b[0m \u001b[0;34m\u001b[0m\u001b[0m\n\u001b[1;32m    768\u001b[0m         \u001b[0;31m# Assign chunk of trees to jobs\u001b[0m\u001b[0;34m\u001b[0m\u001b[0;34m\u001b[0m\u001b[0;34m\u001b[0m\u001b[0m\n",
            "\u001b[0;32m/usr/local/lib/python3.7/dist-packages/sklearn/ensemble/_forest.py\u001b[0m in \u001b[0;36m_validate_X_predict\u001b[0;34m(self, X)\u001b[0m\n\u001b[1;32m    410\u001b[0m         \u001b[0mcheck_is_fitted\u001b[0m\u001b[0;34m(\u001b[0m\u001b[0mself\u001b[0m\u001b[0;34m)\u001b[0m\u001b[0;34m\u001b[0m\u001b[0;34m\u001b[0m\u001b[0m\n\u001b[1;32m    411\u001b[0m \u001b[0;34m\u001b[0m\u001b[0m\n\u001b[0;32m--> 412\u001b[0;31m         \u001b[0;32mreturn\u001b[0m \u001b[0mself\u001b[0m\u001b[0;34m.\u001b[0m\u001b[0mestimators_\u001b[0m\u001b[0;34m[\u001b[0m\u001b[0;36m0\u001b[0m\u001b[0;34m]\u001b[0m\u001b[0;34m.\u001b[0m\u001b[0m_validate_X_predict\u001b[0m\u001b[0;34m(\u001b[0m\u001b[0mX\u001b[0m\u001b[0;34m,\u001b[0m \u001b[0mcheck_input\u001b[0m\u001b[0;34m=\u001b[0m\u001b[0;32mTrue\u001b[0m\u001b[0;34m)\u001b[0m\u001b[0;34m\u001b[0m\u001b[0;34m\u001b[0m\u001b[0m\n\u001b[0m\u001b[1;32m    413\u001b[0m \u001b[0;34m\u001b[0m\u001b[0m\n\u001b[1;32m    414\u001b[0m     \u001b[0;34m@\u001b[0m\u001b[0mproperty\u001b[0m\u001b[0;34m\u001b[0m\u001b[0;34m\u001b[0m\u001b[0m\n",
            "\u001b[0;32m/usr/local/lib/python3.7/dist-packages/sklearn/tree/_classes.py\u001b[0m in \u001b[0;36m_validate_X_predict\u001b[0;34m(self, X, check_input)\u001b[0m\n\u001b[1;32m    389\u001b[0m                              \u001b[0;34m\"match the input. Model n_features is %s and \"\u001b[0m\u001b[0;34m\u001b[0m\u001b[0;34m\u001b[0m\u001b[0m\n\u001b[1;32m    390\u001b[0m                              \u001b[0;34m\"input n_features is %s \"\u001b[0m\u001b[0;34m\u001b[0m\u001b[0;34m\u001b[0m\u001b[0m\n\u001b[0;32m--> 391\u001b[0;31m                              % (self.n_features_, n_features))\n\u001b[0m\u001b[1;32m    392\u001b[0m \u001b[0;34m\u001b[0m\u001b[0m\n\u001b[1;32m    393\u001b[0m         \u001b[0;32mreturn\u001b[0m \u001b[0mX\u001b[0m\u001b[0;34m\u001b[0m\u001b[0;34m\u001b[0m\u001b[0m\n",
            "\u001b[0;31mValueError\u001b[0m: Number of features of the model must match the input. Model n_features is 105 and input n_features is 23 "
          ]
        }
      ]
    },
    {
      "cell_type": "code",
      "metadata": {
        "id": "oJv05qOij7QC",
        "colab": {
          "base_uri": "https://localhost:8080/"
        },
        "outputId": "36be51b6-0d06-465b-c683-8301cbe360d3"
      },
      "source": [
        "# GradientBoost submission\n",
        "get_submission(predictor_h1n1=GBR_h1n1, predictor_seasonal=GBR_seasonal, test_df=test_df)"
      ],
      "execution_count": null,
      "outputs": [
        {
          "output_type": "stream",
          "text": [
            "Save submission file to Drive...\n",
            "Submission saved! \n",
            " Path to file: /content/drive/MyDrive/Flu_challenge/Predict-H1N1-and-Seasonal-Flu-Vaccines/data/submissions/09_07_2021__11_19_19.csv\n"
          ],
          "name": "stdout"
        }
      ]
    },
    {
      "cell_type": "markdown",
      "metadata": {
        "id": "EGqKKJ3fktk8"
      },
      "source": [
        "Mögliche To Dos:\n",
        "\n",
        "- OneHotEncoding von categorical features, sodass keine features mehr ausgeschlossen werden müssen\n",
        "- Grid search über einige Parameter des RandomForest und GradientBoost\n",
        "- Weiteren Ansatz testen?"
      ]
    },
    {
      "cell_type": "markdown",
      "metadata": {
        "id": "2g1f6CUZyfXS"
      },
      "source": [
        "## Training"
      ]
    },
    {
      "cell_type": "code",
      "metadata": {
        "id": "SNE2S7-JxCN_"
      },
      "source": [
        "estimators = MultiOutputClassifier(\n",
        "    estimator=RandomForestRegressor()\n",
        ")"
      ],
      "execution_count": null,
      "outputs": []
    },
    {
      "cell_type": "code",
      "metadata": {
        "id": "YqPxuJZZxTMC"
      },
      "source": [
        "full_pipeline = Pipeline([\n",
        "    (\"preprocessor\", preprocessor),\n",
        "    (\"estimators\", estimators),\n",
        "])"
      ],
      "execution_count": null,
      "outputs": []
    },
    {
      "cell_type": "code",
      "metadata": {
        "id": "ihjtSwVqxhq9"
      },
      "source": [
        "X_train, X_eval, y_train, y_eval = train_test_split(\n",
        "    features_df,\n",
        "    labels_df,\n",
        "    test_size=0.33,\n",
        "    shuffle=True,\n",
        "    stratify=labels_df,\n",
        "    random_state=RANDOM_SEED\n",
        ")"
      ],
      "execution_count": null,
      "outputs": []
    },
    {
      "cell_type": "code",
      "metadata": {
        "id": "lRuD-9r1xtRG",
        "colab": {
          "base_uri": "https://localhost:8080/",
          "height": 387
        },
        "outputId": "05f3b858-b3f0-4960-af6e-f15ce129097e"
      },
      "source": [
        "%%time\n",
        "\n",
        "# Train model\n",
        "full_pipeline.fit(X_train, y_train)\n",
        "\n",
        "# Predict on evaluation set\n",
        "# This competition wants probabilities, not labels\n",
        "preds = full_pipeline.predict_proba(X_eval)\n",
        "preds"
      ],
      "execution_count": null,
      "outputs": [
        {
          "output_type": "error",
          "ename": "AttributeError",
          "evalue": "ignored",
          "traceback": [
            "\u001b[0;31m---------------------------------------------------------------------------\u001b[0m",
            "\u001b[0;31mAttributeError\u001b[0m                            Traceback (most recent call last)",
            "\u001b[0;32m<ipython-input-50-48e2a3585399>\u001b[0m in \u001b[0;36m<module>\u001b[0;34m()\u001b[0m\n\u001b[0;32m----> 1\u001b[0;31m \u001b[0mget_ipython\u001b[0m\u001b[0;34m(\u001b[0m\u001b[0;34m)\u001b[0m\u001b[0;34m.\u001b[0m\u001b[0mrun_cell_magic\u001b[0m\u001b[0;34m(\u001b[0m\u001b[0;34m'time'\u001b[0m\u001b[0;34m,\u001b[0m \u001b[0;34m''\u001b[0m\u001b[0;34m,\u001b[0m \u001b[0;34m'\\n# Train model\\nfull_pipeline.fit(X_train, y_train)\\n\\n# Predict on evaluation set\\n# This competition wants probabilities, not labels\\npreds = full_pipeline.predict_proba(X_eval)\\npreds'\u001b[0m\u001b[0;34m)\u001b[0m\u001b[0;34m\u001b[0m\u001b[0;34m\u001b[0m\u001b[0m\n\u001b[0m",
            "\u001b[0;32m/usr/local/lib/python3.7/dist-packages/IPython/core/interactiveshell.py\u001b[0m in \u001b[0;36mrun_cell_magic\u001b[0;34m(self, magic_name, line, cell)\u001b[0m\n\u001b[1;32m   2115\u001b[0m             \u001b[0mmagic_arg_s\u001b[0m \u001b[0;34m=\u001b[0m \u001b[0mself\u001b[0m\u001b[0;34m.\u001b[0m\u001b[0mvar_expand\u001b[0m\u001b[0;34m(\u001b[0m\u001b[0mline\u001b[0m\u001b[0;34m,\u001b[0m \u001b[0mstack_depth\u001b[0m\u001b[0;34m)\u001b[0m\u001b[0;34m\u001b[0m\u001b[0;34m\u001b[0m\u001b[0m\n\u001b[1;32m   2116\u001b[0m             \u001b[0;32mwith\u001b[0m \u001b[0mself\u001b[0m\u001b[0;34m.\u001b[0m\u001b[0mbuiltin_trap\u001b[0m\u001b[0;34m:\u001b[0m\u001b[0;34m\u001b[0m\u001b[0;34m\u001b[0m\u001b[0m\n\u001b[0;32m-> 2117\u001b[0;31m                 \u001b[0mresult\u001b[0m \u001b[0;34m=\u001b[0m \u001b[0mfn\u001b[0m\u001b[0;34m(\u001b[0m\u001b[0mmagic_arg_s\u001b[0m\u001b[0;34m,\u001b[0m \u001b[0mcell\u001b[0m\u001b[0;34m)\u001b[0m\u001b[0;34m\u001b[0m\u001b[0;34m\u001b[0m\u001b[0m\n\u001b[0m\u001b[1;32m   2118\u001b[0m             \u001b[0;32mreturn\u001b[0m \u001b[0mresult\u001b[0m\u001b[0;34m\u001b[0m\u001b[0;34m\u001b[0m\u001b[0m\n\u001b[1;32m   2119\u001b[0m \u001b[0;34m\u001b[0m\u001b[0m\n",
            "\u001b[0;32m<decorator-gen-53>\u001b[0m in \u001b[0;36mtime\u001b[0;34m(self, line, cell, local_ns)\u001b[0m\n",
            "\u001b[0;32m/usr/local/lib/python3.7/dist-packages/IPython/core/magic.py\u001b[0m in \u001b[0;36m<lambda>\u001b[0;34m(f, *a, **k)\u001b[0m\n\u001b[1;32m    186\u001b[0m     \u001b[0;31m# but it's overkill for just that one bit of state.\u001b[0m\u001b[0;34m\u001b[0m\u001b[0;34m\u001b[0m\u001b[0;34m\u001b[0m\u001b[0m\n\u001b[1;32m    187\u001b[0m     \u001b[0;32mdef\u001b[0m \u001b[0mmagic_deco\u001b[0m\u001b[0;34m(\u001b[0m\u001b[0marg\u001b[0m\u001b[0;34m)\u001b[0m\u001b[0;34m:\u001b[0m\u001b[0;34m\u001b[0m\u001b[0;34m\u001b[0m\u001b[0m\n\u001b[0;32m--> 188\u001b[0;31m         \u001b[0mcall\u001b[0m \u001b[0;34m=\u001b[0m \u001b[0;32mlambda\u001b[0m \u001b[0mf\u001b[0m\u001b[0;34m,\u001b[0m \u001b[0;34m*\u001b[0m\u001b[0ma\u001b[0m\u001b[0;34m,\u001b[0m \u001b[0;34m**\u001b[0m\u001b[0mk\u001b[0m\u001b[0;34m:\u001b[0m \u001b[0mf\u001b[0m\u001b[0;34m(\u001b[0m\u001b[0;34m*\u001b[0m\u001b[0ma\u001b[0m\u001b[0;34m,\u001b[0m \u001b[0;34m**\u001b[0m\u001b[0mk\u001b[0m\u001b[0;34m)\u001b[0m\u001b[0;34m\u001b[0m\u001b[0;34m\u001b[0m\u001b[0m\n\u001b[0m\u001b[1;32m    189\u001b[0m \u001b[0;34m\u001b[0m\u001b[0m\n\u001b[1;32m    190\u001b[0m         \u001b[0;32mif\u001b[0m \u001b[0mcallable\u001b[0m\u001b[0;34m(\u001b[0m\u001b[0marg\u001b[0m\u001b[0;34m)\u001b[0m\u001b[0;34m:\u001b[0m\u001b[0;34m\u001b[0m\u001b[0;34m\u001b[0m\u001b[0m\n",
            "\u001b[0;32m/usr/local/lib/python3.7/dist-packages/IPython/core/magics/execution.py\u001b[0m in \u001b[0;36mtime\u001b[0;34m(self, line, cell, local_ns)\u001b[0m\n\u001b[1;32m   1191\u001b[0m         \u001b[0;32melse\u001b[0m\u001b[0;34m:\u001b[0m\u001b[0;34m\u001b[0m\u001b[0;34m\u001b[0m\u001b[0m\n\u001b[1;32m   1192\u001b[0m             \u001b[0mst\u001b[0m \u001b[0;34m=\u001b[0m \u001b[0mclock2\u001b[0m\u001b[0;34m(\u001b[0m\u001b[0;34m)\u001b[0m\u001b[0;34m\u001b[0m\u001b[0;34m\u001b[0m\u001b[0m\n\u001b[0;32m-> 1193\u001b[0;31m             \u001b[0mexec\u001b[0m\u001b[0;34m(\u001b[0m\u001b[0mcode\u001b[0m\u001b[0;34m,\u001b[0m \u001b[0mglob\u001b[0m\u001b[0;34m,\u001b[0m \u001b[0mlocal_ns\u001b[0m\u001b[0;34m)\u001b[0m\u001b[0;34m\u001b[0m\u001b[0;34m\u001b[0m\u001b[0m\n\u001b[0m\u001b[1;32m   1194\u001b[0m             \u001b[0mend\u001b[0m \u001b[0;34m=\u001b[0m \u001b[0mclock2\u001b[0m\u001b[0;34m(\u001b[0m\u001b[0;34m)\u001b[0m\u001b[0;34m\u001b[0m\u001b[0;34m\u001b[0m\u001b[0m\n\u001b[1;32m   1195\u001b[0m             \u001b[0mout\u001b[0m \u001b[0;34m=\u001b[0m \u001b[0;32mNone\u001b[0m\u001b[0;34m\u001b[0m\u001b[0;34m\u001b[0m\u001b[0m\n",
            "\u001b[0;32m<timed exec>\u001b[0m in \u001b[0;36m<module>\u001b[0;34m()\u001b[0m\n",
            "\u001b[0;32m/usr/local/lib/python3.7/dist-packages/sklearn/pipeline.py\u001b[0m in \u001b[0;36mfit\u001b[0;34m(self, X, y, **fit_params)\u001b[0m\n\u001b[1;32m    352\u001b[0m                                  self._log_message(len(self.steps) - 1)):\n\u001b[1;32m    353\u001b[0m             \u001b[0;32mif\u001b[0m \u001b[0mself\u001b[0m\u001b[0;34m.\u001b[0m\u001b[0m_final_estimator\u001b[0m \u001b[0;34m!=\u001b[0m \u001b[0;34m'passthrough'\u001b[0m\u001b[0;34m:\u001b[0m\u001b[0;34m\u001b[0m\u001b[0;34m\u001b[0m\u001b[0m\n\u001b[0;32m--> 354\u001b[0;31m                 \u001b[0mself\u001b[0m\u001b[0;34m.\u001b[0m\u001b[0m_final_estimator\u001b[0m\u001b[0;34m.\u001b[0m\u001b[0mfit\u001b[0m\u001b[0;34m(\u001b[0m\u001b[0mXt\u001b[0m\u001b[0;34m,\u001b[0m \u001b[0my\u001b[0m\u001b[0;34m,\u001b[0m \u001b[0;34m**\u001b[0m\u001b[0mfit_params\u001b[0m\u001b[0;34m)\u001b[0m\u001b[0;34m\u001b[0m\u001b[0;34m\u001b[0m\u001b[0m\n\u001b[0m\u001b[1;32m    355\u001b[0m         \u001b[0;32mreturn\u001b[0m \u001b[0mself\u001b[0m\u001b[0;34m\u001b[0m\u001b[0;34m\u001b[0m\u001b[0m\n\u001b[1;32m    356\u001b[0m \u001b[0;34m\u001b[0m\u001b[0m\n",
            "\u001b[0;32m/usr/local/lib/python3.7/dist-packages/sklearn/multioutput.py\u001b[0m in \u001b[0;36mfit\u001b[0;34m(self, X, Y, sample_weight)\u001b[0m\n\u001b[1;32m    358\u001b[0m         \"\"\"\n\u001b[1;32m    359\u001b[0m         \u001b[0msuper\u001b[0m\u001b[0;34m(\u001b[0m\u001b[0;34m)\u001b[0m\u001b[0;34m.\u001b[0m\u001b[0mfit\u001b[0m\u001b[0;34m(\u001b[0m\u001b[0mX\u001b[0m\u001b[0;34m,\u001b[0m \u001b[0mY\u001b[0m\u001b[0;34m,\u001b[0m \u001b[0msample_weight\u001b[0m\u001b[0;34m)\u001b[0m\u001b[0;34m\u001b[0m\u001b[0;34m\u001b[0m\u001b[0m\n\u001b[0;32m--> 360\u001b[0;31m         \u001b[0mself\u001b[0m\u001b[0;34m.\u001b[0m\u001b[0mclasses_\u001b[0m \u001b[0;34m=\u001b[0m \u001b[0;34m[\u001b[0m\u001b[0mestimator\u001b[0m\u001b[0;34m.\u001b[0m\u001b[0mclasses_\u001b[0m \u001b[0;32mfor\u001b[0m \u001b[0mestimator\u001b[0m \u001b[0;32min\u001b[0m \u001b[0mself\u001b[0m\u001b[0;34m.\u001b[0m\u001b[0mestimators_\u001b[0m\u001b[0;34m]\u001b[0m\u001b[0;34m\u001b[0m\u001b[0;34m\u001b[0m\u001b[0m\n\u001b[0m\u001b[1;32m    361\u001b[0m         \u001b[0;32mreturn\u001b[0m \u001b[0mself\u001b[0m\u001b[0;34m\u001b[0m\u001b[0;34m\u001b[0m\u001b[0m\n\u001b[1;32m    362\u001b[0m \u001b[0;34m\u001b[0m\u001b[0m\n",
            "\u001b[0;32m/usr/local/lib/python3.7/dist-packages/sklearn/multioutput.py\u001b[0m in \u001b[0;36m<listcomp>\u001b[0;34m(.0)\u001b[0m\n\u001b[1;32m    358\u001b[0m         \"\"\"\n\u001b[1;32m    359\u001b[0m         \u001b[0msuper\u001b[0m\u001b[0;34m(\u001b[0m\u001b[0;34m)\u001b[0m\u001b[0;34m.\u001b[0m\u001b[0mfit\u001b[0m\u001b[0;34m(\u001b[0m\u001b[0mX\u001b[0m\u001b[0;34m,\u001b[0m \u001b[0mY\u001b[0m\u001b[0;34m,\u001b[0m \u001b[0msample_weight\u001b[0m\u001b[0;34m)\u001b[0m\u001b[0;34m\u001b[0m\u001b[0;34m\u001b[0m\u001b[0m\n\u001b[0;32m--> 360\u001b[0;31m         \u001b[0mself\u001b[0m\u001b[0;34m.\u001b[0m\u001b[0mclasses_\u001b[0m \u001b[0;34m=\u001b[0m \u001b[0;34m[\u001b[0m\u001b[0mestimator\u001b[0m\u001b[0;34m.\u001b[0m\u001b[0mclasses_\u001b[0m \u001b[0;32mfor\u001b[0m \u001b[0mestimator\u001b[0m \u001b[0;32min\u001b[0m \u001b[0mself\u001b[0m\u001b[0;34m.\u001b[0m\u001b[0mestimators_\u001b[0m\u001b[0;34m]\u001b[0m\u001b[0;34m\u001b[0m\u001b[0;34m\u001b[0m\u001b[0m\n\u001b[0m\u001b[1;32m    361\u001b[0m         \u001b[0;32mreturn\u001b[0m \u001b[0mself\u001b[0m\u001b[0;34m\u001b[0m\u001b[0;34m\u001b[0m\u001b[0m\n\u001b[1;32m    362\u001b[0m \u001b[0;34m\u001b[0m\u001b[0m\n",
            "\u001b[0;31mAttributeError\u001b[0m: 'RandomForestRegressor' object has no attribute 'classes_'"
          ]
        }
      ]
    },
    {
      "cell_type": "code",
      "metadata": {
        "id": "g1jZenU7xuvv",
        "colab": {
          "base_uri": "https://localhost:8080/"
        },
        "outputId": "0098e2e3-932c-4abd-f1ab-64692637056f"
      },
      "source": [
        "print(\"test_probas[0].shape\", preds[0].shape)\n",
        "print(\"test_probas[1].shape\", preds[1].shape)"
      ],
      "execution_count": null,
      "outputs": [
        {
          "output_type": "stream",
          "text": [
            "test_probas[0].shape (8814, 2)\n",
            "test_probas[1].shape (8814, 2)\n"
          ],
          "name": "stdout"
        }
      ]
    },
    {
      "cell_type": "code",
      "metadata": {
        "id": "_KyE8XsixypC",
        "colab": {
          "base_uri": "https://localhost:8080/",
          "height": 250
        },
        "outputId": "dbb13883-667f-4759-b15f-e896c61cc08c"
      },
      "source": [
        "y_preds = pd.DataFrame(\n",
        "    {\n",
        "        \"h1n1_vaccine\": preds[0][:, 1],\n",
        "        \"seasonal_vaccine\": preds[1][:, 1],\n",
        "    },\n",
        "    index = y_eval.index\n",
        ")\n",
        "print(\"y_preds.shape:\", y_preds.shape)\n",
        "y_preds.head()"
      ],
      "execution_count": null,
      "outputs": [
        {
          "output_type": "stream",
          "text": [
            "y_preds.shape: (8814, 2)\n"
          ],
          "name": "stdout"
        },
        {
          "output_type": "execute_result",
          "data": {
            "text/html": [
              "<div>\n",
              "<style scoped>\n",
              "    .dataframe tbody tr th:only-of-type {\n",
              "        vertical-align: middle;\n",
              "    }\n",
              "\n",
              "    .dataframe tbody tr th {\n",
              "        vertical-align: top;\n",
              "    }\n",
              "\n",
              "    .dataframe thead th {\n",
              "        text-align: right;\n",
              "    }\n",
              "</style>\n",
              "<table border=\"1\" class=\"dataframe\">\n",
              "  <thead>\n",
              "    <tr style=\"text-align: right;\">\n",
              "      <th></th>\n",
              "      <th>h1n1_vaccine</th>\n",
              "      <th>seasonal_vaccine</th>\n",
              "    </tr>\n",
              "    <tr>\n",
              "      <th>respondent_id</th>\n",
              "      <th></th>\n",
              "      <th></th>\n",
              "    </tr>\n",
              "  </thead>\n",
              "  <tbody>\n",
              "    <tr>\n",
              "      <th>6728</th>\n",
              "      <td>0.291010</td>\n",
              "      <td>0.472780</td>\n",
              "    </tr>\n",
              "    <tr>\n",
              "      <th>16516</th>\n",
              "      <td>0.097770</td>\n",
              "      <td>0.381615</td>\n",
              "    </tr>\n",
              "    <tr>\n",
              "      <th>3106</th>\n",
              "      <td>0.155402</td>\n",
              "      <td>0.629756</td>\n",
              "    </tr>\n",
              "    <tr>\n",
              "      <th>16981</th>\n",
              "      <td>0.661791</td>\n",
              "      <td>0.857876</td>\n",
              "    </tr>\n",
              "    <tr>\n",
              "      <th>19111</th>\n",
              "      <td>0.284478</td>\n",
              "      <td>0.776927</td>\n",
              "    </tr>\n",
              "  </tbody>\n",
              "</table>\n",
              "</div>"
            ],
            "text/plain": [
              "               h1n1_vaccine  seasonal_vaccine\n",
              "respondent_id                                \n",
              "6728               0.291010          0.472780\n",
              "16516              0.097770          0.381615\n",
              "3106               0.155402          0.629756\n",
              "16981              0.661791          0.857876\n",
              "19111              0.284478          0.776927"
            ]
          },
          "metadata": {
            "tags": []
          },
          "execution_count": 52
        }
      ]
    },
    {
      "cell_type": "code",
      "metadata": {
        "id": "4AMWvdw9x6LL"
      },
      "source": [
        "def plot_roc(y_true, y_score, label_name, ax):\n",
        "    fpr, tpr, thresholds = roc_curve(y_true, y_score)\n",
        "    ax.plot(fpr, tpr)\n",
        "    ax.plot([0, 1], [0, 1], color='grey', linestyle='--')\n",
        "    ax.set_ylabel('TPR')\n",
        "    ax.set_xlabel('FPR')\n",
        "    ax.set_title(\n",
        "        f\"{label_name}: AUC = {roc_auc_score(y_true, y_score):.4f}\"\n",
        "    )"
      ],
      "execution_count": null,
      "outputs": []
    },
    {
      "cell_type": "code",
      "metadata": {
        "id": "gVqGl-foyEuF",
        "colab": {
          "base_uri": "https://localhost:8080/",
          "height": 261
        },
        "outputId": "d2300a75-8aaa-49df-deff-91ba44b5a612"
      },
      "source": [
        "fig, ax = plt.subplots(1, 2, figsize=(7, 3.5))\n",
        "\n",
        "plot_roc(\n",
        "    y_eval['h1n1_vaccine'], \n",
        "    y_preds['h1n1_vaccine'], \n",
        "    'h1n1_vaccine',\n",
        "    ax=ax[0]\n",
        ")\n",
        "plot_roc(\n",
        "    y_eval['seasonal_vaccine'], \n",
        "    y_preds['seasonal_vaccine'], \n",
        "    'seasonal_vaccine',\n",
        "    ax=ax[1]\n",
        ")\n",
        "fig.tight_layout()"
      ],
      "execution_count": null,
      "outputs": [
        {
          "output_type": "display_data",
          "data": {
            "image/png": "[encoded data removed]",
            "text/plain": [
              "<Figure size 504x252 with 2 Axes>"
            ]
          },
          "metadata": {
            "tags": [],
            "needs_background": "light"
          }
        }
      ]
    },
    {
      "cell_type": "code",
      "metadata": {
        "id": "l2lNI-oJyGHm",
        "colab": {
          "base_uri": "https://localhost:8080/"
        },
        "outputId": "2fb4eda2-c095-40da-be41-5b8d92bda1d2"
      },
      "source": [
        "roc_auc_score(y_eval, y_preds)"
      ],
      "execution_count": null,
      "outputs": [
        {
          "output_type": "execute_result",
          "data": {
            "text/plain": [
              "0.8294712007285718"
            ]
          },
          "metadata": {
            "tags": []
          },
          "execution_count": 55
        }
      ]
    },
    {
      "cell_type": "code",
      "metadata": {
        "id": "tyG-8ze6yNt9"
      },
      "source": [
        ""
      ],
      "execution_count": null,
      "outputs": []
    }
  ]
}